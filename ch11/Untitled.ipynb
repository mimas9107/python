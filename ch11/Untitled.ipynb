{
 "cells": [
  {
   "cell_type": "markdown",
   "id": "954ea13a-393e-4b34-8637-d0f84d1309cb",
   "metadata": {},
   "source": [
    "# Ch11 類別\n"
   ]
  },
  {
   "cell_type": "code",
   "execution_count": null,
   "id": "86ec3218-8cdf-4e0d-9d2d-a35334f08e24",
   "metadata": {},
   "outputs": [],
   "source": [
    "class Motor:\n",
    "    def buildCar(self, name, color):\n",
    "        self.name=name\n",
    "        self.color=color\n",
    "    def showMessage(self):\n",
    "        print(f\"hello 這台是{self.name}, {self.color}\")\n",
    "\n",
    "car1 = Motor()\n",
    "car1.buildCar('vios','black')\n",
    "car1.showMessage()\n",
    "\n",
    "car2 = Motor()\n",
    "car2.buildCar('altis','silver')\n",
    "car2.showMessage()"
   ]
  },
  {
   "cell_type": "markdown",
   "id": "ecd6d992-9c9e-4366-9278-a88eab758290",
   "metadata": {},
   "source": [
    "### 練習\n",
    "### 設計一個 BankAccount類別"
   ]
  },
  {
   "cell_type": "code",
   "execution_count": null,
   "id": "8e6d9fbf-7bf0-4510-8488-79a5c07b733a",
   "metadata": {},
   "outputs": [],
   "source": [
    "## 設計一個 BankAccount類別\n",
    "import datetime\n",
    "class BankAccount:\n",
    "    # Python銀行\n",
    "\n",
    "    #存款餘額, 應當有私密性, 應當由 method內部才能存取, \n",
    "    _balance=0\n",
    "    _balance_list=[]\n",
    "    \n",
    "    def create(self,name,accid,amount):\n",
    "        ''' name: 帳戶名稱, accid:帳戶編號, amount: 開戶金額'''\n",
    "        self.name=name\n",
    "        self.accid=accid\n",
    "        self.amount=amount\n",
    "        self._balance=self.amount\n",
    "        \n",
    "    def deposit(self,amount):\n",
    "        ''' amount: 存款金額'''\n",
    "        self._balance+=amount\n",
    "        self._balance_list.append({str(datetime.date.today()): ['存款',amount]})\n",
    "        return self._balance\n",
    "        \n",
    "    def withdraw(self,amount):\n",
    "        ''' amount: 提款金額'''\n",
    "        self._balance-=amount\n",
    "        self._balance_list.append({str(datetime.date.today()): ['提款',amount]})\n",
    "        return self._balance\n",
    "        \n",
    "    def printdetail(self):\n",
    "        ''' 列印明細'''\n",
    "        print(f\"帳戶名稱: {self.name}\\n帳戶編號: {self.accid}\\n存款餘額: {self._balance}\")\n",
    "        print(\"=\"*8,\"明細列表\",\"*\"*8)\n",
    "        for e in self._balance_list:\n",
    "            print(e)\n",
    "        \n"
   ]
  },
  {
   "cell_type": "code",
   "execution_count": null,
   "id": "2eeb4c43-171a-41c1-b218-ecdde1bbb5d0",
   "metadata": {},
   "outputs": [],
   "source": [
    "myaccount = BankAccount()\n",
    "myaccount.create('小明','0926889555',5000)\n",
    "\n",
    "myaccount.deposit(10000)\n",
    "myaccount.printdetail()\n",
    "myaccount.withdraw(8000)\n",
    "myaccount.printdetail()"
   ]
  },
  {
   "cell_type": "code",
   "execution_count": null,
   "id": "22e491f3-a515-4ea3-9735-e8825948751e",
   "metadata": {},
   "outputs": [],
   "source": [
    "class newClass:\n",
    "    def __new__(Kind, name):\n",
    "        if name != '':\n",
    "            print(\"object had been created\")\n",
    "            return object.__new__(Kind)\n",
    "        else:\n",
    "            print(\"object had not been created\")\n",
    "            return none\n",
    "    def __init__(self,name):\n",
    "        self.name=name\n",
    "        print(\"object: \",self.name,\"had been established\")\n",
    "        \n",
    "x=newClass('')\n",
    "print(x)\n",
    "y=newClass('second')"
   ]
  },
  {
   "cell_type": "markdown",
   "id": "30d89505-fdfa-4131-a9c9-ab7cecc4c070",
   "metadata": {},
   "source": [
    "## 12/4 \n",
    "### 練習\n",
    "\n",
    "### 設計一個 Dragon類別:\n",
    "#### spec:\n",
    "#### 1. level: int , \n",
    "#### 2. attack: str , \">\"\n",
    "#### 3. getter()\n",
    "#### 4. \\_\\_init__( level, attack)\n",
    "#### 5. getAttack() , getLevel()\n",
    "#### 6. fight() 會重複 level次的 attack, ie. level=6 attack='>>>>>>'\n",
    "\n"
   ]
  },
  {
   "cell_type": "code",
   "execution_count": 75,
   "id": "180a2267-f581-4cb4-8a7b-8be52872373c",
   "metadata": {},
   "outputs": [],
   "source": [
    "class Dragon:\n",
    "    _level:int = 0\n",
    "    _attack:str = '>'\n",
    "    def __init__(self, level, attack):\n",
    "        self._level=level\n",
    "        self._attack=attack\n",
    "    def getAttack(self):\n",
    "        return self._attack\n",
    "    def getLevel(self):\n",
    "        return self._level\n",
    "    def fight(self):\n",
    "        return self._attack*self._level\n",
    "    def __str__(self):\n",
    "        return f\"level {self._level} Dragon has {self._attack} attack\"\n",
    "        "
   ]
  },
  {
   "cell_type": "code",
   "execution_count": 77,
   "id": "31d7f204-15af-46fc-b1ae-9dc2694f46cd",
   "metadata": {},
   "outputs": [],
   "source": [
    "hellodragon=Dragon(6,'>')"
   ]
  },
  {
   "cell_type": "code",
   "execution_count": 27,
   "id": "0c65cea4-0240-48d6-8160-96f4786c538f",
   "metadata": {},
   "outputs": [
    {
     "data": {
      "text/plain": [
       "'>'"
      ]
     },
     "execution_count": 27,
     "metadata": {},
     "output_type": "execute_result"
    }
   ],
   "source": [
    "hellodragon.getAttack()\n"
   ]
  },
  {
   "cell_type": "code",
   "execution_count": 29,
   "id": "f4fde0be-2067-477e-8f44-f29d5cdb4009",
   "metadata": {},
   "outputs": [
    {
     "data": {
      "text/plain": [
       "'%'"
      ]
     },
     "execution_count": 29,
     "metadata": {},
     "output_type": "execute_result"
    }
   ],
   "source": [
    "weekdragon=Dragon(1,'%')\n",
    "weekdragon.fight()"
   ]
  },
  {
   "cell_type": "code",
   "execution_count": 81,
   "id": "323c6256-f0d5-4dfd-bd3d-57096d9e4204",
   "metadata": {},
   "outputs": [
    {
     "name": "stdout",
     "output_type": "stream",
     "text": [
      "level 6 Dragon has > attack\n"
     ]
    }
   ],
   "source": [
    "print(hellodragon)\n",
    "\n"
   ]
  },
  {
   "cell_type": "code",
   "execution_count": 87,
   "id": "719fb63c-0d56-4705-ba1c-10811f247027",
   "metadata": {},
   "outputs": [
    {
     "name": "stdout",
     "output_type": "stream",
     "text": [
      "Circle 被建構了 2次\n"
     ]
    }
   ],
   "source": [
    "class Circle:\n",
    "    _radius=0\n",
    "    cnt=0\n",
    "    def __init__(self, radius):\n",
    "        self._radius=radius\n",
    "        Circle.cnt+=1\n",
    "\n",
    "c1=Circle(5)\n",
    "c2=Circle(10)\n",
    "\n",
    "print(f'Circle 被建構了 {Circle.cnt}次')\n",
    "\n"
   ]
  },
  {
   "cell_type": "markdown",
   "id": "56a874eb-4ff5-4cc1-8849-7098b8af6a39",
   "metadata": {},
   "source": [
    "## 類別方法\n",
    "    @classmethod\n",
    "    def func1(cls,args...):\n",
    "        do something...\n",
    "\n",
    "## 靜態方法\n",
    "    @staticmethod\n",
    "    def func2():\n",
    "        do something..."
   ]
  },
  {
   "cell_type": "code",
   "execution_count": null,
   "id": "508ba227-5d90-4aca-a16f-7cea938fbcc6",
   "metadata": {},
   "outputs": [],
   "source": []
  },
  {
   "cell_type": "markdown",
   "id": "3978cdf2-eaca-4766-a135-f188d6d30c14",
   "metadata": {},
   "source": [
    "### 重載運算子 (overloading operator)\n"
   ]
  },
  {
   "cell_type": "code",
   "execution_count": 93,
   "id": "9b5d6dbe-820f-44c2-bd5b-d331a5ed5e95",
   "metadata": {},
   "outputs": [
    {
     "name": "stdout",
     "output_type": "stream",
     "text": [
      "add:  275\n"
     ]
    }
   ],
   "source": [
    "class Arithm:\n",
    "    def __init__(self, num):\n",
    "        self.value = num\n",
    "    def __add__(self,num):\n",
    "        return Arithm(self.value + num)\n",
    "\n",
    "one=Arithm(255) #建立一個 one為 Arithm物件\n",
    "result=one+20 #one發生+的處理, 用 __add__覆寫的功能來相加.\n",
    "print('add: ', result.value)\n",
    "    "
   ]
  },
  {
   "cell_type": "code",
   "execution_count": 103,
   "id": "79f0236c-61bb-410c-8033-eff0875c3654",
   "metadata": {},
   "outputs": [
    {
     "ename": "TypeError",
     "evalue": "unsupported operand type(s) for +: 'int' and 'Increase'",
     "output_type": "error",
     "traceback": [
      "\u001b[1;31m---------------------------------------------------------------------------\u001b[0m",
      "\u001b[1;31mTypeError\u001b[0m                                 Traceback (most recent call last)",
      "Cell \u001b[1;32mIn[103], line 13\u001b[0m\n\u001b[0;32m     11\u001b[0m k\u001b[38;5;241m=\u001b[39mIncrease(\u001b[38;5;241m7\u001b[39m)\n\u001b[0;32m     12\u001b[0m k\u001b[38;5;241m+\u001b[39m\u001b[38;5;241m18\u001b[39m\n\u001b[1;32m---> 13\u001b[0m \u001b[38;5;241m33\u001b[39m\u001b[38;5;241m+\u001b[39mk\n",
      "\u001b[1;31mTypeError\u001b[0m: unsupported operand type(s) for +: 'int' and 'Increase'"
     ]
    }
   ],
   "source": [
    "class Increase:\n",
    "    def __init__(self, num=0):\n",
    "        self.value=num\n",
    "    def __add__(self,num):\n",
    "        if isinstance(num, Increase):\n",
    "            num=num.value\n",
    "        return self.value+num\n",
    "    # def __radd__(self,num):\n",
    "    #     return num+self.value\n",
    "\n",
    "k=Increase(7)\n",
    "k+18\n",
    "33+k"
   ]
  },
  {
   "cell_type": "markdown",
   "id": "2567a211-5335-4be4-b3bc-f6c4496b5492",
   "metadata": {},
   "source": [
    "## 設計 Fraction類別\n",
    "* num分子 , denom分母\n",
    "* \\_\\_init__(num, denom)\n",
    "* \\_\\_str__(): print( 'fraction: {num}/{denom}')\n",
    "* \\+ : \\_\\_add__()\n",
    "* \\- : \\_\\_sub__()\n",
    "* \\* : \\_\\_mul__()"
   ]
  },
  {
   "cell_type": "code",
   "execution_count": 157,
   "id": "6d9a290e-79c1-485f-b696-2e3756bc54c0",
   "metadata": {},
   "outputs": [
    {
     "name": "stdout",
     "output_type": "stream",
     "text": [
      "f1=2/4\n",
      "f2=3\n",
      "f3=f1+f2=14/4\n",
      "f4=f1-f2=-10/4\n",
      "f5=f1*f2=6/4\n"
     ]
    }
   ],
   "source": [
    "import math\n",
    "## version2, 具有約分功能的分數計算類別, 用 gcd旗標當開關.\n",
    "## version3, 還可以加入後面是加純量進來\n",
    "class Fraction:\n",
    "    gcd=False\n",
    "    def __init__(self, num, denom,gcd=False):\n",
    "        self.num=num\n",
    "        self.denom=denom\n",
    "        if(gcd):\n",
    "            self.gcd=True\n",
    "            \n",
    "    def __str__(self):\n",
    "        if self.num==0:\n",
    "            return 0\n",
    "        elif self.denom==0:\n",
    "            return 'inf'\n",
    "        else:\n",
    "            return f'{self.num}/{self.denom}'\n",
    "        \n",
    "    def __add__(self, frac):\n",
    "        if isinstance(frac,Fraction):\n",
    "            newnum = self.num * frac.denom + frac.num * self.denom\n",
    "            newdenom = self.denom * frac.denom\n",
    "        elif isinstance(frac, int):\n",
    "            newnum = self.num * 1 + frac*self.denom\n",
    "            newdenom = self.denom\n",
    "        \n",
    "        if(self.gcd):\n",
    "            tmp=math.gcd(newnum,newdenom)\n",
    "            newnum=newnum//tmp\n",
    "            newdenom=newdenom//tmp\n",
    "        return Fraction(newnum, newdenom)\n",
    "        \n",
    "    def __mul__(self, frac):\n",
    "        if isinstance(frac,Fraction):\n",
    "            newnum = self.num * frac.num\n",
    "            newdenom = self.denom * frac.denom\n",
    "        elif isinstance(frac, int):\n",
    "            newnum = self.num * frac\n",
    "            newdenom = self.denom\n",
    "        if(self.gcd):\n",
    "            tmp=math.gcd(newnum,newdenom)\n",
    "            newnum=newnum//tmp\n",
    "            newdenom=newdenom//tmp\n",
    "        return Fraction(newnum,newdenom)\n",
    "        \n",
    "    def __sub__(self, frac:Fraction):\n",
    "        if isinstance(frac,Fraction):\n",
    "            newnum = self.num * frac.denom - frac.num * self.denom\n",
    "            newdenom = self.denom * frac.denom\n",
    "        elif isinstance(frac, int):\n",
    "            newnum = self.num * 1 - frac*self.denom\n",
    "            newdenom = self.denom\n",
    "        if(self.gcd):\n",
    "            tmp=math.gcd(newnum,newdenom)\n",
    "            newnum=newnum//tmp\n",
    "            newdenom=newdenom//tmp\n",
    "        return Fraction(newnum, newdenom)\n",
    "\n",
    "f1=Fraction(2,4)\n",
    "f2=3\n",
    "print(f'f1={f1}')\n",
    "print(f'f2={f2}')\n",
    "\n",
    "f3=f1+f2\n",
    "print(f'f3=f1+f2={f3}')\n",
    "\n",
    "f4=f1-f2\n",
    "print(f'f4=f1-f2={f4}')\n",
    "\n",
    "f5=f1*f2\n",
    "print(f'f5=f1*f2={f5}')\n"
   ]
  },
  {
   "cell_type": "code",
   "execution_count": null,
   "id": "5100f411-d4f7-438a-ab8c-8a0dbfce13f4",
   "metadata": {},
   "outputs": [],
   "source": []
  },
  {
   "cell_type": "code",
   "execution_count": null,
   "id": "79ce2a48-cc56-47b9-b75f-81442065479b",
   "metadata": {},
   "outputs": [],
   "source": []
  },
  {
   "cell_type": "code",
   "execution_count": null,
   "id": "c1e2021a-cc9a-425b-8f73-8c3be52dd999",
   "metadata": {},
   "outputs": [],
   "source": []
  },
  {
   "cell_type": "code",
   "execution_count": null,
   "id": "63514755-8fd8-4265-a720-7eb7f62543be",
   "metadata": {},
   "outputs": [],
   "source": []
  }
 ],
 "metadata": {
  "kernelspec": {
   "display_name": "Python 3 (ipykernel)",
   "language": "python",
   "name": "python3"
  },
  "language_info": {
   "codemirror_mode": {
    "name": "ipython",
    "version": 3
   },
   "file_extension": ".py",
   "mimetype": "text/x-python",
   "name": "python",
   "nbconvert_exporter": "python",
   "pygments_lexer": "ipython3",
   "version": "3.12.4"
  }
 },
 "nbformat": 4,
 "nbformat_minor": 5
}
