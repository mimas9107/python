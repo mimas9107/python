{
 "cells": [
  {
   "cell_type": "code",
   "execution_count": null,
   "id": "9003362cdb0ab7da",
   "metadata": {
    "ExecuteTime": {
     "end_time": "2025-01-13T15:24:29.958092Z",
     "start_time": "2025-01-13T15:24:29.943087Z"
    }
   },
   "outputs": [],
   "source": [
    "import os\n",
    "import random\n",
    "from skimage import io, color, exposure\n",
    "import matplotlib.pyplot as plt\n",
    "import numpy as np\n",
    "from sklearn.cluster import KMeans\n",
    "import os\n",
    "os.environ[\"OMP_NUM_THREADS\"] = '1'\n",
    "\n",
    "BLU = 0\n",
    "GRN = 1\n",
    "RED = 2\n",
    "GRY = 3\n",
    "PUBLIC_DATASET_FOLDER = 'dataset2'"
   ]
  },
  {
   "cell_type": "code",
   "execution_count": null,
   "id": "initial_id",
   "metadata": {
    "ExecuteTime": {
     "end_time": "2025-01-13T15:24:29.974087Z",
     "start_time": "2025-01-13T15:24:29.965099Z"
    }
   },
   "outputs": [],
   "source": [
    "def get_image_filenames(folder=PUBLIC_DATASET_FOLDER, short=False):\n",
    "    '''\n",
    "      Parameter:\n",
    "        folder specifies a folder name containing the image dataset, a string\n",
    "            short specifies whether the returned filenames are full-path (by\n",
    "            default) or short filenames, a boolean.\n",
    "      Returns:\n",
    "        img_filenames specifies a list of image filenames, a list.\n",
    "      Does:\n",
    "        Collect all the image filenames under the specified folder.\n",
    "    '''\n",
    "\n",
    "    img_filenames = []\n",
    "    for root, _, files in os.walk(folder):\n",
    "        for f in files:\n",
    "            f = f.lower()\n",
    "            if f.endswith('.jpg') or f.endswith('.jpeg'):\n",
    "                if not short:\n",
    "                    img_path = os.path.join(root, f)\n",
    "                    img_filenames.append(img_path)\n",
    "                else:\n",
    "                    img_filenames.append(f)\n",
    "    return img_filenames"
   ]
  },
  {
   "cell_type": "code",
   "execution_count": null,
   "id": "2d5643ed4ae943d9",
   "metadata": {
    "ExecuteTime": {
     "end_time": "2025-01-13T15:24:30.021160Z",
     "start_time": "2025-01-13T15:24:30.010163Z"
    }
   },
   "outputs": [],
   "source": [
    "def get_image_histograms(img_filenames, channel=RED, normalize=True):\n",
    "    '''\n",
    "      Parameter:\n",
    "        img_filenames specifies a list of image filenames, a list.\n",
    "        channel specifies which color channel or gray scale is applied to form\n",
    "            the histogram, an integer.\n",
    "        normalize specifies whether the frequency of the returned histogram is\n",
    "            normalized to [0, 1] (by default) or not, a boolean.\n",
    "      Returns:\n",
    "        hists stores histograms in a dictionary, in which each key and value\n",
    "            pair corresponds to a pair of an image filename and its histogram,\n",
    "            a dict.\n",
    "      Does:\n",
    "        Collect all the histograms for each image filename according to the\n",
    "            specific color channel or gray scale.\n",
    "    '''\n",
    "    # Dictionary to store histograms\n",
    "    hists = {}\n",
    "    for img_filename in img_filenames:\n",
    "        print(img_filename)\n",
    "        # Read image\n",
    "        img = io.imread(img_filename)\n",
    "\n",
    "        # Calculate histogram\n",
    "        if channel == RED:\n",
    "            hist = exposure.histogram(img[:,:,RED], normalize=normalize, source_range='dtype')[0]\n",
    "        elif channel == GRN:\n",
    "            hist = exposure.histogram(img[:,:,GRN], normalize=normalize, source_range='dtype')[0]\n",
    "        elif channel == BLU:\n",
    "            hist = exposure.histogram(img[:,:,BLU], normalize=normalize, source_range='dtype')[0]\n",
    "        else:\n",
    "            # Convert to grayscale\n",
    "            img_gray = color.rgb2gray(img)\n",
    "            hist = exposure.histogram(img_gray, normalize=normalize)[0]\n",
    "\n",
    "        # Save histogram\n",
    "        hists[img_filename] = hist\n",
    "    return hists"
   ]
  },
  {
   "cell_type": "code",
   "execution_count": null,
   "id": "520b108e58bcc29c",
   "metadata": {
    "ExecuteTime": {
     "end_time": "2025-01-13T15:24:30.068342Z",
     "start_time": "2025-01-13T15:24:30.054345Z"
    }
   },
   "outputs": [],
   "source": [
    "def get_sim_matrix(img_filenames, features, normalize=True, round=True):\n",
    "    '''\n",
    "      Parameter:\n",
    "        img_filenames specifies a list of image filenames, a list.\n",
    "        features specifies a dictionary of image features, where each key\n",
    "            and value pair corresponds to a pair of an image filename and\n",
    "            its feature, a dict.\n",
    "        normalize specifies whether the similarity matrix is normalized to\n",
    "            [0, 1] (by default) or not, a boolean.\n",
    "        round specifies whether the entries in the similarity matrix are\n",
    "            rounded (by default) or not, a boolean.\n",
    "      Returns:\n",
    "        sim_matrix stores a similarity matrix, in which each entry at position\n",
    "            (i, j) is computed as the Euclidean distance between the image\n",
    "            feature i and the image feature j, a numpy.\n",
    "      Does:\n",
    "        Compute a similarity matrix based on the procedure described below.\n",
    "            For each entry located at (i, j) in the matrix, we first get the\n",
    "            filenames of the images i and j. The corresponding features i and j\n",
    "            of the two images are obtained through access to the dictionary\n",
    "            features. Next, we compute their feature similarity based on the\n",
    "            definition of Euclidean distance. As a result, the larger value of\n",
    "            the matrix entry's value indicates the less similarity between the\n",
    "            two images in terms of the specific feature representations.\n",
    "            According to the above process, it is obvious that the matrix is\n",
    "            symmetric since the distance between images i and j is the same\n",
    "            as the distance between images j and i.\n",
    "    '''\n",
    "    # Calculate all pairwise similarities\n",
    "    num_images = len(features)\n",
    "    sim_matrix = np.zeros((num_images, num_images))\n",
    "\n",
    "    for i in range(num_images):\n",
    "        for j in range(i, num_images):\n",
    "            if j > i:\n",
    "                feature_i = features[img_filenames[i]]\n",
    "                feature_j = features[img_filenames[j]]\n",
    "\n",
    "                # Measure histogram distance based on Euclidean distance\n",
    "                if feature_j.size == feature_i.size:\n",
    "                    sim = np.linalg.norm(feature_i - feature_j)\n",
    "                    sim_matrix[i, j] = sim\n",
    "                    sim_matrix[j, i] = sim\n",
    "    if normalize:\n",
    "        sim_matrix = (sim_matrix-np.min(sim_matrix))/(np.max(sim_matrix)-np.min(sim_matrix))\n",
    "    if round:\n",
    "        sim_matrix = np.round(sim_matrix, 4)\n",
    "\n",
    "    return sim_matrix"
   ]
  },
  {
   "cell_type": "code",
   "execution_count": null,
   "id": "956fbc322cc204b5",
   "metadata": {
    "ExecuteTime": {
     "end_time": "2025-01-13T15:24:30.116335Z",
     "start_time": "2025-01-13T15:24:30.103326Z"
    }
   },
   "outputs": [],
   "source": [
    "def vis_sim_matrix(sim_matrix, keys_short, title='Image Similarity Matrix', filename=None):\n",
    "    '''\n",
    "      Parameter:\n",
    "        sim_matrix specifies a similarity matrix, a numpy.\n",
    "        keys_short specifies a list of image filenames in short format,a list.\n",
    "        title specifies the title of the plot of the similarity matrix, a\n",
    "            string. By default, title='Image Similarity Matrix.'\n",
    "        filename specifies the filename to store the plot as an image, a string.\n",
    "            By default, filename=None indicates no need to store the plot as an\n",
    "            image.\n",
    "      Returns:\n",
    "        None.\n",
    "      Does:\n",
    "        Visualize the similarity matrix based on the procedure described below.\n",
    "            Regarding the similarity matrix as 2D scalar data, we invoke the\n",
    "            function imshow, provided by matplotlib, to render a (default)\n",
    "            pseudocolor image, in which a darker pseudocolor indicates much\n",
    "            similarity, while a lighter pseudocolor corresponds to less\n",
    "            similarity. In addition, when rendering the image, for each entry\n",
    "            located at (i, j) in the matrix, its similarity value is also\n",
    "            used to for annotation. As for axes' labels, the short version\n",
    "            of image filename is used to label ticks for both horizontal and\n",
    "            vertical axes. To plot the image in compact format,  we rotate\n",
    "            the labels of the horizontal axis by 45 degrees.\n",
    "    '''\n",
    "    # Visualize similarity matrix\n",
    "    fig, ax = plt.subplots(figsize=(50, 50))\n",
    "    im = ax.imshow(sim_matrix)\n",
    "\n",
    "    # Label axes\n",
    "    ax.set_xticks(np.arange(len(keys_short)), labels=keys_short)\n",
    "    ax.set_yticks(np.arange(len(keys_short)), labels=keys_short)\n",
    "\n",
    "    # Rotate labels\n",
    "    plt.setp(ax.get_xticklabels(), rotation=45, ha=\"right\", rotation_mode=\"anchor\")\n",
    "\n",
    "    # Annotate matrix values\n",
    "    for i in range(len(keys_short)):\n",
    "        for j in range(len(keys_short)):\n",
    "            ax.text(j, i, sim_matrix[i, j], ha=\"center\", va=\"center\", color=\"w\")\n",
    "\n",
    "    ax.set_title(title)\n",
    "    fig.tight_layout()\n",
    "    if filename is not None:\n",
    "        plt.savefig(filename)\n",
    "    plt.show()"
   ]
  },
  {
   "cell_type": "code",
   "execution_count": null,
   "id": "ffe859e875d34127",
   "metadata": {
    "ExecuteTime": {
     "end_time": "2025-01-13T15:24:30.164335Z",
     "start_time": "2025-01-13T15:24:30.151330Z"
    }
   },
   "outputs": [],
   "source": [
    "def concatenate_histograms(hists_red, hists_grn, hists_blu):\n",
    "    '''\n",
    "      Parameter:\n",
    "        hists_red, hists_grn, hists_blu specify dictionaries containing histograms\n",
    "            for the red, green, and blue channels respectively, dict.\n",
    "      Returns:\n",
    "        concatenated_hists stores concatenated histograms in a dictionary, in which\n",
    "            each key and value pair corresponds to a pair of an image filename and\n",
    "            its concatenated histogram, a dict.\n",
    "      Does:\n",
    "        Concatenate histograms from the red, green, and blue channels for each image.\n",
    "    '''\n",
    "    concatenated_hists = {}\n",
    "    for key in hists_red:\n",
    "        concatenated_hists[key] = np.concatenate((hists_red[key], hists_grn[key], hists_blu[key]))\n",
    "    return concatenated_hists\n"
   ]
  },
  {
   "cell_type": "code",
   "execution_count": null,
   "id": "1669af29bf7d6726",
   "metadata": {
    "ExecuteTime": {
     "end_time": "2025-01-13T15:24:30.210337Z",
     "start_time": "2025-01-13T15:24:30.198327Z"
    }
   },
   "outputs": [],
   "source": [
    "def sort_filenames_by_cluster(filenames, predictions):\n",
    "    '''\n",
    "      Parameter:\n",
    "        filenames specifies a list of image filenames, a list.\n",
    "        predictions specifies a list of cluster labels, a list.\n",
    "      Returns:\n",
    "        sorted_filenames specifies a list of image filenames sorted by cluster labels, a list.\n",
    "      Does:\n",
    "        Sort the image filenames based on the cluster labels.\n",
    "    '''\n",
    "    # Create a list of tuples (filename, cluster label)\n",
    "    filename_cluster_pairs = list(zip(filenames, predictions))\n",
    "\n",
    "    # Sort the list of tuples based on the cluster labels\n",
    "    sorted_filename_cluster_pairs = sorted(filename_cluster_pairs, key=lambda x: x[1])\n",
    "\n",
    "    # Extract the sorted filenames\n",
    "    sorted_filenames = [pair[0] for pair in sorted_filename_cluster_pairs]\n",
    "\n",
    "    return sorted_filenames"
   ]
  },
  {
   "cell_type": "code",
   "execution_count": null,
   "id": "55da1d29-c151-42c1-8f91-4fa78db41fd4",
   "metadata": {
    "ExecuteTime": {
     "end_time": "2025-01-13T15:29:15.200933Z",
     "start_time": "2025-01-13T15:28:51.347280Z"
    }
   },
   "outputs": [],
   "source": [
    "filenames = get_image_filenames(PUBLIC_DATASET_FOLDER)\n",
    "filenames_short = get_image_filenames(PUBLIC_DATASET_FOLDER, short=True)"
   ]
  },
  {
   "cell_type": "code",
   "execution_count": null,
   "id": "182138bf-a064-4422-9895-4b99ab0130a6",
   "metadata": {},
   "outputs": [],
   "source": [
    "filenames_short"
   ]
  },
  {
   "cell_type": "code",
   "execution_count": null,
   "id": "9190dc22-b10e-4aa2-b813-8c75d0181e12",
   "metadata": {
    "ExecuteTime": {
     "end_time": "2025-01-13T15:29:15.200933Z",
     "start_time": "2025-01-13T15:28:51.347280Z"
    }
   },
   "outputs": [],
   "source": [
    "# Pair the filenames and filenames_short\n",
    "paired_filenames = list(zip(filenames, filenames_short))\n",
    "\n",
    "# Shuffle the pairs\n",
    "random.shuffle(paired_filenames)"
   ]
  },
  {
   "cell_type": "code",
   "execution_count": null,
   "id": "c5b62fd6-5c2b-4154-9942-fa146e164392",
   "metadata": {
    "ExecuteTime": {
     "end_time": "2025-01-13T15:29:15.200933Z",
     "start_time": "2025-01-13T15:28:51.347280Z"
    }
   },
   "outputs": [],
   "source": [
    "# Unzip the pairs back into two lists\n",
    "filenames, filenames_short = zip(*paired_filenames)"
   ]
  },
  {
   "cell_type": "code",
   "execution_count": null,
   "id": "6c54d97f-5e00-4b90-b9f0-20d8c72d32f1",
   "metadata": {},
   "outputs": [],
   "source": [
    "filenames"
   ]
  },
  {
   "cell_type": "code",
   "execution_count": null,
   "id": "4441f046-44c3-4956-b770-de524ab40162",
   "metadata": {
    "ExecuteTime": {
     "end_time": "2025-01-13T15:29:15.200933Z",
     "start_time": "2025-01-13T15:28:51.347280Z"
    }
   },
   "outputs": [],
   "source": [
    "# Convert the tuples back to lists\n",
    "filenames = list(filenames)\n",
    "filenames_short = list(filenames_short)"
   ]
  },
  {
   "cell_type": "code",
   "execution_count": null,
   "id": "eb9c7c86-9449-4c5b-b1a5-1bdca906d9f6",
   "metadata": {
    "ExecuteTime": {
     "end_time": "2025-01-13T15:29:15.200933Z",
     "start_time": "2025-01-13T15:28:51.347280Z"
    }
   },
   "outputs": [],
   "source": [
    "hists_red = get_image_histograms(filenames, channel=RED)\n",
    "hists_grn = get_image_histograms(filenames, channel=GRN)\n",
    "hists_blu = get_image_histograms(filenames, channel=BLU)"
   ]
  },
  {
   "cell_type": "code",
   "execution_count": null,
   "id": "fb411441-a562-4cf6-8fc4-266d6af97e16",
   "metadata": {},
   "outputs": [],
   "source": [
    "for key in hists_red:\n",
    "    print(hists_red[key].shape)"
   ]
  },
  {
   "cell_type": "code",
   "execution_count": null,
   "id": "a9878a2e-2862-4106-a9f0-10b06b9f5460",
   "metadata": {
    "ExecuteTime": {
     "end_time": "2025-01-13T15:29:15.200933Z",
     "start_time": "2025-01-13T15:28:51.347280Z"
    }
   },
   "outputs": [],
   "source": [
    "concatenated_hists = concatenate_histograms(hists_red, hists_grn, hists_blu)\n",
    "\n",
    "stacked_hists = np.vstack(list(concatenated_hists.values()))\n",
    "stacked_hists.shape"
   ]
  },
  {
   "cell_type": "code",
   "execution_count": null,
   "id": "2841dd27c19bd41",
   "metadata": {
    "ExecuteTime": {
     "end_time": "2025-01-13T15:29:31.175421Z",
     "start_time": "2025-01-13T15:29:19.070402Z"
    }
   },
   "outputs": [],
   "source": [
    "sim_matrix = get_sim_matrix(filenames, concatenated_hists)\n",
    "vis_sim_matrix(sim_matrix, filenames_short, filename='sim_matrix_orig.png')"
   ]
  },
  {
   "cell_type": "code",
   "execution_count": null,
   "id": "7e057f75-16e4-433b-b6d0-40edb34579d4",
   "metadata": {
    "ExecuteTime": {
     "end_time": "2025-01-13T15:30:20.266847Z",
     "start_time": "2025-01-13T15:30:20.240864Z"
    }
   },
   "outputs": [],
   "source": [
    "# Perform KMeans clustering\n",
    "kmeans = KMeans(n_clusters=15, random_state=42).fit(stacked_hists)\n",
    "\n",
    "# Get the prediction results\n",
    "predictions = kmeans.predict(stacked_hists)\n",
    "print(predictions)"
   ]
  },
  {
   "cell_type": "code",
   "execution_count": null,
   "id": "e114f9b5-77f0-44ea-bd36-2ef0c7ecd5c6",
   "metadata": {
    "ExecuteTime": {
     "end_time": "2025-01-13T15:30:20.266847Z",
     "start_time": "2025-01-13T15:30:20.240864Z"
    }
   },
   "outputs": [],
   "source": [
    "# Extract the sorted filenames\n",
    "sorted_filenames = sort_filenames_by_cluster(filenames, predictions)\n",
    "sorted_filenames_short = sort_filenames_by_cluster(filenames_short, predictions)\n",
    "\n",
    "# Print sorted filenames\n",
    "for filename in sorted_filenames:\n",
    "    print(filename)"
   ]
  },
  {
   "cell_type": "code",
   "execution_count": null,
   "id": "d2d972495b0e5c11",
   "metadata": {
    "ExecuteTime": {
     "end_time": "2025-01-13T15:30:53.496733Z",
     "start_time": "2025-01-13T15:30:29.262724Z"
    }
   },
   "outputs": [],
   "source": [
    "hists_red = get_image_histograms(sorted_filenames, channel=RED)\n",
    "hists_grn = get_image_histograms(sorted_filenames, channel=GRN)\n",
    "hists_blu = get_image_histograms(sorted_filenames, channel=BLU)\n",
    "\n",
    "concatenated_hists = concatenate_histograms(hists_red, hists_grn, hists_blu)"
   ]
  },
  {
   "cell_type": "code",
   "execution_count": null,
   "id": "e505294d443f7573",
   "metadata": {
    "ExecuteTime": {
     "end_time": "2025-01-13T15:31:10.719186Z",
     "start_time": "2025-01-13T15:30:58.395172Z"
    }
   },
   "outputs": [],
   "source": [
    "sim_matrix = get_sim_matrix(sorted_filenames, concatenated_hists)\n",
    "vis_sim_matrix(sim_matrix, sorted_filenames_short, filename='sim_matrix_kmeans.png')"
   ]
  },
  {
   "cell_type": "code",
   "execution_count": null,
   "id": "1d198a12697fbe2c",
   "metadata": {},
   "outputs": [],
   "source": []
  }
 ],
 "metadata": {
  "kernelspec": {
   "display_name": "Python [conda env:base] *",
   "language": "python",
   "name": "conda-base-py"
  },
  "language_info": {
   "codemirror_mode": {
    "name": "ipython",
    "version": 3
   },
   "file_extension": ".py",
   "mimetype": "text/x-python",
   "name": "python",
   "nbconvert_exporter": "python",
   "pygments_lexer": "ipython3",
   "version": "3.12.4"
  }
 },
 "nbformat": 4,
 "nbformat_minor": 5
}
