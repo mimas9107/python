{
 "cells": [
  {
   "cell_type": "markdown",
   "id": "3635c1e3-a606-4eb3-8f3e-3713fd894029",
   "metadata": {},
   "source": [
    "## OpenCV練習"
   ]
  },
  {
   "cell_type": "code",
   "execution_count": 1,
   "id": "9535ac4e-5c56-489d-bc7a-3730486bf069",
   "metadata": {},
   "outputs": [],
   "source": [
    "import numpy as np\n",
    "import cv2"
   ]
  },
  {
   "cell_type": "code",
   "execution_count": 4,
   "id": "380291d6-65ac-4d4b-bc7a-c96dcca33ee9",
   "metadata": {},
   "outputs": [],
   "source": [
    "\n",
    "img1=cv2.imread('Breakfast.bmp',cv2.IMREAD_UNCHANGED)\n",
    "img1=img1.astype('float64')\n",
    "# img2=cv2.imread('Lenna_24b.bmp',cv2.IMREAD_UNCHANGED)\n",
    "\n",
    "img2=img1-128\n",
    "img2[img2> 255]=255\n",
    "img2[img2< 10]=0\n",
    "\n",
    "img1=img1.astype('uint8')\n",
    "img2=img2.astype('uint8')\n",
    "\n",
    "cv2.imshow(\"img1\",img1)\n",
    "cv2.imshow(\"img2=img1+50\",img2)\n",
    "\n",
    "\n",
    "\n",
    "# diff=img2-img1\n",
    "\n",
    "# diff_max=np.max(diff)\n",
    "# diff_min=np.min(diff)\n",
    "# diff=diff/diff_max*255+0.5\n",
    "# diff=diff.astype('uint8')\n",
    "# cv2.imshow('diff',diff)\n",
    "\n",
    "cv2.waitKey(0)\n",
    "\n",
    "cv2.destroyAllWindows()"
   ]
  },
  {
   "cell_type": "code",
   "execution_count": null,
   "id": "9d00aac8-38d7-4ff8-8c90-227a00b4a43d",
   "metadata": {},
   "outputs": [],
   "source": []
  },
  {
   "cell_type": "code",
   "execution_count": null,
   "id": "2c00846e-d0ba-40e1-9215-71e47b1f4340",
   "metadata": {},
   "outputs": [],
   "source": []
  },
  {
   "cell_type": "code",
   "execution_count": null,
   "id": "8e0c5c09-605a-4f82-977e-6a5867a34426",
   "metadata": {},
   "outputs": [],
   "source": []
  },
  {
   "cell_type": "code",
   "execution_count": null,
   "id": "f538d20b-1083-4667-b7eb-bcc5e83eeb6f",
   "metadata": {},
   "outputs": [],
   "source": []
  }
 ],
 "metadata": {
  "kernelspec": {
   "display_name": "Python 3 (ipykernel)",
   "language": "python",
   "name": "python3"
  },
  "language_info": {
   "codemirror_mode": {
    "name": "ipython",
    "version": 3
   },
   "file_extension": ".py",
   "mimetype": "text/x-python",
   "name": "python",
   "nbconvert_exporter": "python",
   "pygments_lexer": "ipython3",
   "version": "3.12.4"
  }
 },
 "nbformat": 4,
 "nbformat_minor": 5
}
