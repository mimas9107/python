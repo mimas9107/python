{
 "cells": [
  {
   "cell_type": "markdown",
   "id": "5bf7d8ba-4b01-44af-8aff-396f53183e10",
   "metadata": {},
   "source": [
    "# Ch09 函數"
   ]
  },
  {
   "cell_type": "markdown",
   "id": "b93613e2-2474-4af4-a5b5-2c4135a14a8b",
   "metadata": {},
   "source": [
    "### 定義:\n",
    "```\n",
    "def myfunc(arg1,arg2,arg3......):\n",
    "\n",
    "    print(\"hello\", arg1, arg2, arg3)\n",
    "\n",
    "    return \"hello world\"+arg1+arg3+arg2\n",
    "```\n",
    "arg1,arg2,arg3 => 形式參數\n"
   ]
  },
  {
   "cell_type": "code",
   "execution_count": 3,
   "id": "f16a8b23-dc0b-4e77-ad69-ef3c00788554",
   "metadata": {},
   "outputs": [
    {
     "name": "stdout",
     "output_type": "stream",
     "text": [
      "a <=> 97\n",
      "b <=> 98\n",
      "c <=> 99\n",
      "d <=> 100\n",
      "e <=> 101\n",
      "f <=> 102\n",
      "g <=> 103\n",
      "h <=> 104\n",
      "i <=> 105\n",
      "j <=> 106\n",
      "k <=> 107\n",
      "l <=> 108\n",
      "m <=> 109\n",
      "n <=> 110\n",
      "o <=> 111\n",
      "p <=> 112\n",
      "q <=> 113\n",
      "r <=> 114\n",
      "s <=> 115\n",
      "t <=> 116\n",
      "u <=> 117\n",
      "v <=> 118\n",
      "w <=> 119\n",
      "x <=> 120\n",
      "y <=> 121\n",
      "z <=> 122\n"
     ]
    }
   ],
   "source": [
    "start=97\n",
    "end=start+26\n",
    "for i in range(start,end):\n",
    "    letter=chr(i)\n",
    "    print(letter,\"<=>\", i)"
   ]
  },
  {
   "cell_type": "code",
   "execution_count": 53,
   "id": "a7e5f78c-e873-48d9-985a-68558e1c931f",
   "metadata": {},
   "outputs": [],
   "source": [
    "## 我自己測試: \n",
    "def myfunc(n):\n",
    "    print(\"遞迴 :\",n)\n",
    "    if n==0:        \n",
    "        return n\n",
    "    else:        \n",
    "        return n+myfunc(n-2)\n"
   ]
  },
  {
   "cell_type": "code",
   "execution_count": 55,
   "id": "ae55a9d7-88ea-4165-a5d9-3688e8ce7431",
   "metadata": {},
   "outputs": [
    {
     "name": "stdout",
     "output_type": "stream",
     "text": [
      "遞迴 : 10\n",
      "遞迴 : 8\n",
      "遞迴 : 6\n",
      "遞迴 : 4\n",
      "遞迴 : 2\n",
      "遞迴 : 0\n",
      "30\n"
     ]
    }
   ],
   "source": [
    "print(myfunc(10))"
   ]
  },
  {
   "cell_type": "code",
   "execution_count": 79,
   "id": "d45ccab8-3ef7-41ee-8116-2589d0682088",
   "metadata": {},
   "outputs": [],
   "source": [
    "## 我自己測試 lambda匿名函式:\n",
    "l=lambda x: \" \"*(7-x)+\"x\"*x"
   ]
  },
  {
   "cell_type": "code",
   "execution_count": 99,
   "id": "ab9916db-4995-4f1f-9ee8-f1d1ac6d5073",
   "metadata": {},
   "outputs": [
    {
     "name": "stdout",
     "output_type": "stream",
     "text": [
      "      x\n",
      "     xx\n",
      "    xxx\n",
      "   xxxx\n",
      "  xxxxx\n",
      " xxxxxx\n",
      "xxxxxxx\n",
      "xxxxxxx\n",
      " xxxxxx\n",
      "  xxxxx\n",
      "   xxxx\n",
      "    xxx\n",
      "     xx\n",
      "      x\n"
     ]
    }
   ],
   "source": [
    "for i in range(1,15,1):\n",
    "    print(l(i) if i<8 else l(15-i))"
   ]
  },
  {
   "cell_type": "code",
   "execution_count": 101,
   "id": "3594c649-9a0d-4b30-b192-36a065562902",
   "metadata": {},
   "outputs": [],
   "source": [
    "def myfunc2(a,b,c):\n",
    "    l=lambda x: \" \"*(a-x)+\"x\"*x\n",
    "    return l"
   ]
  },
  {
   "cell_type": "code",
   "execution_count": 105,
   "id": "1d62e22a-6f02-4471-a13b-136585c75f9e",
   "metadata": {},
   "outputs": [
    {
     "name": "stdout",
     "output_type": "stream",
     "text": [
      "x\n",
      "xx\n",
      "xxx\n",
      "xxxx\n",
      "xxxxx\n",
      "xxxxxx\n",
      "xxxxxxx\n"
     ]
    }
   ],
   "source": [
    "for i in range(1,8):\n",
    "    print(myfunc2(i,0,0)(i))\n"
   ]
  },
  {
   "cell_type": "code",
   "execution_count": 115,
   "id": "5b1acef0-6361-42f4-8285-fa83b6c7240f",
   "metadata": {},
   "outputs": [
    {
     "name": "stdout",
     "output_type": "stream",
     "text": [
      "1891665558576\n",
      "140712026458360\n",
      "myname 1891665558576\n",
      "mynum 140712026458360\n",
      "----\n",
      "1891665558576 140712026458360\n",
      "myname 1891665558576\n",
      "mynum 140712026458360\n"
     ]
    }
   ],
   "source": [
    "def myfunc3(myname, mynum):\n",
    "    \n",
    "    print(\"myname\",id(myname))\n",
    "    print(\"mynum\",id(mynum))\n",
    "\n",
    "mname=\"hello\"\n",
    "mnum=123\n",
    "\n",
    "print(id(mname))\n",
    "print(id(mnum))\n",
    "\n",
    "myfunc3(mname,mnum)\n",
    "\n",
    "print('----')\n",
    "print(id(\"hello\"), id(123))\n",
    "myfunc3(\"hello\",123)"
   ]
  },
  {
   "cell_type": "markdown",
   "id": "cb05c39b-874c-4e12-bc91-78ec0694c51e",
   "metadata": {},
   "source": [
    "### 上面 myfunc3執行的結果打個問號, 到底哪裡有 傳copy了?\n",
    "\n",
    "https://medium.com/starbugs/python-%E4%B8%80%E6%AC%A1%E6%90%9E%E6%87%82-pass-by-value-pass-by-reference-%E8%88%87-pass-by-sharing-1873a2c6ac46"
   ]
  },
  {
   "cell_type": "code",
   "execution_count": 122,
   "id": "4f0a5ccb-e98d-4c72-b8e9-4ab63da91a50",
   "metadata": {},
   "outputs": [
    {
     "name": "stdout",
     "output_type": "stream",
     "text": [
      "before:  [75, 68]\n",
      "after:  [75, 68, 47]\n"
     ]
    }
   ],
   "source": [
    "## 可變 不可變物件在 func中被修改, 對於引數傳遞影響?\n",
    "def passfun(scores):\n",
    "    scores.append(47)\n",
    "\n",
    "sc=[75,68]\n",
    "print(\"before: \", sc)\n",
    "passfun(sc)\n",
    "print(\"after: \",sc)"
   ]
  },
  {
   "cell_type": "code",
   "execution_count": 126,
   "id": "924a5d9a-f6c7-482a-b85d-17d6c51f59d5",
   "metadata": {},
   "outputs": [
    {
     "name": "stdout",
     "output_type": "stream",
     "text": [
      "[2]\n",
      "[2, 5]\n",
      "[2, 5, 10]\n",
      "====\n",
      "[2]\n",
      "[5]\n",
      "[10]\n"
     ]
    }
   ],
   "source": [
    "## 意想不到的結果:\n",
    "def number(a,b=[]): ## 這樣寫法要小心預設參數會有的問題!!!\n",
    "    b.append(a)\n",
    "    print(b)\n",
    "\n",
    "number(2)\n",
    "number(5)\n",
    "number(10)\n",
    "print(\"====\")\n",
    "number(2,b=[])\n",
    "number(5,b=[])\n",
    "number(10,b=[])"
   ]
  },
  {
   "cell_type": "markdown",
   "id": "d4def148-9c65-4292-9bdc-5a8e1b4c0836",
   "metadata": {},
   "source": [
    "### \"*\" => 打包成tuple \n",
    "### \"**\" => 打包成dict\n"
   ]
  },
  {
   "cell_type": "code",
   "execution_count": 139,
   "id": "19a5ec41-8c96-49f2-bf5e-7e89a90c96cd",
   "metadata": {},
   "outputs": [
    {
     "name": "stdout",
     "output_type": "stream",
     "text": [
      "score: {'eng': 52, 'comp': 93, 'math': 62}\n"
     ]
    }
   ],
   "source": [
    "def score(**value):\n",
    "    print('score:',value)\n",
    "\n",
    "score(eng=52,comp=93,math=62) ## 呼叫函式, 並用關鍵字引數方式傳遞進去, 要用 key=value, key=value, ...方式"
   ]
  },
  {
   "cell_type": "code",
   "execution_count": 149,
   "id": "c2578c1e-f859-4c6b-b6eb-fd2c86bbcee1",
   "metadata": {},
   "outputs": [
    {
     "name": "stdout",
     "output_type": "stream",
     "text": [
      "{'url': 'localhost', 'method': 'GET', 'User_Agent': 'mozilla'}\n"
     ]
    }
   ],
   "source": [
    "def header(**kargs):\n",
    "    url=kargs['url']\n",
    "    method=kargs['method']\n",
    "    user_agent=kargs['User_Agent']\n",
    "    return {'url':url, 'method':method, 'User_Agent':user_agent}\n",
    "print(header(User_Agent='mozilla', method='GET', url='localhost'))\n"
   ]
  },
  {
   "cell_type": "markdown",
   "id": "8293860f-c4b2-4712-a66d-de0272ed9bf4",
   "metadata": {},
   "source": [
    "### 改變全域變數值:\n",
    "加上 global"
   ]
  },
  {
   "cell_type": "code",
   "execution_count": 163,
   "id": "6be3d209-adcb-4fab-b926-ac7d3f3887a2",
   "metadata": {},
   "outputs": [
    {
     "ename": "UnboundLocalError",
     "evalue": "cannot access local variable 'mmm' where it is not associated with a value",
     "output_type": "error",
     "traceback": [
      "\u001b[1;31m---------------------------------------------------------------------------\u001b[0m",
      "\u001b[1;31mUnboundLocalError\u001b[0m                         Traceback (most recent call last)",
      "Cell \u001b[1;32mIn[163], line 7\u001b[0m\n\u001b[0;32m      4\u001b[0m     \u001b[38;5;28mprint\u001b[39m(mmm)\n\u001b[0;32m      5\u001b[0m     mmm\u001b[38;5;241m=\u001b[39m\u001b[38;5;124m'\u001b[39m\u001b[38;5;124mworld\u001b[39m\u001b[38;5;124m'\u001b[39m \u001b[38;5;66;03m##<=此時 mmm是 demo()函數中的區域變數, 但會與外面的全域變數 mmm混淆, python會噴錯\u001b[39;00m\n\u001b[1;32m----> 7\u001b[0m demo()\n\u001b[0;32m      8\u001b[0m \u001b[38;5;28mprint\u001b[39m(mmm)\n",
      "Cell \u001b[1;32mIn[163], line 4\u001b[0m, in \u001b[0;36mdemo\u001b[1;34m()\u001b[0m\n\u001b[0;32m      2\u001b[0m \u001b[38;5;28;01mdef\u001b[39;00m \u001b[38;5;21mdemo\u001b[39m():\n\u001b[1;32m----> 4\u001b[0m     \u001b[38;5;28mprint\u001b[39m(mmm)\n\u001b[0;32m      5\u001b[0m     mmm\u001b[38;5;241m=\u001b[39m\u001b[38;5;124m'\u001b[39m\u001b[38;5;124mworld\u001b[39m\u001b[38;5;124m'\u001b[39m\n",
      "\u001b[1;31mUnboundLocalError\u001b[0m: cannot access local variable 'mmm' where it is not associated with a value"
     ]
    }
   ],
   "source": [
    "mmm=\"hello\"\n",
    "def demo():\n",
    "   \n",
    "    print(mmm)\n",
    "    mmm='world' ##<=此時 mmm是 demo()函數中的區域變數, 但會與外面的全域變數 mmm混淆, python會噴錯 UnboundLocalError:\n",
    "\n",
    "demo()\n",
    "print(mmm)"
   ]
  },
  {
   "cell_type": "code",
   "execution_count": 168,
   "id": "c09dcc6c-d884-4856-b200-05d01ef6b8a9",
   "metadata": {},
   "outputs": [
    {
     "name": "stdout",
     "output_type": "stream",
     "text": [
      "hello\n",
      "world\n"
     ]
    }
   ],
   "source": [
    "def demo2():\n",
    "    global mmm\n",
    "    print(mmm)\n",
    "    mmm='world'\n",
    "\n",
    "demo2()\n",
    "print(mmm)"
   ]
  },
  {
   "cell_type": "code",
   "execution_count": 192,
   "id": "b07a7f38-1929-4648-b50c-55327c962bec",
   "metadata": {},
   "outputs": [],
   "source": [
    "def student(*score):\n",
    "    print(*score)\n",
    "    return sum(score)"
   ]
  },
  {
   "cell_type": "code",
   "execution_count": 196,
   "id": "15e4cfb1-5988-45fc-a56b-614a3fb3f05f",
   "metadata": {},
   "outputs": [
    {
     "name": "stdout",
     "output_type": "stream",
     "text": [
      "1 23 4 567\n",
      "595\n"
     ]
    }
   ],
   "source": [
    "print(student(1,23,4,567))\n"
   ]
  },
  {
   "cell_type": "code",
   "execution_count": 202,
   "id": "3519d366-a161-489b-8d64-517e96836918",
   "metadata": {},
   "outputs": [],
   "source": [
    "## 依照 pern裏頭, key會參照元素 item的 item=()[0], 去作 sort\n",
    "\n",
    "pern=[('Mary',1988,'a'),('David',1992,'c'),('Andy',1999,'b')]\n",
    "st=lambda item: item[1]\n",
    "\n",
    "pern.sort(key=st)"
   ]
  },
  {
   "cell_type": "code",
   "execution_count": 204,
   "id": "ae171555-1588-4135-aaf3-b52ebbbc5b78",
   "metadata": {},
   "outputs": [
    {
     "name": "stdout",
     "output_type": "stream",
     "text": [
      "[('Mary', 1988, 'a'), ('David', 1992, 'c'), ('Andy', 1999, 'b')]\n"
     ]
    }
   ],
   "source": [
    "print(pern)"
   ]
  },
  {
   "cell_type": "code",
   "execution_count": null,
   "id": "b0830800-0c86-4bd5-ab36-7abda95d5210",
   "metadata": {},
   "outputs": [],
   "source": []
  },
  {
   "cell_type": "code",
   "execution_count": null,
   "id": "cc6a9a40-6c52-491d-96ed-000b3834bf51",
   "metadata": {},
   "outputs": [],
   "source": []
  }
 ],
 "metadata": {
  "kernelspec": {
   "display_name": "Python 3 (ipykernel)",
   "language": "python",
   "name": "python3"
  },
  "language_info": {
   "codemirror_mode": {
    "name": "ipython",
    "version": 3
   },
   "file_extension": ".py",
   "mimetype": "text/x-python",
   "name": "python",
   "nbconvert_exporter": "python",
   "pygments_lexer": "ipython3",
   "version": "3.12.4"
  }
 },
 "nbformat": 4,
 "nbformat_minor": 5
}
