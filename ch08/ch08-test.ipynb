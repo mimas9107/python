{
 "cells": [
  {
   "cell_type": "markdown",
   "id": "bfd41152-2287-4f7a-9eda-e18edc37a412",
   "metadata": {},
   "source": [
    "# Ch08 集合\n",
    "### <font color=#ff0f0f> 元素不可重複</font>"
   ]
  },
  {
   "cell_type": "code",
   "execution_count": 2,
   "id": "62498da2-a826-4ea2-b15f-a9de9e42086b",
   "metadata": {},
   "outputs": [],
   "source": [
    "names={'sean','justin','Mary','cook','justin'}"
   ]
  },
  {
   "cell_type": "code",
   "execution_count": 3,
   "id": "5cb617c1-397d-40eb-92e7-d10fca8a5365",
   "metadata": {},
   "outputs": [
    {
     "name": "stdout",
     "output_type": "stream",
     "text": [
      "{'justin', 'Mary', 'cook', 'sean'}\n"
     ]
    }
   ],
   "source": [
    "print(names)"
   ]
  },
  {
   "cell_type": "code",
   "execution_count": 4,
   "id": "c76ec837-d8ee-4faa-bcb2-2960e2704897",
   "metadata": {},
   "outputs": [],
   "source": [
    "data = set(range(10,21,3))"
   ]
  },
  {
   "cell_type": "code",
   "execution_count": 5,
   "id": "ea871bb0-5d6a-4778-b733-d20e506bf642",
   "metadata": {},
   "outputs": [
    {
     "ename": "TypeError",
     "evalue": "set expected at most 1 argument, got 2",
     "output_type": "error",
     "traceback": [
      "\u001b[1;31m---------------------------------------------------------------------------\u001b[0m",
      "\u001b[1;31mTypeError\u001b[0m                                 Traceback (most recent call last)",
      "Cell \u001b[1;32mIn[5], line 2\u001b[0m\n\u001b[0;32m      1\u001b[0m \u001b[38;5;66;03m## set元素不能放 mutable如 list, dict\u001b[39;00m\n\u001b[1;32m----> 2\u001b[0m sa \u001b[38;5;241m=\u001b[39m \u001b[38;5;28mset\u001b[39m(\u001b[38;5;241m1\u001b[39m,[\u001b[38;5;241m1\u001b[39m,\u001b[38;5;241m0\u001b[39m])\n",
      "\u001b[1;31mTypeError\u001b[0m: set expected at most 1 argument, got 2"
     ]
    }
   ],
   "source": [
    "## set元素不能放 mutable如 list, dict\n",
    "sa = set(1,[1,0]) "
   ]
  },
  {
   "cell_type": "code",
   "execution_count": 6,
   "id": "bbdf626f-da6e-4ae0-8470-6f5b282d7bdb",
   "metadata": {},
   "outputs": [
    {
     "name": "stdout",
     "output_type": "stream",
     "text": [
      "{16, 10, 19, 13}\n"
     ]
    }
   ],
   "source": [
    "## set元素沒有順序性\n",
    "print(data)"
   ]
  },
  {
   "cell_type": "code",
   "execution_count": 8,
   "id": "7c88ae1e-c4dc-4491-a23f-b4e8762224b0",
   "metadata": {},
   "outputs": [
    {
     "name": "stdout",
     "output_type": "stream",
     "text": [
      "[16, 10, 19, 13]\n"
     ]
    }
   ],
   "source": [
    "## 可以轉成 list,\n",
    "ls=list(data)\n",
    "print(ls)"
   ]
  },
  {
   "cell_type": "code",
   "execution_count": 10,
   "id": "4143a824-8392-4155-9d1c-8153b65d0239",
   "metadata": {},
   "outputs": [
    {
     "name": "stdout",
     "output_type": "stream",
     "text": [
      "{'cook', 'Mary', 'stephen', 'sean', 'justin'}\n"
     ]
    }
   ],
   "source": [
    "names.add('stephen')\n",
    "print(names)"
   ]
  },
  {
   "cell_type": "code",
   "execution_count": 12,
   "id": "9c413cbf-4e99-48ce-8338-05c0cb33c5bf",
   "metadata": {},
   "outputs": [
    {
     "data": {
      "text/plain": [
       "'cook'"
      ]
     },
     "execution_count": 12,
     "metadata": {},
     "output_type": "execute_result"
    }
   ],
   "source": [
    "## pop掉一個元素\n",
    "names.pop() \n"
   ]
  },
  {
   "cell_type": "code",
   "execution_count": 14,
   "id": "1db0dab3-d141-453c-b024-3a8cc0d27777",
   "metadata": {},
   "outputs": [],
   "source": [
    "## remove \n",
    "names.remove('Mary')"
   ]
  },
  {
   "cell_type": "code",
   "execution_count": 16,
   "id": "b905b0f8-fbb6-44c6-8438-861ef6dbba27",
   "metadata": {},
   "outputs": [],
   "source": [
    "## discard 給的元素沒有也不會報錯誤\n",
    "names.discard('justin')"
   ]
  },
  {
   "cell_type": "markdown",
   "id": "732db846-cae0-4afd-8f3a-444519a8589b",
   "metadata": {},
   "source": [
    "## <font color=#0000ff>union</font>"
   ]
  },
  {
   "cell_type": "code",
   "execution_count": 20,
   "id": "a268795c-6f84-4ee4-85cd-4f12af24af6f",
   "metadata": {},
   "outputs": [],
   "source": [
    "num1={11,22,33,44}\n",
    "num2={33,44,55,66}"
   ]
  },
  {
   "cell_type": "code",
   "execution_count": 22,
   "id": "7458c134-574a-477f-865f-f100cbb5489c",
   "metadata": {},
   "outputs": [
    {
     "name": "stdout",
     "output_type": "stream",
     "text": [
      "{33, 66, 11, 44, 22, 55}\n"
     ]
    }
   ],
   "source": [
    "print(num1|num2)"
   ]
  },
  {
   "cell_type": "code",
   "execution_count": 24,
   "id": "975f7c36-2724-46bf-8b58-25a7088caafc",
   "metadata": {},
   "outputs": [
    {
     "name": "stdout",
     "output_type": "stream",
     "text": [
      "{33, 66, 11, 44, 22, 55}\n"
     ]
    }
   ],
   "source": [
    "print(num1.union(num2))"
   ]
  },
  {
   "cell_type": "markdown",
   "id": "c25ae9b9-d6ef-4547-8e9e-f3fed98db354",
   "metadata": {},
   "source": [
    "## intersection"
   ]
  },
  {
   "cell_type": "code",
   "execution_count": 28,
   "id": "d6456de9-afb7-4b69-bcb7-bff63a9c8c4c",
   "metadata": {},
   "outputs": [
    {
     "name": "stdout",
     "output_type": "stream",
     "text": [
      "{33, 44}\n"
     ]
    }
   ],
   "source": [
    "print(num1 & num2)"
   ]
  },
  {
   "cell_type": "code",
   "execution_count": 30,
   "id": "a0a73868-602f-4e69-8574-62d80e59370e",
   "metadata": {},
   "outputs": [
    {
     "name": "stdout",
     "output_type": "stream",
     "text": [
      "{33, 44}\n"
     ]
    }
   ],
   "source": [
    "print(num1.intersection(num2))"
   ]
  },
  {
   "cell_type": "markdown",
   "id": "74bcf9a5-d68d-49da-90d6-fe1d6a51d7c2",
   "metadata": {},
   "source": [
    "## difference"
   ]
  },
  {
   "cell_type": "code",
   "execution_count": 33,
   "id": "897aa143-8701-4eba-8724-652a5c347f23",
   "metadata": {},
   "outputs": [
    {
     "data": {
      "text/plain": [
       "{11, 22}"
      ]
     },
     "execution_count": 33,
     "metadata": {},
     "output_type": "execute_result"
    }
   ],
   "source": [
    "num1-num2\n"
   ]
  },
  {
   "cell_type": "code",
   "execution_count": 35,
   "id": "10d04049-d214-4612-86e3-3b23da0c7295",
   "metadata": {},
   "outputs": [
    {
     "name": "stdout",
     "output_type": "stream",
     "text": [
      "{11, 22}\n"
     ]
    }
   ],
   "source": [
    "print(num1.difference(num2))"
   ]
  },
  {
   "cell_type": "raw",
   "id": "06234d39-ea06-43aa-bd87-13f486c66431",
   "metadata": {},
   "source": [
    "##### XOR"
   ]
  },
  {
   "cell_type": "code",
   "execution_count": 39,
   "id": "6a767c53-a4ec-49a9-8476-7942c0717b0c",
   "metadata": {},
   "outputs": [
    {
     "data": {
      "text/plain": [
       "{11, 22, 55, 66}"
      ]
     },
     "execution_count": 39,
     "metadata": {},
     "output_type": "execute_result"
    }
   ],
   "source": [
    "num1 ^ num2"
   ]
  },
  {
   "cell_type": "code",
   "execution_count": 43,
   "id": "00ca5053-2e47-4344-9e9c-0fea5c685d19",
   "metadata": {},
   "outputs": [
    {
     "name": "stdout",
     "output_type": "stream",
     "text": [
      "{66, 11, 22, 55}\n"
     ]
    }
   ],
   "source": [
    "print(num1.symmetric_difference(num2))"
   ]
  },
  {
   "cell_type": "code",
   "execution_count": 52,
   "id": "9df6acf3-264a-460b-8c5e-7d5b77df1b11",
   "metadata": {},
   "outputs": [],
   "source": [
    "# Update賦值方法\n",
    "# |= ; update()\n",
    "# &= ; intersection_update()\n",
    "# -= ; difference_update()\n",
    "# ^= ; symmetric_difference_update()\n",
    "#\n",
    "names1={'Sean', 'sean', 'apple'}\n",
    "names2={'apple','Orange'}\n",
    "\n"
   ]
  },
  {
   "cell_type": "markdown",
   "id": "d1f0a4be-7db6-4de8-87fd-16809b3037e2",
   "metadata": {},
   "source": [
    "## 集合生成式應用:"
   ]
  },
  {
   "cell_type": "code",
   "execution_count": 54,
   "id": "6349058c-c2df-4394-86d3-3db6949281ee",
   "metadata": {},
   "outputs": [
    {
     "name": "stdout",
     "output_type": "stream",
     "text": [
      "{'t': 2, 'v': 1, 'e': 1, 'n': 1, 'a': 1, 'i': 4}\n"
     ]
    }
   ],
   "source": [
    "word='initiative'\n",
    "stats={letter: word.count(letter) for letter in set(word)}\n",
    "print(stats)"
   ]
  },
  {
   "cell_type": "code",
   "execution_count": null,
   "id": "1add5732-f339-4a5d-ae1b-ccfbda13f505",
   "metadata": {},
   "outputs": [],
   "source": []
  },
  {
   "cell_type": "code",
   "execution_count": null,
   "id": "9ca6e57e-cebe-4079-b907-031e762d5d74",
   "metadata": {},
   "outputs": [],
   "source": []
  },
  {
   "cell_type": "code",
   "execution_count": null,
   "id": "e6489945-6115-4203-a226-3a18ccff9caf",
   "metadata": {},
   "outputs": [],
   "source": []
  }
 ],
 "metadata": {
  "kernelspec": {
   "display_name": "Python 3 (ipykernel)",
   "language": "python",
   "name": "python3"
  },
  "language_info": {
   "codemirror_mode": {
    "name": "ipython",
    "version": 3
   },
   "file_extension": ".py",
   "mimetype": "text/x-python",
   "name": "python",
   "nbconvert_exporter": "python",
   "pygments_lexer": "ipython3",
   "version": "3.12.4"
  }
 },
 "nbformat": 4,
 "nbformat_minor": 5
}
