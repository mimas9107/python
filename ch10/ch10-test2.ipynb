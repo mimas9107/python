{
 "cells": [
  {
   "cell_type": "code",
   "execution_count": 1,
   "id": "cb5654ce-ff59-4c2a-b750-6c7a04277ccb",
   "metadata": {},
   "outputs": [],
   "source": [
    "import matplotlib.pyplot as plt\n",
    "from wordcloud import WordCloud"
   ]
  },
  {
   "cell_type": "code",
   "execution_count": 27,
   "id": "1aec9672-5741-4b63-b683-fc6855610e6a",
   "metadata": {},
   "outputs": [
    {
     "data": {
      "text/plain": [
       "<wordcloud.wordcloud.WordCloud at 0x136e3d727b0>"
      ]
     },
     "execution_count": 27,
     "metadata": {},
     "output_type": "execute_result"
    }
   ],
   "source": [
    "sample={'Hello':99, 'world':73, 'doraemon':63,'nobi':48}\n",
    "\n",
    "shows=WordCloud(background_color='white',width=600,height=600,margin=2).generate_from_frequencies(sample)\n",
    "\n",
    "shows.to_file('ch10-test2.png')"
   ]
  },
  {
   "cell_type": "code",
   "execution_count": null,
   "id": "8c9d9653-3681-4d2d-9d3f-99043d2133ca",
   "metadata": {},
   "outputs": [],
   "source": []
  },
  {
   "cell_type": "code",
   "execution_count": null,
   "id": "a763bd55-8bd7-451f-b72a-7afb8ffdd148",
   "metadata": {},
   "outputs": [],
   "source": []
  },
  {
   "cell_type": "code",
   "execution_count": null,
   "id": "7a75328b-7685-45aa-b320-d281b28ce52c",
   "metadata": {},
   "outputs": [],
   "source": []
  },
  {
   "cell_type": "code",
   "execution_count": null,
   "id": "5a80ffa2-8062-4d2d-972b-da27d284008d",
   "metadata": {},
   "outputs": [],
   "source": []
  }
 ],
 "metadata": {
  "kernelspec": {
   "display_name": "Python 3 (ipykernel)",
   "language": "python",
   "name": "python3"
  },
  "language_info": {
   "codemirror_mode": {
    "name": "ipython",
    "version": 3
   },
   "file_extension": ".py",
   "mimetype": "text/x-python",
   "name": "python",
   "nbconvert_exporter": "python",
   "pygments_lexer": "ipython3",
   "version": "3.12.4"
  }
 },
 "nbformat": 4,
 "nbformat_minor": 5
}
