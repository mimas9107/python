{
 "cells": [
  {
   "cell_type": "markdown",
   "id": "fc8829af-292f-485a-a699-4bd99f80b55d",
   "metadata": {},
   "source": [
    "# Ch12 繼承"
   ]
  },
  {
   "cell_type": "code",
   "execution_count": 4,
   "id": "82b85b65-1d0b-4e1d-b559-75b2a4d6fc8a",
   "metadata": {},
   "outputs": [
    {
     "name": "stdout",
     "output_type": "stream",
     "text": [
      "I'm walking\n"
     ]
    }
   ],
   "source": [
    "class Father():\n",
    "    def walking(self):\n",
    "        print('I\\'m walking')\n",
    "\n",
    "        \n",
    "class Son(Father):\n",
    "    pass\n",
    "\n",
    "joe=Son()\n",
    "joe.walking()"
   ]
  },
  {
   "cell_type": "code",
   "execution_count": 6,
   "id": "a7912cd4-4826-4536-8d8d-05f53679ba6a",
   "metadata": {},
   "outputs": [
    {
     "name": "stdout",
     "output_type": "stream",
     "text": [
      "I'm walking\n",
      " and i'm singing!\n"
     ]
    }
   ],
   "source": [
    "class daughter(Father):\n",
    "    def walking(self):\n",
    "        super().walking()\n",
    "        print(\" and i'm singing!\")\n",
    "julia=daughter()\n",
    "julia.walking()"
   ]
  },
  {
   "cell_type": "code",
   "execution_count": null,
   "id": "e3abd946-f5eb-4d11-b441-66da00b34b0b",
   "metadata": {},
   "outputs": [],
   "source": []
  },
  {
   "cell_type": "code",
   "execution_count": null,
   "id": "28d3be5a-b79e-4197-80cb-a95332c4d7f2",
   "metadata": {},
   "outputs": [],
   "source": []
  },
  {
   "cell_type": "code",
   "execution_count": null,
   "id": "73d9ec0b-40a2-40b0-865f-0a064e578946",
   "metadata": {},
   "outputs": [],
   "source": []
  }
 ],
 "metadata": {
  "kernelspec": {
   "display_name": "Python 3 (ipykernel)",
   "language": "python",
   "name": "python3"
  },
  "language_info": {
   "codemirror_mode": {
    "name": "ipython",
    "version": 3
   },
   "file_extension": ".py",
   "mimetype": "text/x-python",
   "name": "python",
   "nbconvert_exporter": "python",
   "pygments_lexer": "ipython3",
   "version": "3.12.4"
  }
 },
 "nbformat": 4,
 "nbformat_minor": 5
}
