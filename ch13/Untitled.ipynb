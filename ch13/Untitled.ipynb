{
 "cells": [
  {
   "cell_type": "markdown",
   "id": "5458ba55-9195-4519-bf9b-1b65d1faf0e6",
   "metadata": {},
   "source": [
    "# Ch13 異常處理"
   ]
  },
  {
   "cell_type": "code",
   "execution_count": 14,
   "id": "97a37b2f-5486-4598-8eb7-19359c4ecb4f",
   "metadata": {},
   "outputs": [
    {
     "name": "stdout",
     "output_type": "stream",
     "text": [
      "[11, 22, 33, '44', (55, 66, 77), {88: '99'}]\n",
      "index= 5 , 值= {88: '99'}\n"
     ]
    }
   ],
   "source": [
    "# try: ... except: ...\n",
    "L=[11,\n",
    "   22,\n",
    "   33,\n",
    "   '44',\n",
    "   (55,66,77),\n",
    "   {88:'99'}]\n",
    "print(L)\n",
    "try:\n",
    "    index=5\n",
    "    print(\"index=\",index,\", 值=\",L[index])\n",
    "except:\n",
    "    print('index超過了啦!')"
   ]
  },
  {
   "cell_type": "code",
   "execution_count": 20,
   "id": "fa260510-30a4-4a2f-9025-a3d747aa9d0c",
   "metadata": {},
   "outputs": [
    {
     "name": "stdout",
     "output_type": "stream",
     "text": [
      "index超過了啦!\n",
      "tuple index out of range\n"
     ]
    }
   ],
   "source": [
    "try:\n",
    "    index=4\n",
    "    print(\"index=\",index,\", 值=\",L[index][3])\n",
    "except Exception as err:\n",
    "    print('index超過了啦!')\n",
    "    print(err)"
   ]
  },
  {
   "cell_type": "code",
   "execution_count": 30,
   "id": "96e1aef1-f3d8-4e93-8988-a1ea7cabf2fe",
   "metadata": {},
   "outputs": [
    {
     "name": "stdout",
     "output_type": "stream",
     "text": [
      "result:  (0, 1)\n",
      "done \n",
      "result:  (0, 0)\n",
      "done \n",
      "error:  integer division or modulo by zero\n",
      "done \n"
     ]
    }
   ],
   "source": [
    "def demo(num1,num2):\n",
    "    try:\n",
    "        res=divmod(num1,num2)\n",
    "    except ZeroDivisionError as err:\n",
    "        print('error: ', err)\n",
    "    else:\n",
    "        print('result: ',res)\n",
    "        return res\n",
    "    finally:\n",
    "        print('done ')\n",
    "\n",
    "demo(*demo(*demo(1,2)))"
   ]
  },
  {
   "cell_type": "code",
   "execution_count": 40,
   "id": "1eca4f7d-798b-41ce-b99e-5357678f45ac",
   "metadata": {},
   "outputs": [
    {
     "name": "stdout",
     "output_type": "stream",
     "text": [
      "33\n"
     ]
    }
   ],
   "source": [
    "try:\n",
    "    L[2]\n",
    "    print(L[2])\n",
    "except (IndexError, TypeError) as Errcode:\n",
    "    print(Errcode)"
   ]
  },
  {
   "cell_type": "code",
   "execution_count": null,
   "id": "e35344da-a481-4f40-8565-675a9f27c0a9",
   "metadata": {},
   "outputs": [],
   "source": []
  },
  {
   "cell_type": "code",
   "execution_count": null,
   "id": "66ad9527-a62b-460e-93f5-a9c54347587e",
   "metadata": {},
   "outputs": [],
   "source": []
  },
  {
   "cell_type": "code",
   "execution_count": null,
   "id": "92d0ad34-78ce-4c10-aefe-307cea80d5ff",
   "metadata": {},
   "outputs": [],
   "source": []
  }
 ],
 "metadata": {
  "kernelspec": {
   "display_name": "Python 3 (ipykernel)",
   "language": "python",
   "name": "python3"
  },
  "language_info": {
   "codemirror_mode": {
    "name": "ipython",
    "version": 3
   },
   "file_extension": ".py",
   "mimetype": "text/x-python",
   "name": "python",
   "nbconvert_exporter": "python",
   "pygments_lexer": "ipython3",
   "version": "3.12.4"
  }
 },
 "nbformat": 4,
 "nbformat_minor": 5
}
