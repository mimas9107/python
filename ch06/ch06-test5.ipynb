{
 "cells": [
  {
   "cell_type": "markdown",
   "id": "e27e4968-0182-4605-bf2d-2169147a922d",
   "metadata": {},
   "source": [
    "# Ch06 多維串列及操作\n",
    "## *2D串列* => **矩陣**"
   ]
  },
  {
   "cell_type": "code",
   "execution_count": 2,
   "id": "81ac7b57-0c1a-412d-930f-3b70ba142d5a",
   "metadata": {},
   "outputs": [],
   "source": [
    "numbers=[[11,22,33],\n",
    "         [44,55,66],\n",
    "         [77,88,99]]"
   ]
  },
  {
   "cell_type": "code",
   "execution_count": 3,
   "id": "8ef2bcc2-f7b9-4bf3-8839-f61d1272a08e",
   "metadata": {},
   "outputs": [
    {
     "name": "stdout",
     "output_type": "stream",
     "text": [
      "[44, 55, 66]\n"
     ]
    }
   ],
   "source": [
    "ls=numbers[1]\n",
    "\n",
    "print(ls)"
   ]
  },
  {
   "cell_type": "code",
   "execution_count": 4,
   "id": "82da9e6a-34c2-4997-b506-1895482d07f9",
   "metadata": {},
   "outputs": [
    {
     "name": "stdout",
     "output_type": "stream",
     "text": [
      "66\n"
     ]
    }
   ],
   "source": [
    "print(ls[2])"
   ]
  },
  {
   "cell_type": "markdown",
   "id": "c035b8a8-4c0f-40dc-ab7d-5fbbc9005001",
   "metadata": {},
   "source": [
    "* ### 用 enumerate帶 index的方式遍歷:"
   ]
  },
  {
   "cell_type": "code",
   "execution_count": 6,
   "id": "0ed6420e-58ee-4ed1-b2a2-6ab6369e88ba",
   "metadata": {},
   "outputs": [
    {
     "name": "stdout",
     "output_type": "stream",
     "text": [
      "(0, 0)= 11 (0, 1)= 22 (0, 2)= 33 \n",
      "(1, 0)= 44 (1, 1)= 55 (1, 2)= 66 \n",
      "(2, 0)= 77 (2, 1)= 88 (2, 2)= 99 \n"
     ]
    }
   ],
   "source": [
    "for index,num in enumerate(numbers):\n",
    "    for j, numm in enumerate(num):\n",
    "        print(f\"({index}, {j})= {numm} \", end='')\n",
    "    print()"
   ]
  },
  {
   "cell_type": "markdown",
   "id": "0117646f-2949-4025-8bc5-773e12ae0164",
   "metadata": {},
   "source": [
    "* ### 用 for-in 遍歷:"
   ]
  },
  {
   "cell_type": "code",
   "execution_count": 8,
   "id": "e723380d-518b-44c9-a5ec-7797e19f28f0",
   "metadata": {},
   "outputs": [
    {
     "name": "stdout",
     "output_type": "stream",
     "text": [
      "11 22 33 \n",
      "44 55 66 \n",
      "77 88 99 \n"
     ]
    }
   ],
   "source": [
    "for num in numbers:\n",
    "    for e in num:\n",
    "        print(f\"{e} \", end='')\n",
    "    print()"
   ]
  },
  {
   "cell_type": "markdown",
   "id": "f7a61072-1583-4713-a6c4-fdd2917a402e",
   "metadata": {},
   "source": [
    "* ### 用 subscript [] 遍歷:"
   ]
  },
  {
   "cell_type": "code",
   "execution_count": 10,
   "id": "049f8d05-b0b2-4c16-82b2-7eeb1e4cc9cf",
   "metadata": {},
   "outputs": [
    {
     "name": "stdout",
     "output_type": "stream",
     "text": [
      "11 22 33 \n",
      "44 55 66 \n",
      "77 88 99 \n"
     ]
    }
   ],
   "source": [
    "for i in range(len(numbers)):\n",
    "    for j in range(len(numbers)):\n",
    "        print(f\"{numbers[i][j]} \",end='')\n",
    "    print()"
   ]
  },
  {
   "cell_type": "markdown",
   "id": "b2b6f874-e4a1-4548-b4cb-6217ef7e1b59",
   "metadata": {},
   "source": [
    "## 串列生成式 的方式產生矩陣:"
   ]
  },
  {
   "cell_type": "markdown",
   "id": "d1f40309-d645-4a0e-89a1-b33691ae874d",
   "metadata": {},
   "source": [
    "```python=\n",
    "先 外層 [] for xx in range(個數), <br/>\n",
    "然後 內層 \\[ yy for yy in range(個數) ]\n",
    "```\n"
   ]
  },
  {
   "cell_type": "code",
   "execution_count": 13,
   "id": "63bd70c5-0941-43dd-a5d5-a34b1d4700ef",
   "metadata": {},
   "outputs": [
    {
     "data": {
      "text/plain": [
       "[[0, 1, 2], [0, 1, 2], [0, 1, 2]]"
      ]
     },
     "execution_count": 13,
     "metadata": {},
     "output_type": "execute_result"
    }
   ],
   "source": [
    "[[y for y in range(3)] for x in range(3)]"
   ]
  },
  {
   "cell_type": "markdown",
   "id": "c7098945-2496-4856-bd4e-ceaca94d8068",
   "metadata": {},
   "source": [
    "## 串列複製:\n",
    "* 淺複製 => reference/alias\n",
    "* 深複製 => duplicate/copy"
   ]
  },
  {
   "cell_type": "markdown",
   "id": "9e28e433-755d-4861-a3c8-bb87089a0246",
   "metadata": {},
   "source": [
    "#### **淺複製<1> 用 \\*運算子:** <br>\n",
    "```\n",
    "x=[[2,3],[5,6]]\n",
    "y=x*2\n",
    "=> [23,56,23,56,23,56]\n",
    "```"
   ]
  },
  {
   "cell_type": "code",
   "execution_count": 55,
   "id": "c3873968-c457-421a-832a-63a23bde8898",
   "metadata": {},
   "outputs": [
    {
     "name": "stdout",
     "output_type": "stream",
     "text": [
      "2750082578496 2750082575808 2750082565120\n"
     ]
    }
   ],
   "source": [
    "x=[[2,3],[5,6]]\n",
    "print(id(x), id(x[0]), id(x[1]))"
   ]
  },
  {
   "cell_type": "code",
   "execution_count": 57,
   "id": "0abc8d8a-1c47-428a-90b8-4630a9c8d4ee",
   "metadata": {},
   "outputs": [],
   "source": [
    "## 淺複製\n",
    "y=x*3"
   ]
  },
  {
   "cell_type": "code",
   "execution_count": 67,
   "id": "acf5a2e8-4f26-4a8e-9a70-6ffb131a1f74",
   "metadata": {},
   "outputs": [
    {
     "name": "stdout",
     "output_type": "stream",
     "text": [
      "2750082575808 2750082565120 2750082575808 2750082565120 2750082575808 2750082565120\n"
     ]
    }
   ],
   "source": [
    "## 確認一下記憶體位置:\n",
    "print(id(y[0]),id(y[1]),id(y[2]),id(y[3]),id(y[4]),id(y[5]))"
   ]
  },
  {
   "cell_type": "code",
   "execution_count": 61,
   "id": "848fefd2-7bbd-4e61-b52a-ad3fa91dee13",
   "metadata": {},
   "outputs": [
    {
     "data": {
      "text/plain": [
       "[[2, 3], [5, 6], [2, 3], [5, 6], [2, 3], [5, 6]]"
      ]
     },
     "execution_count": 61,
     "metadata": {},
     "output_type": "execute_result"
    }
   ],
   "source": [
    "y"
   ]
  },
  {
   "cell_type": "code",
   "execution_count": 63,
   "id": "b110a8be-2980-4a64-bafb-4ebffaae9f1c",
   "metadata": {},
   "outputs": [
    {
     "name": "stdout",
     "output_type": "stream",
     "text": [
      "[[2, 99], [5, 6], [2, 99], [5, 6], [2, 99], [5, 6]]\n"
     ]
    }
   ],
   "source": [
    "y[0][1]=99\n",
    "print(y)"
   ]
  },
  {
   "cell_type": "markdown",
   "id": "2727413e-3e0a-477b-9c7c-6e622996cb5b",
   "metadata": {},
   "source": [
    "#### **淺複製<2> 切片方式:** <br>"
   ]
  },
  {
   "cell_type": "code",
   "execution_count": 74,
   "id": "74004d96-0efe-43bf-b4ea-26ffa92d90db",
   "metadata": {},
   "outputs": [
    {
     "name": "stdout",
     "output_type": "stream",
     "text": [
      "[[11, 13, 15], [2, 4, 6]]\n"
     ]
    }
   ],
   "source": [
    "data=[[11,13,15],[2,4,6],[30,33,36]]\n",
    "target=data[0:2]\n",
    "print(target)"
   ]
  },
  {
   "cell_type": "code",
   "execution_count": 78,
   "id": "db488649-e595-4404-9b75-0a4f0ce959cf",
   "metadata": {},
   "outputs": [
    {
     "name": "stdout",
     "output_type": "stream",
     "text": [
      "2750082918912 2750082914240 2750082921344\n"
     ]
    }
   ],
   "source": [
    "## 總之就是檢查一下記憶體\n",
    "print(id(data[0]),id(data[1]),id(data[2]))"
   ]
  },
  {
   "cell_type": "code",
   "execution_count": 95,
   "id": "028fa699-7cf0-491f-80e5-1f6b56e774bb",
   "metadata": {},
   "outputs": [
    {
     "name": "stdout",
     "output_type": "stream",
     "text": [
      "2750082918912 2750082914240\n"
     ]
    }
   ],
   "source": [
    "target[0][1]=17 #去改 target參考到的位置data[0][1]是 13會被 assign成 17. \n",
    "print(id(target[0]),id(target[1])) #記憶體位置不會變"
   ]
  },
  {
   "cell_type": "code",
   "execution_count": 97,
   "id": "b7d21072-ef71-43fd-8fda-11db7c8cf67d",
   "metadata": {},
   "outputs": [
    {
     "name": "stdout",
     "output_type": "stream",
     "text": [
      "[[11, 17, 15], [2, 4, 6]]\n"
     ]
    }
   ],
   "source": [
    "print(target)"
   ]
  },
  {
   "cell_type": "markdown",
   "id": "485986bf-c318-46e0-b462-05e0ebe3a2cf",
   "metadata": {},
   "source": [
    "#### **淺複製<3> list.copy方法:** "
   ]
  },
  {
   "cell_type": "code",
   "execution_count": 108,
   "id": "fb6a3b9d-0889-4e6e-825c-9ab50e50fa3c",
   "metadata": {},
   "outputs": [
    {
     "name": "stdout",
     "output_type": "stream",
     "text": [
      "x= [10, [15, 17], [30, 36, 39]] 2750082983104\n",
      "y= [10, [15, 17], [30, 36, 39]] 2750082982080\n",
      "z= [10, [15, 17], [30, 36, 39]] 2750082774528\n"
     ]
    }
   ],
   "source": [
    "x =[10, [15,17], [30, 36, 39]]\n",
    "y =x[:]\n",
    "z =x.copy()\n",
    "print(\"x=\",x, id(x))\n",
    "print(\"y=\",y, id(y))\n",
    "print(\"z=\",z, id(z))"
   ]
  },
  {
   "cell_type": "code",
   "execution_count": 110,
   "id": "0752aed6-393c-492d-83fd-79c1d224a57c",
   "metadata": {},
   "outputs": [
    {
     "name": "stdout",
     "output_type": "stream",
     "text": [
      "x= [10, [15, 19], [30, 36, 39]] 2750082983104\n",
      "y= [10, [15, 19], [30, 36, 39]] 2750082982080\n",
      "z= [10, [15, 19], [30, 36, 39]] 2750082774528\n"
     ]
    }
   ],
   "source": [
    "# 當我有存取 y\n",
    "y[1][1] = 19\n",
    "print(\"x=\",x, id(x))\n",
    "print(\"y=\",y, id(y))\n",
    "print(\"z=\",z, id(z))"
   ]
  },
  {
   "cell_type": "markdown",
   "id": "c89838fb-3051-423c-bc2c-fddb6dad85af",
   "metadata": {},
   "source": [
    "#### 上面 即使 z是用 .copy() 但還是一同有存取生效所以是淺複製"
   ]
  },
  {
   "cell_type": "code",
   "execution_count": null,
   "id": "1564e651-ed64-4fae-93c2-3e879813c19c",
   "metadata": {},
   "outputs": [],
   "source": []
  },
  {
   "cell_type": "code",
   "execution_count": null,
   "id": "8964e8c7-363a-4bfc-9176-845423962263",
   "metadata": {},
   "outputs": [],
   "source": []
  }
 ],
 "metadata": {
  "kernelspec": {
   "display_name": "Python 3 (ipykernel)",
   "language": "python",
   "name": "python3"
  },
  "language_info": {
   "codemirror_mode": {
    "name": "ipython",
    "version": 3
   },
   "file_extension": ".py",
   "mimetype": "text/x-python",
   "name": "python",
   "nbconvert_exporter": "python",
   "pygments_lexer": "ipython3",
   "version": "3.12.4"
  }
 },
 "nbformat": 4,
 "nbformat_minor": 5
}
