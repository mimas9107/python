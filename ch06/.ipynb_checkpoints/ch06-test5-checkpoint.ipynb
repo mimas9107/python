{
 "cells": [
  {
   "cell_type": "markdown",
   "id": "e27e4968-0182-4605-bf2d-2169147a922d",
   "metadata": {},
   "source": [
    "# Ch06 多維串列\n",
    "## *2D串列* => **矩陣**"
   ]
  },
  {
   "cell_type": "code",
   "execution_count": 2,
   "id": "81ac7b57-0c1a-412d-930f-3b70ba142d5a",
   "metadata": {},
   "outputs": [],
   "source": [
    "numbers=[[11,22,33],\n",
    "         [44,55,66],\n",
    "         [77,88,99]]"
   ]
  },
  {
   "cell_type": "code",
   "execution_count": 3,
   "id": "8ef2bcc2-f7b9-4bf3-8839-f61d1272a08e",
   "metadata": {},
   "outputs": [
    {
     "name": "stdout",
     "output_type": "stream",
     "text": [
      "[44, 55, 66]\n"
     ]
    }
   ],
   "source": [
    "ls=numbers[1]\n",
    "\n",
    "print(ls)"
   ]
  },
  {
   "cell_type": "code",
   "execution_count": 4,
   "id": "82da9e6a-34c2-4997-b506-1895482d07f9",
   "metadata": {},
   "outputs": [
    {
     "name": "stdout",
     "output_type": "stream",
     "text": [
      "66\n"
     ]
    }
   ],
   "source": [
    "print(ls[2])"
   ]
  },
  {
   "cell_type": "markdown",
   "id": "c035b8a8-4c0f-40dc-ab7d-5fbbc9005001",
   "metadata": {},
   "source": [
    "* ### 用 enumerate帶 index的方式遍歷:"
   ]
  },
  {
   "cell_type": "code",
   "execution_count": 20,
   "id": "0ed6420e-58ee-4ed1-b2a2-6ab6369e88ba",
   "metadata": {},
   "outputs": [
    {
     "name": "stdout",
     "output_type": "stream",
     "text": [
      "(0, 0)= 11 (0, 1)= 22 (0, 2)= 33 \n",
      "(1, 0)= 44 (1, 1)= 55 (1, 2)= 66 \n",
      "(2, 0)= 77 (2, 1)= 88 (2, 2)= 99 \n"
     ]
    }
   ],
   "source": [
    "for index,num in enumerate(numbers):\n",
    "    for j, numm in enumerate(num):\n",
    "        print(f\"({index}, {j})= {numm} \", end='')\n",
    "    print()"
   ]
  },
  {
   "cell_type": "markdown",
   "id": "0117646f-2949-4025-8bc5-773e12ae0164",
   "metadata": {},
   "source": [
    "* ### 用 for-in 遍歷:"
   ]
  },
  {
   "cell_type": "code",
   "execution_count": 24,
   "id": "e723380d-518b-44c9-a5ec-7797e19f28f0",
   "metadata": {},
   "outputs": [
    {
     "name": "stdout",
     "output_type": "stream",
     "text": [
      "11 22 33 \n",
      "44 55 66 \n",
      "77 88 99 \n"
     ]
    }
   ],
   "source": [
    "for num in numbers:\n",
    "    for e in num:\n",
    "        print(f\"{e} \", end='')\n",
    "    print()"
   ]
  },
  {
   "cell_type": "markdown",
   "id": "f7a61072-1583-4713-a6c4-fdd2917a402e",
   "metadata": {},
   "source": [
    "* ### 用 subscript [] 遍歷:"
   ]
  },
  {
   "cell_type": "code",
   "execution_count": 34,
   "id": "049f8d05-b0b2-4c16-82b2-7eeb1e4cc9cf",
   "metadata": {},
   "outputs": [
    {
     "name": "stdout",
     "output_type": "stream",
     "text": [
      "112233\n",
      "445566\n",
      "778899\n"
     ]
    }
   ],
   "source": [
    "for i in range(len(numbers)):\n",
    "    for j in range(len(numbers)):\n",
    "        print(f\"{numbers[i][j]} \",end='')\n",
    "    print()"
   ]
  },
  {
   "cell_type": "code",
   "execution_count": null,
   "id": "fc853cba-0022-4c1d-b0ba-881050744c9f",
   "metadata": {},
   "outputs": [],
   "source": []
  },
  {
   "cell_type": "code",
   "execution_count": null,
   "id": "63bd70c5-0941-43dd-a5d5-a34b1d4700ef",
   "metadata": {},
   "outputs": [],
   "source": []
  },
  {
   "cell_type": "code",
   "execution_count": null,
   "id": "0abc8d8a-1c47-428a-90b8-4630a9c8d4ee",
   "metadata": {},
   "outputs": [],
   "source": []
  },
  {
   "cell_type": "code",
   "execution_count": null,
   "id": "acf5a2e8-4f26-4a8e-9a70-6ffb131a1f74",
   "metadata": {},
   "outputs": [],
   "source": []
  }
 ],
 "metadata": {
  "kernelspec": {
   "display_name": "Python 3 (ipykernel)",
   "language": "python",
   "name": "python3"
  },
  "language_info": {
   "codemirror_mode": {
    "name": "ipython",
    "version": 3
   },
   "file_extension": ".py",
   "mimetype": "text/x-python",
   "name": "python",
   "nbconvert_exporter": "python",
   "pygments_lexer": "ipython3",
   "version": "3.12.4"
  }
 },
 "nbformat": 4,
 "nbformat_minor": 5
}
