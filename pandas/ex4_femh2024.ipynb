{
 "cells": [
  {
   "cell_type": "code",
   "execution_count": 1,
   "id": "28473425-e897-486c-a788-b0e1c3a658eb",
   "metadata": {},
   "outputs": [],
   "source": [
    "import pandas as pd\n",
    "\n",
    "df1 = pd.read_pickle('data/file1.pkl') # 麻醉部的資料表\n",
    "df2 = pd.read_pickle('data/file2.pkl') # 門診的資料表"
   ]
  },
  {
   "cell_type": "markdown",
   "id": "0bb7e14b-0879-4a10-9dc1-648a480b86c7",
   "metadata": {},
   "source": [
    "# 前置作業：先對資料進行認識、了解、初步分析"
   ]
  },
  {
   "cell_type": "code",
   "execution_count": 4,
   "id": "f68f23cf-305c-4058-82ef-67efd2b11a75",
   "metadata": {},
   "outputs": [
    {
     "data": {
      "text/html": [
       "<div>\n",
       "<style scoped>\n",
       "    .dataframe tbody tr th:only-of-type {\n",
       "        vertical-align: middle;\n",
       "    }\n",
       "\n",
       "    .dataframe tbody tr th {\n",
       "        vertical-align: top;\n",
       "    }\n",
       "\n",
       "    .dataframe thead th {\n",
       "        text-align: right;\n",
       "    }\n",
       "</style>\n",
       "<table border=\"1\" class=\"dataframe\">\n",
       "  <thead>\n",
       "    <tr style=\"text-align: right;\">\n",
       "      <th></th>\n",
       "      <th>病歷編號</th>\n",
       "      <th>年齡</th>\n",
       "      <th>體重</th>\n",
       "      <th>離開手術室日期時間</th>\n",
       "    </tr>\n",
       "  </thead>\n",
       "  <tbody>\n",
       "    <tr>\n",
       "      <th>14625</th>\n",
       "      <td>1001000669</td>\n",
       "      <td>60.0</td>\n",
       "      <td>73.0</td>\n",
       "      <td>2016-10-05 09:10:00</td>\n",
       "    </tr>\n",
       "    <tr>\n",
       "      <th>32981</th>\n",
       "      <td>1001078466</td>\n",
       "      <td>56.0</td>\n",
       "      <td>70.0</td>\n",
       "      <td>2016-09-16 17:20:00</td>\n",
       "    </tr>\n",
       "    <tr>\n",
       "      <th>59002</th>\n",
       "      <td>1001439163</td>\n",
       "      <td>89.0</td>\n",
       "      <td>43.0</td>\n",
       "      <td>2018-04-02 09:20:00</td>\n",
       "    </tr>\n",
       "    <tr>\n",
       "      <th>35964</th>\n",
       "      <td>1000315818</td>\n",
       "      <td>70.0</td>\n",
       "      <td>68.0</td>\n",
       "      <td>2020-09-16 08:40:00</td>\n",
       "    </tr>\n",
       "    <tr>\n",
       "      <th>9476</th>\n",
       "      <td>1001393726</td>\n",
       "      <td>69.0</td>\n",
       "      <td>81.0</td>\n",
       "      <td>2015-12-28 17:05:00</td>\n",
       "    </tr>\n",
       "    <tr>\n",
       "      <th>...</th>\n",
       "      <td>...</td>\n",
       "      <td>...</td>\n",
       "      <td>...</td>\n",
       "      <td>...</td>\n",
       "    </tr>\n",
       "    <tr>\n",
       "      <th>79986</th>\n",
       "      <td>1001797631</td>\n",
       "      <td>41.0</td>\n",
       "      <td>59.0</td>\n",
       "      <td>2019-11-13 10:25:00</td>\n",
       "    </tr>\n",
       "    <tr>\n",
       "      <th>59746</th>\n",
       "      <td>1002036990</td>\n",
       "      <td>81.0</td>\n",
       "      <td>50.0</td>\n",
       "      <td>2017-07-11 18:05:00</td>\n",
       "    </tr>\n",
       "    <tr>\n",
       "      <th>39098</th>\n",
       "      <td>1000906821</td>\n",
       "      <td>70.0</td>\n",
       "      <td>54.0</td>\n",
       "      <td>2015-11-27 11:35:00</td>\n",
       "    </tr>\n",
       "    <tr>\n",
       "      <th>34661</th>\n",
       "      <td>1002558853</td>\n",
       "      <td>55.0</td>\n",
       "      <td>73.1</td>\n",
       "      <td>2020-04-20 09:35:00</td>\n",
       "    </tr>\n",
       "    <tr>\n",
       "      <th>9469</th>\n",
       "      <td>1001163186</td>\n",
       "      <td>65.0</td>\n",
       "      <td>72.0</td>\n",
       "      <td>2019-09-30 18:35:00</td>\n",
       "    </tr>\n",
       "  </tbody>\n",
       "</table>\n",
       "<p>16538 rows × 4 columns</p>\n",
       "</div>"
      ],
      "text/plain": [
       "             病歷編號    年齡    體重           離開手術室日期時間\n",
       "14625  1001000669  60.0  73.0 2016-10-05 09:10:00\n",
       "32981  1001078466  56.0  70.0 2016-09-16 17:20:00\n",
       "59002  1001439163  89.0  43.0 2018-04-02 09:20:00\n",
       "35964  1000315818  70.0  68.0 2020-09-16 08:40:00\n",
       "9476   1001393726  69.0  81.0 2015-12-28 17:05:00\n",
       "...           ...   ...   ...                 ...\n",
       "79986  1001797631  41.0  59.0 2019-11-13 10:25:00\n",
       "59746  1002036990  81.0  50.0 2017-07-11 18:05:00\n",
       "39098  1000906821  70.0  54.0 2015-11-27 11:35:00\n",
       "34661  1002558853  55.0  73.1 2020-04-20 09:35:00\n",
       "9469   1001163186  65.0  72.0 2019-09-30 18:35:00\n",
       "\n",
       "[16538 rows x 4 columns]"
      ]
     },
     "execution_count": 4,
     "metadata": {},
     "output_type": "execute_result"
    }
   ],
   "source": [
    "df1"
   ]
  },
  {
   "cell_type": "code",
   "execution_count": 6,
   "id": "0da7a1c0-a52d-41d0-9d14-4b2a1405585b",
   "metadata": {},
   "outputs": [
    {
     "name": "stdout",
     "output_type": "stream",
     "text": [
      "<class 'pandas.core.frame.DataFrame'>\n",
      "Index: 16538 entries, 14625 to 9469\n",
      "Data columns (total 4 columns):\n",
      " #   Column     Non-Null Count  Dtype         \n",
      "---  ------     --------------  -----         \n",
      " 0   病歷編號       16538 non-null  object        \n",
      " 1   年齡         16538 non-null  float64       \n",
      " 2   體重         16538 non-null  float64       \n",
      " 3   離開手術室日期時間  16538 non-null  datetime64[ns]\n",
      "dtypes: datetime64[ns](1), float64(2), object(1)\n",
      "memory usage: 646.0+ KB\n"
     ]
    }
   ],
   "source": [
    "df1.info()"
   ]
  },
  {
   "cell_type": "code",
   "execution_count": 8,
   "id": "8b758a63-9c23-48c0-9149-b99f9f0232b8",
   "metadata": {},
   "outputs": [
    {
     "data": {
      "text/html": [
       "<div>\n",
       "<style scoped>\n",
       "    .dataframe tbody tr th:only-of-type {\n",
       "        vertical-align: middle;\n",
       "    }\n",
       "\n",
       "    .dataframe tbody tr th {\n",
       "        vertical-align: top;\n",
       "    }\n",
       "\n",
       "    .dataframe thead th {\n",
       "        text-align: right;\n",
       "    }\n",
       "</style>\n",
       "<table border=\"1\" class=\"dataframe\">\n",
       "  <thead>\n",
       "    <tr style=\"text-align: right;\">\n",
       "      <th></th>\n",
       "      <th>病歷編號</th>\n",
       "      <th>入院日期</th>\n",
       "      <th>出院日期</th>\n",
       "      <th>MI</th>\n",
       "    </tr>\n",
       "  </thead>\n",
       "  <tbody>\n",
       "    <tr>\n",
       "      <th>49558</th>\n",
       "      <td>1001888281</td>\n",
       "      <td>2016-01-25</td>\n",
       "      <td>2016-01-29</td>\n",
       "      <td>False</td>\n",
       "    </tr>\n",
       "    <tr>\n",
       "      <th>41220</th>\n",
       "      <td>1002063327</td>\n",
       "      <td>2020-10-08</td>\n",
       "      <td>2020-10-12</td>\n",
       "      <td>False</td>\n",
       "    </tr>\n",
       "    <tr>\n",
       "      <th>71176</th>\n",
       "      <td>1001443943</td>\n",
       "      <td>2016-11-04</td>\n",
       "      <td>2016-11-24</td>\n",
       "      <td>False</td>\n",
       "    </tr>\n",
       "    <tr>\n",
       "      <th>119918</th>\n",
       "      <td>1000475120</td>\n",
       "      <td>2020-09-14</td>\n",
       "      <td>2020-09-16</td>\n",
       "      <td>False</td>\n",
       "    </tr>\n",
       "    <tr>\n",
       "      <th>101322</th>\n",
       "      <td>1000864540</td>\n",
       "      <td>2016-10-13</td>\n",
       "      <td>2016-10-15</td>\n",
       "      <td>False</td>\n",
       "    </tr>\n",
       "    <tr>\n",
       "      <th>...</th>\n",
       "      <td>...</td>\n",
       "      <td>...</td>\n",
       "      <td>...</td>\n",
       "      <td>...</td>\n",
       "    </tr>\n",
       "    <tr>\n",
       "      <th>50159</th>\n",
       "      <td>1001875886</td>\n",
       "      <td>2020-08-22</td>\n",
       "      <td>2020-08-27</td>\n",
       "      <td>False</td>\n",
       "    </tr>\n",
       "    <tr>\n",
       "      <th>116377</th>\n",
       "      <td>1000563546</td>\n",
       "      <td>2020-04-27</td>\n",
       "      <td>2020-05-06</td>\n",
       "      <td>False</td>\n",
       "    </tr>\n",
       "    <tr>\n",
       "      <th>110095</th>\n",
       "      <td>1000645840</td>\n",
       "      <td>2020-12-07</td>\n",
       "      <td>2020-12-13</td>\n",
       "      <td>False</td>\n",
       "    </tr>\n",
       "    <tr>\n",
       "      <th>131352</th>\n",
       "      <td>1000211509</td>\n",
       "      <td>2016-05-09</td>\n",
       "      <td>2016-05-14</td>\n",
       "      <td>False</td>\n",
       "    </tr>\n",
       "    <tr>\n",
       "      <th>39042</th>\n",
       "      <td>1002109765</td>\n",
       "      <td>2016-06-15</td>\n",
       "      <td>2016-06-17</td>\n",
       "      <td>False</td>\n",
       "    </tr>\n",
       "  </tbody>\n",
       "</table>\n",
       "<p>20883 rows × 4 columns</p>\n",
       "</div>"
      ],
      "text/plain": [
       "              病歷編號       入院日期       出院日期     MI\n",
       "49558   1001888281 2016-01-25 2016-01-29  False\n",
       "41220   1002063327 2020-10-08 2020-10-12  False\n",
       "71176   1001443943 2016-11-04 2016-11-24  False\n",
       "119918  1000475120 2020-09-14 2020-09-16  False\n",
       "101322  1000864540 2016-10-13 2016-10-15  False\n",
       "...            ...        ...        ...    ...\n",
       "50159   1001875886 2020-08-22 2020-08-27  False\n",
       "116377  1000563546 2020-04-27 2020-05-06  False\n",
       "110095  1000645840 2020-12-07 2020-12-13  False\n",
       "131352  1000211509 2016-05-09 2016-05-14  False\n",
       "39042   1002109765 2016-06-15 2016-06-17  False\n",
       "\n",
       "[20883 rows x 4 columns]"
      ]
     },
     "execution_count": 8,
     "metadata": {},
     "output_type": "execute_result"
    }
   ],
   "source": [
    "df2"
   ]
  },
  {
   "cell_type": "code",
   "execution_count": 10,
   "id": "9861c455-9790-433a-b731-26fa58a2ddcc",
   "metadata": {},
   "outputs": [
    {
     "name": "stdout",
     "output_type": "stream",
     "text": [
      "<class 'pandas.core.frame.DataFrame'>\n",
      "Index: 20883 entries, 49558 to 39042\n",
      "Data columns (total 4 columns):\n",
      " #   Column  Non-Null Count  Dtype         \n",
      "---  ------  --------------  -----         \n",
      " 0   病歷編號    20883 non-null  object        \n",
      " 1   入院日期    20883 non-null  datetime64[ns]\n",
      " 2   出院日期    20883 non-null  datetime64[ns]\n",
      " 3   MI      20883 non-null  bool          \n",
      "dtypes: bool(1), datetime64[ns](2), object(1)\n",
      "memory usage: 673.0+ KB\n"
     ]
    }
   ],
   "source": [
    "df2.info()"
   ]
  },
  {
   "cell_type": "code",
   "execution_count": 12,
   "id": "164023f6-c9b4-415e-96cc-df0ed7e73823",
   "metadata": {},
   "outputs": [
    {
     "data": {
      "text/plain": [
       "病歷編號\n",
       "1000683851    6\n",
       "1001737672    6\n",
       "1001736849    6\n",
       "1002284878    5\n",
       "1002276619    5\n",
       "             ..\n",
       "1002385408    1\n",
       "1002488502    1\n",
       "1001123067    1\n",
       "1000565748    1\n",
       "1001163186    1\n",
       "Name: count, Length: 15184, dtype: int64"
      ]
     },
     "execution_count": 12,
     "metadata": {},
     "output_type": "execute_result"
    }
   ],
   "source": [
    "# 可利用 value_counts() 觀察是否有重複病歷\n",
    "df1['病歷編號'].value_counts()"
   ]
  },
  {
   "cell_type": "code",
   "execution_count": 14,
   "id": "e8d2c280-3698-4a5f-8149-bdfbb6492c71",
   "metadata": {},
   "outputs": [
    {
     "data": {
      "text/plain": [
       "病歷編號\n",
       "1000884245    14\n",
       "1000590266    12\n",
       "1000915258    12\n",
       "1000918137    11\n",
       "1001166398    11\n",
       "              ..\n",
       "1002553328     1\n",
       "1000163889     1\n",
       "1002317116     1\n",
       "1002430436     1\n",
       "1000211509     1\n",
       "Name: count, Length: 17362, dtype: int64"
      ]
     },
     "execution_count": 14,
     "metadata": {},
     "output_type": "execute_result"
    }
   ],
   "source": [
    "# 可利用 value_counts() 觀察是否有重複病歷\n",
    "df2['病歷編號'].value_counts()"
   ]
  },
  {
   "cell_type": "markdown",
   "id": "980e31d0-c45b-478b-b46c-a4b4546729b6",
   "metadata": {},
   "source": [
    "# 步驟1: 以病歷編號合併 df1 和 df2 (運用 inner 合併原則)"
   ]
  },
  {
   "cell_type": "code",
   "execution_count": null,
   "id": "2067c189-722f-4706-8873-f701930483f4",
   "metadata": {},
   "outputs": [],
   "source": []
  },
  {
   "cell_type": "markdown",
   "id": "390227ff-4188-4c80-8a8e-adc0f9439607",
   "metadata": {},
   "source": [
    "# 步驟2: 從合併的dataframe中，建立 MI=True 的boolean遮罩"
   ]
  },
  {
   "cell_type": "code",
   "execution_count": null,
   "id": "60d6db77-5b17-473f-88d5-98d711f075ba",
   "metadata": {},
   "outputs": [],
   "source": []
  },
  {
   "cell_type": "markdown",
   "id": "4832ce26-97d2-4db2-a2e3-68ff563c3faa",
   "metadata": {},
   "source": [
    "# 步驟3: 從合併的dataframe中，建立合理資料的boolean遮罩，其中合理資料指的是離開手術室日期時間必須介於入院日期與出院日期之間"
   ]
  },
  {
   "cell_type": "code",
   "execution_count": null,
   "id": "43350583-c197-4d87-a277-00ad2c00ffb0",
   "metadata": {},
   "outputs": [],
   "source": []
  },
  {
   "cell_type": "markdown",
   "id": "627baf04-6347-4529-8da8-f2ff08459dee",
   "metadata": {},
   "source": [
    "# 步驟4: 利用前面建立的 boolean 遮罩，篩選合理的病歷資料"
   ]
  },
  {
   "cell_type": "code",
   "execution_count": null,
   "id": "89ab986c-093d-4a9c-b7e5-d6c6fff54a23",
   "metadata": {},
   "outputs": [],
   "source": []
  },
  {
   "cell_type": "markdown",
   "id": "822d72d7-a656-4601-8a32-ba3a440a5801",
   "metadata": {},
   "source": [
    "# 步驟5: 再次探查、分析經篩選後的資料"
   ]
  },
  {
   "cell_type": "code",
   "execution_count": null,
   "id": "c76edfcc-6ab9-4756-8a7f-9678d0e587e8",
   "metadata": {},
   "outputs": [],
   "source": []
  },
  {
   "cell_type": "markdown",
   "id": "13351147-fddc-4d1c-9eeb-701856e8a8fa",
   "metadata": {},
   "source": [
    "# 步驟6: 剔除重複資料，只保留最早進手術室的資料"
   ]
  },
  {
   "cell_type": "code",
   "execution_count": null,
   "id": "f7289f5b-79ac-4171-814a-59da276fb483",
   "metadata": {},
   "outputs": [],
   "source": []
  },
  {
   "cell_type": "markdown",
   "id": "fa4d3f92-2710-4931-9675-904a9124c763",
   "metadata": {},
   "source": [
    "## 心肌梗塞最年輕/最年長的是幾歲?平均年齡是幾歲？"
   ]
  },
  {
   "cell_type": "code",
   "execution_count": null,
   "id": "802211d8-aba4-4f69-bb30-ff37fd7da012",
   "metadata": {},
   "outputs": [],
   "source": []
  },
  {
   "cell_type": "markdown",
   "id": "176cc744-40b3-477a-8bc3-206f5f9787fb",
   "metadata": {},
   "source": [
    "## 心肌梗塞的平均體重是多少?"
   ]
  },
  {
   "cell_type": "code",
   "execution_count": null,
   "id": "33e22b19-91ce-4755-9aaa-4662453684d5",
   "metadata": {},
   "outputs": [],
   "source": []
  },
  {
   "cell_type": "markdown",
   "id": "34250e6c-e4dd-4019-8240-ff600f89aac1",
   "metadata": {},
   "source": [
    "## 請繪製心肌梗塞的體重與年齡分布圖"
   ]
  },
  {
   "cell_type": "code",
   "execution_count": null,
   "id": "4f4eb8b8-c46b-4d60-94ee-e0e78b36cf1e",
   "metadata": {},
   "outputs": [],
   "source": []
  }
 ],
 "metadata": {
  "kernelspec": {
   "display_name": "Python 3 (ipykernel)",
   "language": "python",
   "name": "python3"
  },
  "language_info": {
   "codemirror_mode": {
    "name": "ipython",
    "version": 3
   },
   "file_extension": ".py",
   "mimetype": "text/x-python",
   "name": "python",
   "nbconvert_exporter": "python",
   "pygments_lexer": "ipython3",
   "version": "3.11.7"
  }
 },
 "nbformat": 4,
 "nbformat_minor": 5
}
