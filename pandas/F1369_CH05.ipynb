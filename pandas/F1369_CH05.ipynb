{
 "cells": [
  {
   "cell_type": "markdown",
   "metadata": {},
   "source": [
    "# 第5章：探索式資料分析"
   ]
  },
  {
   "cell_type": "markdown",
   "metadata": {},
   "source": [
    "## 5.1 摘要統計資訊"
   ]
  },
  {
   "cell_type": "code",
   "execution_count": 1,
   "metadata": {
    "ExecuteTime": {
     "end_time": "2024-06-19T15:25:12.367733Z",
     "start_time": "2024-06-19T15:25:11.984834Z"
    },
    "lines_to_next_cell": 2
   },
   "outputs": [
    {
     "name": "stderr",
     "output_type": "stream",
     "text": [
      "C:\\Users\\user\\AppData\\Local\\Temp\\ipykernel_31472\\248959965.py:7: DtypeWarning: Columns (70,71,72,73,74,76,79) have mixed types. Specify dtype option on import or set low_memory=False.\n",
      "  fueleco = pd.read_csv('data/vehicles.csv.zip')\n"
     ]
    },
    {
     "data": {
      "text/html": [
       "<div>\n",
       "<style scoped>\n",
       "    .dataframe tbody tr th:only-of-type {\n",
       "        vertical-align: middle;\n",
       "    }\n",
       "\n",
       "    .dataframe tbody tr th {\n",
       "        vertical-align: top;\n",
       "    }\n",
       "\n",
       "    .dataframe thead th {\n",
       "        text-align: right;\n",
       "    }\n",
       "</style>\n",
       "<table border=\"1\" class=\"dataframe\">\n",
       "  <thead>\n",
       "    <tr style=\"text-align: right;\">\n",
       "      <th></th>\n",
       "      <th>barrels08</th>\n",
       "      <th>barrelsA08</th>\n",
       "      <th>charge120</th>\n",
       "      <th>charge240</th>\n",
       "      <th>city08</th>\n",
       "      <th>city08U</th>\n",
       "      <th>cityA08</th>\n",
       "      <th>cityA08U</th>\n",
       "      <th>cityCD</th>\n",
       "      <th>cityE</th>\n",
       "      <th>...</th>\n",
       "      <th>mfrCode</th>\n",
       "      <th>c240Dscr</th>\n",
       "      <th>charge240b</th>\n",
       "      <th>c240bDscr</th>\n",
       "      <th>createdOn</th>\n",
       "      <th>modifiedOn</th>\n",
       "      <th>startStop</th>\n",
       "      <th>phevCity</th>\n",
       "      <th>phevHwy</th>\n",
       "      <th>phevComb</th>\n",
       "    </tr>\n",
       "  </thead>\n",
       "  <tbody>\n",
       "    <tr>\n",
       "      <th>0</th>\n",
       "      <td>15.695714</td>\n",
       "      <td>0.0</td>\n",
       "      <td>0.0</td>\n",
       "      <td>0.0</td>\n",
       "      <td>19</td>\n",
       "      <td>0.0</td>\n",
       "      <td>0</td>\n",
       "      <td>0.0</td>\n",
       "      <td>0.0</td>\n",
       "      <td>0.0</td>\n",
       "      <td>...</td>\n",
       "      <td>NaN</td>\n",
       "      <td>NaN</td>\n",
       "      <td>0.0</td>\n",
       "      <td>NaN</td>\n",
       "      <td>Tue Jan 01 00:00:00 EST 2013</td>\n",
       "      <td>Tue Jan 01 00:00:00 EST 2013</td>\n",
       "      <td>NaN</td>\n",
       "      <td>0</td>\n",
       "      <td>0</td>\n",
       "      <td>0</td>\n",
       "    </tr>\n",
       "    <tr>\n",
       "      <th>1</th>\n",
       "      <td>29.964545</td>\n",
       "      <td>0.0</td>\n",
       "      <td>0.0</td>\n",
       "      <td>0.0</td>\n",
       "      <td>9</td>\n",
       "      <td>0.0</td>\n",
       "      <td>0</td>\n",
       "      <td>0.0</td>\n",
       "      <td>0.0</td>\n",
       "      <td>0.0</td>\n",
       "      <td>...</td>\n",
       "      <td>NaN</td>\n",
       "      <td>NaN</td>\n",
       "      <td>0.0</td>\n",
       "      <td>NaN</td>\n",
       "      <td>Tue Jan 01 00:00:00 EST 2013</td>\n",
       "      <td>Tue Jan 01 00:00:00 EST 2013</td>\n",
       "      <td>NaN</td>\n",
       "      <td>0</td>\n",
       "      <td>0</td>\n",
       "      <td>0</td>\n",
       "    </tr>\n",
       "    <tr>\n",
       "      <th>2</th>\n",
       "      <td>12.207778</td>\n",
       "      <td>0.0</td>\n",
       "      <td>0.0</td>\n",
       "      <td>0.0</td>\n",
       "      <td>23</td>\n",
       "      <td>0.0</td>\n",
       "      <td>0</td>\n",
       "      <td>0.0</td>\n",
       "      <td>0.0</td>\n",
       "      <td>0.0</td>\n",
       "      <td>...</td>\n",
       "      <td>NaN</td>\n",
       "      <td>NaN</td>\n",
       "      <td>0.0</td>\n",
       "      <td>NaN</td>\n",
       "      <td>Tue Jan 01 00:00:00 EST 2013</td>\n",
       "      <td>Tue Jan 01 00:00:00 EST 2013</td>\n",
       "      <td>NaN</td>\n",
       "      <td>0</td>\n",
       "      <td>0</td>\n",
       "      <td>0</td>\n",
       "    </tr>\n",
       "    <tr>\n",
       "      <th>3</th>\n",
       "      <td>29.964545</td>\n",
       "      <td>0.0</td>\n",
       "      <td>0.0</td>\n",
       "      <td>0.0</td>\n",
       "      <td>10</td>\n",
       "      <td>0.0</td>\n",
       "      <td>0</td>\n",
       "      <td>0.0</td>\n",
       "      <td>0.0</td>\n",
       "      <td>0.0</td>\n",
       "      <td>...</td>\n",
       "      <td>NaN</td>\n",
       "      <td>NaN</td>\n",
       "      <td>0.0</td>\n",
       "      <td>NaN</td>\n",
       "      <td>Tue Jan 01 00:00:00 EST 2013</td>\n",
       "      <td>Tue Jan 01 00:00:00 EST 2013</td>\n",
       "      <td>NaN</td>\n",
       "      <td>0</td>\n",
       "      <td>0</td>\n",
       "      <td>0</td>\n",
       "    </tr>\n",
       "    <tr>\n",
       "      <th>4</th>\n",
       "      <td>17.347895</td>\n",
       "      <td>0.0</td>\n",
       "      <td>0.0</td>\n",
       "      <td>0.0</td>\n",
       "      <td>17</td>\n",
       "      <td>0.0</td>\n",
       "      <td>0</td>\n",
       "      <td>0.0</td>\n",
       "      <td>0.0</td>\n",
       "      <td>0.0</td>\n",
       "      <td>...</td>\n",
       "      <td>NaN</td>\n",
       "      <td>NaN</td>\n",
       "      <td>0.0</td>\n",
       "      <td>NaN</td>\n",
       "      <td>Tue Jan 01 00:00:00 EST 2013</td>\n",
       "      <td>Tue Jan 01 00:00:00 EST 2013</td>\n",
       "      <td>NaN</td>\n",
       "      <td>0</td>\n",
       "      <td>0</td>\n",
       "      <td>0</td>\n",
       "    </tr>\n",
       "    <tr>\n",
       "      <th>...</th>\n",
       "      <td>...</td>\n",
       "      <td>...</td>\n",
       "      <td>...</td>\n",
       "      <td>...</td>\n",
       "      <td>...</td>\n",
       "      <td>...</td>\n",
       "      <td>...</td>\n",
       "      <td>...</td>\n",
       "      <td>...</td>\n",
       "      <td>...</td>\n",
       "      <td>...</td>\n",
       "      <td>...</td>\n",
       "      <td>...</td>\n",
       "      <td>...</td>\n",
       "      <td>...</td>\n",
       "      <td>...</td>\n",
       "      <td>...</td>\n",
       "      <td>...</td>\n",
       "      <td>...</td>\n",
       "      <td>...</td>\n",
       "      <td>...</td>\n",
       "    </tr>\n",
       "    <tr>\n",
       "      <th>39096</th>\n",
       "      <td>14.982273</td>\n",
       "      <td>0.0</td>\n",
       "      <td>0.0</td>\n",
       "      <td>0.0</td>\n",
       "      <td>19</td>\n",
       "      <td>0.0</td>\n",
       "      <td>0</td>\n",
       "      <td>0.0</td>\n",
       "      <td>0.0</td>\n",
       "      <td>0.0</td>\n",
       "      <td>...</td>\n",
       "      <td>NaN</td>\n",
       "      <td>NaN</td>\n",
       "      <td>0.0</td>\n",
       "      <td>NaN</td>\n",
       "      <td>Tue Jan 01 00:00:00 EST 2013</td>\n",
       "      <td>Tue Jan 01 00:00:00 EST 2013</td>\n",
       "      <td>NaN</td>\n",
       "      <td>0</td>\n",
       "      <td>0</td>\n",
       "      <td>0</td>\n",
       "    </tr>\n",
       "    <tr>\n",
       "      <th>39097</th>\n",
       "      <td>14.330870</td>\n",
       "      <td>0.0</td>\n",
       "      <td>0.0</td>\n",
       "      <td>0.0</td>\n",
       "      <td>20</td>\n",
       "      <td>0.0</td>\n",
       "      <td>0</td>\n",
       "      <td>0.0</td>\n",
       "      <td>0.0</td>\n",
       "      <td>0.0</td>\n",
       "      <td>...</td>\n",
       "      <td>NaN</td>\n",
       "      <td>NaN</td>\n",
       "      <td>0.0</td>\n",
       "      <td>NaN</td>\n",
       "      <td>Tue Jan 01 00:00:00 EST 2013</td>\n",
       "      <td>Tue Jan 01 00:00:00 EST 2013</td>\n",
       "      <td>NaN</td>\n",
       "      <td>0</td>\n",
       "      <td>0</td>\n",
       "      <td>0</td>\n",
       "    </tr>\n",
       "    <tr>\n",
       "      <th>39098</th>\n",
       "      <td>15.695714</td>\n",
       "      <td>0.0</td>\n",
       "      <td>0.0</td>\n",
       "      <td>0.0</td>\n",
       "      <td>18</td>\n",
       "      <td>0.0</td>\n",
       "      <td>0</td>\n",
       "      <td>0.0</td>\n",
       "      <td>0.0</td>\n",
       "      <td>0.0</td>\n",
       "      <td>...</td>\n",
       "      <td>NaN</td>\n",
       "      <td>NaN</td>\n",
       "      <td>0.0</td>\n",
       "      <td>NaN</td>\n",
       "      <td>Tue Jan 01 00:00:00 EST 2013</td>\n",
       "      <td>Tue Jan 01 00:00:00 EST 2013</td>\n",
       "      <td>NaN</td>\n",
       "      <td>0</td>\n",
       "      <td>0</td>\n",
       "      <td>0</td>\n",
       "    </tr>\n",
       "    <tr>\n",
       "      <th>39099</th>\n",
       "      <td>15.695714</td>\n",
       "      <td>0.0</td>\n",
       "      <td>0.0</td>\n",
       "      <td>0.0</td>\n",
       "      <td>18</td>\n",
       "      <td>0.0</td>\n",
       "      <td>0</td>\n",
       "      <td>0.0</td>\n",
       "      <td>0.0</td>\n",
       "      <td>0.0</td>\n",
       "      <td>...</td>\n",
       "      <td>NaN</td>\n",
       "      <td>NaN</td>\n",
       "      <td>0.0</td>\n",
       "      <td>NaN</td>\n",
       "      <td>Tue Jan 01 00:00:00 EST 2013</td>\n",
       "      <td>Tue Jan 01 00:00:00 EST 2013</td>\n",
       "      <td>NaN</td>\n",
       "      <td>0</td>\n",
       "      <td>0</td>\n",
       "      <td>0</td>\n",
       "    </tr>\n",
       "    <tr>\n",
       "      <th>39100</th>\n",
       "      <td>18.311667</td>\n",
       "      <td>0.0</td>\n",
       "      <td>0.0</td>\n",
       "      <td>0.0</td>\n",
       "      <td>16</td>\n",
       "      <td>0.0</td>\n",
       "      <td>0</td>\n",
       "      <td>0.0</td>\n",
       "      <td>0.0</td>\n",
       "      <td>0.0</td>\n",
       "      <td>...</td>\n",
       "      <td>NaN</td>\n",
       "      <td>NaN</td>\n",
       "      <td>0.0</td>\n",
       "      <td>NaN</td>\n",
       "      <td>Tue Jan 01 00:00:00 EST 2013</td>\n",
       "      <td>Tue Jan 01 00:00:00 EST 2013</td>\n",
       "      <td>NaN</td>\n",
       "      <td>0</td>\n",
       "      <td>0</td>\n",
       "      <td>0</td>\n",
       "    </tr>\n",
       "  </tbody>\n",
       "</table>\n",
       "<p>39101 rows × 83 columns</p>\n",
       "</div>"
      ],
      "text/plain": [
       "       barrels08  barrelsA08  charge120  charge240  city08  city08U  cityA08  \\\n",
       "0      15.695714         0.0        0.0        0.0      19      0.0        0   \n",
       "1      29.964545         0.0        0.0        0.0       9      0.0        0   \n",
       "2      12.207778         0.0        0.0        0.0      23      0.0        0   \n",
       "3      29.964545         0.0        0.0        0.0      10      0.0        0   \n",
       "4      17.347895         0.0        0.0        0.0      17      0.0        0   \n",
       "...          ...         ...        ...        ...     ...      ...      ...   \n",
       "39096  14.982273         0.0        0.0        0.0      19      0.0        0   \n",
       "39097  14.330870         0.0        0.0        0.0      20      0.0        0   \n",
       "39098  15.695714         0.0        0.0        0.0      18      0.0        0   \n",
       "39099  15.695714         0.0        0.0        0.0      18      0.0        0   \n",
       "39100  18.311667         0.0        0.0        0.0      16      0.0        0   \n",
       "\n",
       "       cityA08U  cityCD  cityE  ...  mfrCode  c240Dscr  charge240b  c240bDscr  \\\n",
       "0           0.0     0.0    0.0  ...      NaN       NaN         0.0        NaN   \n",
       "1           0.0     0.0    0.0  ...      NaN       NaN         0.0        NaN   \n",
       "2           0.0     0.0    0.0  ...      NaN       NaN         0.0        NaN   \n",
       "3           0.0     0.0    0.0  ...      NaN       NaN         0.0        NaN   \n",
       "4           0.0     0.0    0.0  ...      NaN       NaN         0.0        NaN   \n",
       "...         ...     ...    ...  ...      ...       ...         ...        ...   \n",
       "39096       0.0     0.0    0.0  ...      NaN       NaN         0.0        NaN   \n",
       "39097       0.0     0.0    0.0  ...      NaN       NaN         0.0        NaN   \n",
       "39098       0.0     0.0    0.0  ...      NaN       NaN         0.0        NaN   \n",
       "39099       0.0     0.0    0.0  ...      NaN       NaN         0.0        NaN   \n",
       "39100       0.0     0.0    0.0  ...      NaN       NaN         0.0        NaN   \n",
       "\n",
       "                          createdOn                    modifiedOn  startStop  \\\n",
       "0      Tue Jan 01 00:00:00 EST 2013  Tue Jan 01 00:00:00 EST 2013        NaN   \n",
       "1      Tue Jan 01 00:00:00 EST 2013  Tue Jan 01 00:00:00 EST 2013        NaN   \n",
       "2      Tue Jan 01 00:00:00 EST 2013  Tue Jan 01 00:00:00 EST 2013        NaN   \n",
       "3      Tue Jan 01 00:00:00 EST 2013  Tue Jan 01 00:00:00 EST 2013        NaN   \n",
       "4      Tue Jan 01 00:00:00 EST 2013  Tue Jan 01 00:00:00 EST 2013        NaN   \n",
       "...                             ...                           ...        ...   \n",
       "39096  Tue Jan 01 00:00:00 EST 2013  Tue Jan 01 00:00:00 EST 2013        NaN   \n",
       "39097  Tue Jan 01 00:00:00 EST 2013  Tue Jan 01 00:00:00 EST 2013        NaN   \n",
       "39098  Tue Jan 01 00:00:00 EST 2013  Tue Jan 01 00:00:00 EST 2013        NaN   \n",
       "39099  Tue Jan 01 00:00:00 EST 2013  Tue Jan 01 00:00:00 EST 2013        NaN   \n",
       "39100  Tue Jan 01 00:00:00 EST 2013  Tue Jan 01 00:00:00 EST 2013        NaN   \n",
       "\n",
       "       phevCity  phevHwy  phevComb  \n",
       "0             0        0         0  \n",
       "1             0        0         0  \n",
       "2             0        0         0  \n",
       "3             0        0         0  \n",
       "4             0        0         0  \n",
       "...         ...      ...       ...  \n",
       "39096         0        0         0  \n",
       "39097         0        0         0  \n",
       "39098         0        0         0  \n",
       "39099         0        0         0  \n",
       "39100         0        0         0  \n",
       "\n",
       "[39101 rows x 83 columns]"
      ]
     },
     "execution_count": 1,
     "metadata": {},
     "output_type": "execute_result"
    }
   ],
   "source": [
    "import pandas as pd\n",
    "import numpy as np\n",
    "import timeit\n",
    "\n",
    "#pd.set_option('max_columns', 4, 'max_rows', 10, 'max_colwidth', 12)\n",
    "\n",
    "fueleco = pd.read_csv('data/vehicles.csv.zip')\n",
    "fueleco"
   ]
  },
  {
   "cell_type": "code",
   "execution_count": 5,
   "metadata": {},
   "outputs": [
    {
     "name": "stdout",
     "output_type": "stream",
     "text": [
      "<class 'pandas.core.frame.DataFrame'>\n",
      "RangeIndex: 39101 entries, 0 to 39100\n",
      "Data columns (total 83 columns):\n",
      " #   Column           Non-Null Count  Dtype  \n",
      "---  ------           --------------  -----  \n",
      " 0   barrels08        39101 non-null  float64\n",
      " 1   barrelsA08       39101 non-null  float64\n",
      " 2   charge120        39101 non-null  float64\n",
      " 3   charge240        39101 non-null  float64\n",
      " 4   city08           39101 non-null  int64  \n",
      " 5   city08U          39101 non-null  float64\n",
      " 6   cityA08          39101 non-null  int64  \n",
      " 7   cityA08U         39101 non-null  float64\n",
      " 8   cityCD           39101 non-null  float64\n",
      " 9   cityE            39101 non-null  float64\n",
      " 10  cityUF           39101 non-null  float64\n",
      " 11  co2              39101 non-null  int64  \n",
      " 12  co2A             39101 non-null  int64  \n",
      " 13  co2TailpipeAGpm  39101 non-null  float64\n",
      " 14  co2TailpipeGpm   39101 non-null  float64\n",
      " 15  comb08           39101 non-null  int64  \n",
      " 16  comb08U          39101 non-null  float64\n",
      " 17  combA08          39101 non-null  int64  \n",
      " 18  combA08U         39101 non-null  float64\n",
      " 19  combE            39101 non-null  float64\n",
      " 20  combinedCD       39101 non-null  float64\n",
      " 21  combinedUF       39101 non-null  float64\n",
      " 22  cylinders        38956 non-null  float64\n",
      " 23  displ            38958 non-null  float64\n",
      " 24  drive            37912 non-null  object \n",
      " 25  engId            39101 non-null  int64  \n",
      " 26  eng_dscr         23431 non-null  object \n",
      " 27  feScore          39101 non-null  int64  \n",
      " 28  fuelCost08       39101 non-null  int64  \n",
      " 29  fuelCostA08      39101 non-null  int64  \n",
      " 30  fuelType         39101 non-null  object \n",
      " 31  fuelType1        39101 non-null  object \n",
      " 32  ghgScore         39101 non-null  int64  \n",
      " 33  ghgScoreA        39101 non-null  int64  \n",
      " 34  highway08        39101 non-null  int64  \n",
      " 35  highway08U       39101 non-null  float64\n",
      " 36  highwayA08       39101 non-null  int64  \n",
      " 37  highwayA08U      39101 non-null  float64\n",
      " 38  highwayCD        39101 non-null  float64\n",
      " 39  highwayE         39101 non-null  float64\n",
      " 40  highwayUF        39101 non-null  float64\n",
      " 41  hlv              39101 non-null  int64  \n",
      " 42  hpv              39101 non-null  int64  \n",
      " 43  id               39101 non-null  int64  \n",
      " 44  lv2              39101 non-null  int64  \n",
      " 45  lv4              39101 non-null  int64  \n",
      " 46  make             39101 non-null  object \n",
      " 47  model            39101 non-null  object \n",
      " 48  mpgData          39101 non-null  object \n",
      " 49  phevBlended      39101 non-null  bool   \n",
      " 50  pv2              39101 non-null  int64  \n",
      " 51  pv4              39101 non-null  int64  \n",
      " 52  range            39101 non-null  int64  \n",
      " 53  rangeCity        39101 non-null  float64\n",
      " 54  rangeCityA       39101 non-null  float64\n",
      " 55  rangeHwy         39101 non-null  float64\n",
      " 56  rangeHwyA        39101 non-null  float64\n",
      " 57  trany            39090 non-null  object \n",
      " 58  UCity            39101 non-null  float64\n",
      " 59  UCityA           39101 non-null  float64\n",
      " 60  UHighway         39101 non-null  float64\n",
      " 61  UHighwayA        39101 non-null  float64\n",
      " 62  VClass           39101 non-null  object \n",
      " 63  year             39101 non-null  int64  \n",
      " 64  youSaveSpend     39101 non-null  int64  \n",
      " 65  guzzler          2335 non-null   object \n",
      " 66  trans_dscr       15047 non-null  object \n",
      " 67  tCharger         5816 non-null   object \n",
      " 68  sCharger         738 non-null    object \n",
      " 69  atvType          3204 non-null   object \n",
      " 70  fuelType2        1490 non-null   object \n",
      " 71  rangeA           1485 non-null   object \n",
      " 72  evMotor          644 non-null    object \n",
      " 73  mfrCode          8289 non-null   object \n",
      " 74  c240Dscr         53 non-null     object \n",
      " 75  charge240b       39101 non-null  float64\n",
      " 76  c240bDscr        51 non-null     object \n",
      " 77  createdOn        39101 non-null  object \n",
      " 78  modifiedOn       39101 non-null  object \n",
      " 79  startStop        7405 non-null   object \n",
      " 80  phevCity         39101 non-null  int64  \n",
      " 81  phevHwy          39101 non-null  int64  \n",
      " 82  phevComb         39101 non-null  int64  \n",
      "dtypes: bool(1), float64(32), int64(27), object(23)\n",
      "memory usage: 24.5+ MB\n"
     ]
    }
   ],
   "source": [
    "fueleco.info()"
   ]
  },
  {
   "cell_type": "code",
   "execution_count": null,
   "metadata": {
    "ExecuteTime": {
     "end_time": "2024-06-19T15:08:30.155285Z",
     "start_time": "2024-06-19T15:08:25.243648Z"
    },
    "lines_to_next_cell": 2
   },
   "outputs": [],
   "source": [
    "fueleco.mean() "
   ]
  },
  {
   "cell_type": "code",
   "execution_count": null,
   "metadata": {
    "lines_to_next_cell": 2
   },
   "outputs": [],
   "source": [
    "fueleco.std() "
   ]
  },
  {
   "cell_type": "code",
   "execution_count": 7,
   "metadata": {
    "ExecuteTime": {
     "end_time": "2024-06-19T15:08:36.363720Z",
     "start_time": "2024-06-19T15:08:36.207207Z"
    },
    "lines_to_next_cell": 2
   },
   "outputs": [
    {
     "data": {
      "text/html": [
       "<div>\n",
       "<style scoped>\n",
       "    .dataframe tbody tr th:only-of-type {\n",
       "        vertical-align: middle;\n",
       "    }\n",
       "\n",
       "    .dataframe tbody tr th {\n",
       "        vertical-align: top;\n",
       "    }\n",
       "\n",
       "    .dataframe thead th {\n",
       "        text-align: right;\n",
       "    }\n",
       "</style>\n",
       "<table border=\"1\" class=\"dataframe\">\n",
       "  <thead>\n",
       "    <tr style=\"text-align: right;\">\n",
       "      <th></th>\n",
       "      <th>barrels08</th>\n",
       "      <th>barrelsA08</th>\n",
       "      <th>charge120</th>\n",
       "      <th>charge240</th>\n",
       "      <th>city08</th>\n",
       "      <th>city08U</th>\n",
       "      <th>cityA08</th>\n",
       "      <th>cityA08U</th>\n",
       "      <th>cityCD</th>\n",
       "      <th>cityE</th>\n",
       "      <th>...</th>\n",
       "      <th>UCity</th>\n",
       "      <th>UCityA</th>\n",
       "      <th>UHighway</th>\n",
       "      <th>UHighwayA</th>\n",
       "      <th>year</th>\n",
       "      <th>youSaveSpend</th>\n",
       "      <th>charge240b</th>\n",
       "      <th>phevCity</th>\n",
       "      <th>phevHwy</th>\n",
       "      <th>phevComb</th>\n",
       "    </tr>\n",
       "  </thead>\n",
       "  <tbody>\n",
       "    <tr>\n",
       "      <th>count</th>\n",
       "      <td>39101.000000</td>\n",
       "      <td>39101.000000</td>\n",
       "      <td>39101.0</td>\n",
       "      <td>39101.000000</td>\n",
       "      <td>39101.000000</td>\n",
       "      <td>39101.000000</td>\n",
       "      <td>39101.000000</td>\n",
       "      <td>39101.000000</td>\n",
       "      <td>39101.000000</td>\n",
       "      <td>39101.000000</td>\n",
       "      <td>...</td>\n",
       "      <td>39101.000000</td>\n",
       "      <td>39101.000000</td>\n",
       "      <td>39101.000000</td>\n",
       "      <td>39101.000000</td>\n",
       "      <td>39101.000000</td>\n",
       "      <td>39101.000000</td>\n",
       "      <td>39101.000000</td>\n",
       "      <td>39101.000000</td>\n",
       "      <td>39101.000000</td>\n",
       "      <td>39101.000000</td>\n",
       "    </tr>\n",
       "    <tr>\n",
       "      <th>mean</th>\n",
       "      <td>17.442712</td>\n",
       "      <td>0.219276</td>\n",
       "      <td>0.0</td>\n",
       "      <td>0.029630</td>\n",
       "      <td>18.077799</td>\n",
       "      <td>5.040648</td>\n",
       "      <td>0.569883</td>\n",
       "      <td>0.416097</td>\n",
       "      <td>0.000560</td>\n",
       "      <td>0.225181</td>\n",
       "      <td>...</td>\n",
       "      <td>22.789421</td>\n",
       "      <td>0.723139</td>\n",
       "      <td>33.884375</td>\n",
       "      <td>1.009562</td>\n",
       "      <td>2000.635406</td>\n",
       "      <td>-3459.572645</td>\n",
       "      <td>0.005869</td>\n",
       "      <td>0.094703</td>\n",
       "      <td>0.094269</td>\n",
       "      <td>0.094141</td>\n",
       "    </tr>\n",
       "    <tr>\n",
       "      <th>std</th>\n",
       "      <td>4.580230</td>\n",
       "      <td>1.143837</td>\n",
       "      <td>0.0</td>\n",
       "      <td>0.487408</td>\n",
       "      <td>6.970672</td>\n",
       "      <td>10.462790</td>\n",
       "      <td>4.297124</td>\n",
       "      <td>4.093495</td>\n",
       "      <td>0.045392</td>\n",
       "      <td>3.180894</td>\n",
       "      <td>...</td>\n",
       "      <td>9.827224</td>\n",
       "      <td>5.965565</td>\n",
       "      <td>10.399308</td>\n",
       "      <td>6.642943</td>\n",
       "      <td>10.690422</td>\n",
       "      <td>3010.284617</td>\n",
       "      <td>0.165399</td>\n",
       "      <td>2.279478</td>\n",
       "      <td>2.191115</td>\n",
       "      <td>2.226500</td>\n",
       "    </tr>\n",
       "    <tr>\n",
       "      <th>min</th>\n",
       "      <td>0.060000</td>\n",
       "      <td>0.000000</td>\n",
       "      <td>0.0</td>\n",
       "      <td>0.000000</td>\n",
       "      <td>6.000000</td>\n",
       "      <td>0.000000</td>\n",
       "      <td>0.000000</td>\n",
       "      <td>0.000000</td>\n",
       "      <td>0.000000</td>\n",
       "      <td>0.000000</td>\n",
       "      <td>...</td>\n",
       "      <td>0.000000</td>\n",
       "      <td>0.000000</td>\n",
       "      <td>0.000000</td>\n",
       "      <td>0.000000</td>\n",
       "      <td>1984.000000</td>\n",
       "      <td>-26500.000000</td>\n",
       "      <td>0.000000</td>\n",
       "      <td>0.000000</td>\n",
       "      <td>0.000000</td>\n",
       "      <td>0.000000</td>\n",
       "    </tr>\n",
       "    <tr>\n",
       "      <th>25%</th>\n",
       "      <td>14.330870</td>\n",
       "      <td>0.000000</td>\n",
       "      <td>0.0</td>\n",
       "      <td>0.000000</td>\n",
       "      <td>15.000000</td>\n",
       "      <td>0.000000</td>\n",
       "      <td>0.000000</td>\n",
       "      <td>0.000000</td>\n",
       "      <td>0.000000</td>\n",
       "      <td>0.000000</td>\n",
       "      <td>...</td>\n",
       "      <td>18.000000</td>\n",
       "      <td>0.000000</td>\n",
       "      <td>27.370400</td>\n",
       "      <td>0.000000</td>\n",
       "      <td>1991.000000</td>\n",
       "      <td>-4750.000000</td>\n",
       "      <td>0.000000</td>\n",
       "      <td>0.000000</td>\n",
       "      <td>0.000000</td>\n",
       "      <td>0.000000</td>\n",
       "    </tr>\n",
       "    <tr>\n",
       "      <th>50%</th>\n",
       "      <td>17.347895</td>\n",
       "      <td>0.000000</td>\n",
       "      <td>0.0</td>\n",
       "      <td>0.000000</td>\n",
       "      <td>17.000000</td>\n",
       "      <td>0.000000</td>\n",
       "      <td>0.000000</td>\n",
       "      <td>0.000000</td>\n",
       "      <td>0.000000</td>\n",
       "      <td>0.000000</td>\n",
       "      <td>...</td>\n",
       "      <td>21.111100</td>\n",
       "      <td>0.000000</td>\n",
       "      <td>33.000000</td>\n",
       "      <td>0.000000</td>\n",
       "      <td>2001.000000</td>\n",
       "      <td>-3500.000000</td>\n",
       "      <td>0.000000</td>\n",
       "      <td>0.000000</td>\n",
       "      <td>0.000000</td>\n",
       "      <td>0.000000</td>\n",
       "    </tr>\n",
       "    <tr>\n",
       "      <th>75%</th>\n",
       "      <td>20.115000</td>\n",
       "      <td>0.000000</td>\n",
       "      <td>0.0</td>\n",
       "      <td>0.000000</td>\n",
       "      <td>20.000000</td>\n",
       "      <td>0.000000</td>\n",
       "      <td>0.000000</td>\n",
       "      <td>0.000000</td>\n",
       "      <td>0.000000</td>\n",
       "      <td>0.000000</td>\n",
       "      <td>...</td>\n",
       "      <td>25.475600</td>\n",
       "      <td>0.000000</td>\n",
       "      <td>38.600000</td>\n",
       "      <td>0.000000</td>\n",
       "      <td>2010.000000</td>\n",
       "      <td>-1500.000000</td>\n",
       "      <td>0.000000</td>\n",
       "      <td>0.000000</td>\n",
       "      <td>0.000000</td>\n",
       "      <td>0.000000</td>\n",
       "    </tr>\n",
       "    <tr>\n",
       "      <th>max</th>\n",
       "      <td>47.087143</td>\n",
       "      <td>18.311667</td>\n",
       "      <td>0.0</td>\n",
       "      <td>12.000000</td>\n",
       "      <td>150.000000</td>\n",
       "      <td>150.000000</td>\n",
       "      <td>145.000000</td>\n",
       "      <td>145.083500</td>\n",
       "      <td>5.350000</td>\n",
       "      <td>122.000000</td>\n",
       "      <td>...</td>\n",
       "      <td>224.800000</td>\n",
       "      <td>207.262200</td>\n",
       "      <td>182.700000</td>\n",
       "      <td>173.143600</td>\n",
       "      <td>2018.000000</td>\n",
       "      <td>5250.000000</td>\n",
       "      <td>7.000000</td>\n",
       "      <td>97.000000</td>\n",
       "      <td>81.000000</td>\n",
       "      <td>88.000000</td>\n",
       "    </tr>\n",
       "  </tbody>\n",
       "</table>\n",
       "<p>8 rows × 59 columns</p>\n",
       "</div>"
      ],
      "text/plain": [
       "          barrels08    barrelsA08  charge120     charge240        city08  \\\n",
       "count  39101.000000  39101.000000    39101.0  39101.000000  39101.000000   \n",
       "mean      17.442712      0.219276        0.0      0.029630     18.077799   \n",
       "std        4.580230      1.143837        0.0      0.487408      6.970672   \n",
       "min        0.060000      0.000000        0.0      0.000000      6.000000   \n",
       "25%       14.330870      0.000000        0.0      0.000000     15.000000   \n",
       "50%       17.347895      0.000000        0.0      0.000000     17.000000   \n",
       "75%       20.115000      0.000000        0.0      0.000000     20.000000   \n",
       "max       47.087143     18.311667        0.0     12.000000    150.000000   \n",
       "\n",
       "            city08U       cityA08      cityA08U        cityCD         cityE  \\\n",
       "count  39101.000000  39101.000000  39101.000000  39101.000000  39101.000000   \n",
       "mean       5.040648      0.569883      0.416097      0.000560      0.225181   \n",
       "std       10.462790      4.297124      4.093495      0.045392      3.180894   \n",
       "min        0.000000      0.000000      0.000000      0.000000      0.000000   \n",
       "25%        0.000000      0.000000      0.000000      0.000000      0.000000   \n",
       "50%        0.000000      0.000000      0.000000      0.000000      0.000000   \n",
       "75%        0.000000      0.000000      0.000000      0.000000      0.000000   \n",
       "max      150.000000    145.000000    145.083500      5.350000    122.000000   \n",
       "\n",
       "       ...         UCity        UCityA      UHighway     UHighwayA  \\\n",
       "count  ...  39101.000000  39101.000000  39101.000000  39101.000000   \n",
       "mean   ...     22.789421      0.723139     33.884375      1.009562   \n",
       "std    ...      9.827224      5.965565     10.399308      6.642943   \n",
       "min    ...      0.000000      0.000000      0.000000      0.000000   \n",
       "25%    ...     18.000000      0.000000     27.370400      0.000000   \n",
       "50%    ...     21.111100      0.000000     33.000000      0.000000   \n",
       "75%    ...     25.475600      0.000000     38.600000      0.000000   \n",
       "max    ...    224.800000    207.262200    182.700000    173.143600   \n",
       "\n",
       "               year  youSaveSpend    charge240b      phevCity       phevHwy  \\\n",
       "count  39101.000000  39101.000000  39101.000000  39101.000000  39101.000000   \n",
       "mean    2000.635406  -3459.572645      0.005869      0.094703      0.094269   \n",
       "std       10.690422   3010.284617      0.165399      2.279478      2.191115   \n",
       "min     1984.000000 -26500.000000      0.000000      0.000000      0.000000   \n",
       "25%     1991.000000  -4750.000000      0.000000      0.000000      0.000000   \n",
       "50%     2001.000000  -3500.000000      0.000000      0.000000      0.000000   \n",
       "75%     2010.000000  -1500.000000      0.000000      0.000000      0.000000   \n",
       "max     2018.000000   5250.000000      7.000000     97.000000     81.000000   \n",
       "\n",
       "           phevComb  \n",
       "count  39101.000000  \n",
       "mean       0.094141  \n",
       "std        2.226500  \n",
       "min        0.000000  \n",
       "25%        0.000000  \n",
       "50%        0.000000  \n",
       "75%        0.000000  \n",
       "max       88.000000  \n",
       "\n",
       "[8 rows x 59 columns]"
      ]
     },
     "execution_count": 7,
     "metadata": {},
     "output_type": "execute_result"
    }
   ],
   "source": [
    "fueleco.describe()  "
   ]
  },
  {
   "cell_type": "code",
   "execution_count": 9,
   "metadata": {
    "ExecuteTime": {
     "end_time": "2024-06-19T15:08:38.264280Z",
     "start_time": "2024-06-19T15:08:38.157641Z"
    },
    "lines_to_next_cell": 2
   },
   "outputs": [
    {
     "data": {
      "text/html": [
       "<div>\n",
       "<style scoped>\n",
       "    .dataframe tbody tr th:only-of-type {\n",
       "        vertical-align: middle;\n",
       "    }\n",
       "\n",
       "    .dataframe tbody tr th {\n",
       "        vertical-align: top;\n",
       "    }\n",
       "\n",
       "    .dataframe thead th {\n",
       "        text-align: right;\n",
       "    }\n",
       "</style>\n",
       "<table border=\"1\" class=\"dataframe\">\n",
       "  <thead>\n",
       "    <tr style=\"text-align: right;\">\n",
       "      <th></th>\n",
       "      <th>drive</th>\n",
       "      <th>eng_dscr</th>\n",
       "      <th>fuelType</th>\n",
       "      <th>fuelType1</th>\n",
       "      <th>make</th>\n",
       "      <th>model</th>\n",
       "      <th>mpgData</th>\n",
       "      <th>trany</th>\n",
       "      <th>VClass</th>\n",
       "      <th>guzzler</th>\n",
       "      <th>...</th>\n",
       "      <th>atvType</th>\n",
       "      <th>fuelType2</th>\n",
       "      <th>rangeA</th>\n",
       "      <th>evMotor</th>\n",
       "      <th>mfrCode</th>\n",
       "      <th>c240Dscr</th>\n",
       "      <th>c240bDscr</th>\n",
       "      <th>createdOn</th>\n",
       "      <th>modifiedOn</th>\n",
       "      <th>startStop</th>\n",
       "    </tr>\n",
       "  </thead>\n",
       "  <tbody>\n",
       "    <tr>\n",
       "      <th>count</th>\n",
       "      <td>37912</td>\n",
       "      <td>23431</td>\n",
       "      <td>39101</td>\n",
       "      <td>39101</td>\n",
       "      <td>39101</td>\n",
       "      <td>39101</td>\n",
       "      <td>39101</td>\n",
       "      <td>39090</td>\n",
       "      <td>39101</td>\n",
       "      <td>2335</td>\n",
       "      <td>...</td>\n",
       "      <td>3204</td>\n",
       "      <td>1490</td>\n",
       "      <td>1485</td>\n",
       "      <td>644</td>\n",
       "      <td>8289</td>\n",
       "      <td>53</td>\n",
       "      <td>51</td>\n",
       "      <td>39101</td>\n",
       "      <td>39101</td>\n",
       "      <td>7405</td>\n",
       "    </tr>\n",
       "    <tr>\n",
       "      <th>unique</th>\n",
       "      <td>7</td>\n",
       "      <td>545</td>\n",
       "      <td>14</td>\n",
       "      <td>6</td>\n",
       "      <td>134</td>\n",
       "      <td>3816</td>\n",
       "      <td>2</td>\n",
       "      <td>37</td>\n",
       "      <td>34</td>\n",
       "      <td>3</td>\n",
       "      <td>...</td>\n",
       "      <td>8</td>\n",
       "      <td>4</td>\n",
       "      <td>216</td>\n",
       "      <td>125</td>\n",
       "      <td>46</td>\n",
       "      <td>5</td>\n",
       "      <td>4</td>\n",
       "      <td>195</td>\n",
       "      <td>68</td>\n",
       "      <td>2</td>\n",
       "    </tr>\n",
       "    <tr>\n",
       "      <th>top</th>\n",
       "      <td>Front-Wheel Drive</td>\n",
       "      <td>(FFS)</td>\n",
       "      <td>Regular</td>\n",
       "      <td>Regular Gasoline</td>\n",
       "      <td>Chevrolet</td>\n",
       "      <td>F150 Pickup 2WD</td>\n",
       "      <td>N</td>\n",
       "      <td>Automatic 4-spd</td>\n",
       "      <td>Compact Cars</td>\n",
       "      <td>G</td>\n",
       "      <td>...</td>\n",
       "      <td>FFV</td>\n",
       "      <td>E85</td>\n",
       "      <td>290</td>\n",
       "      <td>288V Ni-MH</td>\n",
       "      <td>GMX</td>\n",
       "      <td>standard charger</td>\n",
       "      <td>80 amp dual charger</td>\n",
       "      <td>Tue Jan 01 00:00:00 EST 2013</td>\n",
       "      <td>Tue Jan 01 00:00:00 EST 2013</td>\n",
       "      <td>N</td>\n",
       "    </tr>\n",
       "    <tr>\n",
       "      <th>freq</th>\n",
       "      <td>13653</td>\n",
       "      <td>8827</td>\n",
       "      <td>25620</td>\n",
       "      <td>26931</td>\n",
       "      <td>3900</td>\n",
       "      <td>214</td>\n",
       "      <td>26400</td>\n",
       "      <td>11045</td>\n",
       "      <td>5661</td>\n",
       "      <td>1356</td>\n",
       "      <td>...</td>\n",
       "      <td>1383</td>\n",
       "      <td>1383</td>\n",
       "      <td>74</td>\n",
       "      <td>117</td>\n",
       "      <td>1255</td>\n",
       "      <td>42</td>\n",
       "      <td>42</td>\n",
       "      <td>34199</td>\n",
       "      <td>29438</td>\n",
       "      <td>5176</td>\n",
       "    </tr>\n",
       "  </tbody>\n",
       "</table>\n",
       "<p>4 rows × 23 columns</p>\n",
       "</div>"
      ],
      "text/plain": [
       "                    drive eng_dscr fuelType         fuelType1       make  \\\n",
       "count               37912    23431    39101             39101      39101   \n",
       "unique                  7      545       14                 6        134   \n",
       "top     Front-Wheel Drive    (FFS)  Regular  Regular Gasoline  Chevrolet   \n",
       "freq                13653     8827    25620             26931       3900   \n",
       "\n",
       "                  model mpgData            trany        VClass guzzler  ...  \\\n",
       "count             39101   39101            39090         39101    2335  ...   \n",
       "unique             3816       2               37            34       3  ...   \n",
       "top     F150 Pickup 2WD       N  Automatic 4-spd  Compact Cars       G  ...   \n",
       "freq                214   26400            11045          5661    1356  ...   \n",
       "\n",
       "       atvType fuelType2 rangeA     evMotor mfrCode          c240Dscr  \\\n",
       "count     3204      1490   1485         644    8289                53   \n",
       "unique       8         4    216         125      46                 5   \n",
       "top        FFV       E85    290  288V Ni-MH     GMX  standard charger   \n",
       "freq      1383      1383     74         117    1255                42   \n",
       "\n",
       "                  c240bDscr                     createdOn  \\\n",
       "count                    51                         39101   \n",
       "unique                    4                           195   \n",
       "top     80 amp dual charger  Tue Jan 01 00:00:00 EST 2013   \n",
       "freq                     42                         34199   \n",
       "\n",
       "                          modifiedOn startStop  \n",
       "count                          39101      7405  \n",
       "unique                            68         2  \n",
       "top     Tue Jan 01 00:00:00 EST 2013         N  \n",
       "freq                           29438      5176  \n",
       "\n",
       "[4 rows x 23 columns]"
      ]
     },
     "execution_count": 9,
     "metadata": {},
     "output_type": "execute_result"
    }
   ],
   "source": [
    "fueleco.describe(include=object) "
   ]
  },
  {
   "cell_type": "code",
   "execution_count": 11,
   "metadata": {
    "ExecuteTime": {
     "end_time": "2024-06-19T15:08:39.951265Z",
     "start_time": "2024-06-19T15:08:39.749844Z"
    },
    "lines_to_next_cell": 2
   },
   "outputs": [
    {
     "data": {
      "text/html": [
       "<div>\n",
       "<style scoped>\n",
       "    .dataframe tbody tr th:only-of-type {\n",
       "        vertical-align: middle;\n",
       "    }\n",
       "\n",
       "    .dataframe tbody tr th {\n",
       "        vertical-align: top;\n",
       "    }\n",
       "\n",
       "    .dataframe thead th {\n",
       "        text-align: right;\n",
       "    }\n",
       "</style>\n",
       "<table border=\"1\" class=\"dataframe\">\n",
       "  <thead>\n",
       "    <tr style=\"text-align: right;\">\n",
       "      <th></th>\n",
       "      <th>count</th>\n",
       "      <th>mean</th>\n",
       "      <th>std</th>\n",
       "      <th>min</th>\n",
       "      <th>25%</th>\n",
       "      <th>50%</th>\n",
       "      <th>75%</th>\n",
       "      <th>max</th>\n",
       "    </tr>\n",
       "  </thead>\n",
       "  <tbody>\n",
       "    <tr>\n",
       "      <th>barrels08</th>\n",
       "      <td>39101.0</td>\n",
       "      <td>17.442712</td>\n",
       "      <td>4.580230</td>\n",
       "      <td>0.06</td>\n",
       "      <td>14.330870</td>\n",
       "      <td>17.347895</td>\n",
       "      <td>20.115000</td>\n",
       "      <td>47.087143</td>\n",
       "    </tr>\n",
       "    <tr>\n",
       "      <th>barrelsA08</th>\n",
       "      <td>39101.0</td>\n",
       "      <td>0.219276</td>\n",
       "      <td>1.143837</td>\n",
       "      <td>0.00</td>\n",
       "      <td>0.000000</td>\n",
       "      <td>0.000000</td>\n",
       "      <td>0.000000</td>\n",
       "      <td>18.311667</td>\n",
       "    </tr>\n",
       "    <tr>\n",
       "      <th>charge120</th>\n",
       "      <td>39101.0</td>\n",
       "      <td>0.000000</td>\n",
       "      <td>0.000000</td>\n",
       "      <td>0.00</td>\n",
       "      <td>0.000000</td>\n",
       "      <td>0.000000</td>\n",
       "      <td>0.000000</td>\n",
       "      <td>0.000000</td>\n",
       "    </tr>\n",
       "    <tr>\n",
       "      <th>charge240</th>\n",
       "      <td>39101.0</td>\n",
       "      <td>0.029630</td>\n",
       "      <td>0.487408</td>\n",
       "      <td>0.00</td>\n",
       "      <td>0.000000</td>\n",
       "      <td>0.000000</td>\n",
       "      <td>0.000000</td>\n",
       "      <td>12.000000</td>\n",
       "    </tr>\n",
       "    <tr>\n",
       "      <th>city08</th>\n",
       "      <td>39101.0</td>\n",
       "      <td>18.077799</td>\n",
       "      <td>6.970672</td>\n",
       "      <td>6.00</td>\n",
       "      <td>15.000000</td>\n",
       "      <td>17.000000</td>\n",
       "      <td>20.000000</td>\n",
       "      <td>150.000000</td>\n",
       "    </tr>\n",
       "    <tr>\n",
       "      <th>city08U</th>\n",
       "      <td>39101.0</td>\n",
       "      <td>5.040648</td>\n",
       "      <td>10.462790</td>\n",
       "      <td>0.00</td>\n",
       "      <td>0.000000</td>\n",
       "      <td>0.000000</td>\n",
       "      <td>0.000000</td>\n",
       "      <td>150.000000</td>\n",
       "    </tr>\n",
       "    <tr>\n",
       "      <th>cityA08</th>\n",
       "      <td>39101.0</td>\n",
       "      <td>0.569883</td>\n",
       "      <td>4.297124</td>\n",
       "      <td>0.00</td>\n",
       "      <td>0.000000</td>\n",
       "      <td>0.000000</td>\n",
       "      <td>0.000000</td>\n",
       "      <td>145.000000</td>\n",
       "    </tr>\n",
       "    <tr>\n",
       "      <th>cityA08U</th>\n",
       "      <td>39101.0</td>\n",
       "      <td>0.416097</td>\n",
       "      <td>4.093495</td>\n",
       "      <td>0.00</td>\n",
       "      <td>0.000000</td>\n",
       "      <td>0.000000</td>\n",
       "      <td>0.000000</td>\n",
       "      <td>145.083500</td>\n",
       "    </tr>\n",
       "    <tr>\n",
       "      <th>cityCD</th>\n",
       "      <td>39101.0</td>\n",
       "      <td>0.000560</td>\n",
       "      <td>0.045392</td>\n",
       "      <td>0.00</td>\n",
       "      <td>0.000000</td>\n",
       "      <td>0.000000</td>\n",
       "      <td>0.000000</td>\n",
       "      <td>5.350000</td>\n",
       "    </tr>\n",
       "    <tr>\n",
       "      <th>cityE</th>\n",
       "      <td>39101.0</td>\n",
       "      <td>0.225181</td>\n",
       "      <td>3.180894</td>\n",
       "      <td>0.00</td>\n",
       "      <td>0.000000</td>\n",
       "      <td>0.000000</td>\n",
       "      <td>0.000000</td>\n",
       "      <td>122.000000</td>\n",
       "    </tr>\n",
       "    <tr>\n",
       "      <th>cityUF</th>\n",
       "      <td>39101.0</td>\n",
       "      <td>0.000975</td>\n",
       "      <td>0.022785</td>\n",
       "      <td>0.00</td>\n",
       "      <td>0.000000</td>\n",
       "      <td>0.000000</td>\n",
       "      <td>0.000000</td>\n",
       "      <td>0.896000</td>\n",
       "    </tr>\n",
       "    <tr>\n",
       "      <th>co2</th>\n",
       "      <td>39101.0</td>\n",
       "      <td>72.538989</td>\n",
       "      <td>163.252019</td>\n",
       "      <td>-1.00</td>\n",
       "      <td>-1.000000</td>\n",
       "      <td>-1.000000</td>\n",
       "      <td>-1.000000</td>\n",
       "      <td>847.000000</td>\n",
       "    </tr>\n",
       "    <tr>\n",
       "      <th>co2A</th>\n",
       "      <td>39101.0</td>\n",
       "      <td>5.543950</td>\n",
       "      <td>55.956932</td>\n",
       "      <td>-1.00</td>\n",
       "      <td>-1.000000</td>\n",
       "      <td>-1.000000</td>\n",
       "      <td>-1.000000</td>\n",
       "      <td>713.000000</td>\n",
       "    </tr>\n",
       "    <tr>\n",
       "      <th>co2TailpipeAGpm</th>\n",
       "      <td>39101.0</td>\n",
       "      <td>17.826864</td>\n",
       "      <td>93.937414</td>\n",
       "      <td>0.00</td>\n",
       "      <td>0.000000</td>\n",
       "      <td>0.000000</td>\n",
       "      <td>0.000000</td>\n",
       "      <td>713.000000</td>\n",
       "    </tr>\n",
       "    <tr>\n",
       "      <th>co2TailpipeGpm</th>\n",
       "      <td>39101.0</td>\n",
       "      <td>470.704841</td>\n",
       "      <td>122.351021</td>\n",
       "      <td>0.00</td>\n",
       "      <td>386.391304</td>\n",
       "      <td>459.000000</td>\n",
       "      <td>535.789474</td>\n",
       "      <td>1269.571429</td>\n",
       "    </tr>\n",
       "    <tr>\n",
       "      <th>comb08</th>\n",
       "      <td>39101.0</td>\n",
       "      <td>20.323828</td>\n",
       "      <td>6.882807</td>\n",
       "      <td>7.00</td>\n",
       "      <td>17.000000</td>\n",
       "      <td>20.000000</td>\n",
       "      <td>23.000000</td>\n",
       "      <td>136.000000</td>\n",
       "    </tr>\n",
       "    <tr>\n",
       "      <th>comb08U</th>\n",
       "      <td>39101.0</td>\n",
       "      <td>5.652724</td>\n",
       "      <td>11.231748</td>\n",
       "      <td>0.00</td>\n",
       "      <td>0.000000</td>\n",
       "      <td>0.000000</td>\n",
       "      <td>0.000000</td>\n",
       "      <td>136.000000</td>\n",
       "    </tr>\n",
       "    <tr>\n",
       "      <th>combA08</th>\n",
       "      <td>39101.0</td>\n",
       "      <td>0.631160</td>\n",
       "      <td>4.395797</td>\n",
       "      <td>0.00</td>\n",
       "      <td>0.000000</td>\n",
       "      <td>0.000000</td>\n",
       "      <td>0.000000</td>\n",
       "      <td>133.000000</td>\n",
       "    </tr>\n",
       "    <tr>\n",
       "      <th>combA08U</th>\n",
       "      <td>39101.0</td>\n",
       "      <td>0.453725</td>\n",
       "      <td>4.131767</td>\n",
       "      <td>0.00</td>\n",
       "      <td>0.000000</td>\n",
       "      <td>0.000000</td>\n",
       "      <td>0.000000</td>\n",
       "      <td>133.266200</td>\n",
       "    </tr>\n",
       "    <tr>\n",
       "      <th>combE</th>\n",
       "      <td>39101.0</td>\n",
       "      <td>0.230912</td>\n",
       "      <td>3.244463</td>\n",
       "      <td>0.00</td>\n",
       "      <td>0.000000</td>\n",
       "      <td>0.000000</td>\n",
       "      <td>0.000000</td>\n",
       "      <td>121.000000</td>\n",
       "    </tr>\n",
       "    <tr>\n",
       "      <th>combinedCD</th>\n",
       "      <td>39101.0</td>\n",
       "      <td>0.000459</td>\n",
       "      <td>0.040759</td>\n",
       "      <td>0.00</td>\n",
       "      <td>0.000000</td>\n",
       "      <td>0.000000</td>\n",
       "      <td>0.000000</td>\n",
       "      <td>4.800000</td>\n",
       "    </tr>\n",
       "    <tr>\n",
       "      <th>combinedUF</th>\n",
       "      <td>39101.0</td>\n",
       "      <td>0.000959</td>\n",
       "      <td>0.022392</td>\n",
       "      <td>0.00</td>\n",
       "      <td>0.000000</td>\n",
       "      <td>0.000000</td>\n",
       "      <td>0.000000</td>\n",
       "      <td>0.888000</td>\n",
       "    </tr>\n",
       "    <tr>\n",
       "      <th>cylinders</th>\n",
       "      <td>38956.0</td>\n",
       "      <td>5.729105</td>\n",
       "      <td>1.754487</td>\n",
       "      <td>2.00</td>\n",
       "      <td>4.000000</td>\n",
       "      <td>6.000000</td>\n",
       "      <td>6.000000</td>\n",
       "      <td>16.000000</td>\n",
       "    </tr>\n",
       "    <tr>\n",
       "      <th>displ</th>\n",
       "      <td>38958.0</td>\n",
       "      <td>3.309829</td>\n",
       "      <td>1.361925</td>\n",
       "      <td>0.00</td>\n",
       "      <td>2.200000</td>\n",
       "      <td>3.000000</td>\n",
       "      <td>4.300000</td>\n",
       "      <td>8.400000</td>\n",
       "    </tr>\n",
       "    <tr>\n",
       "      <th>engId</th>\n",
       "      <td>39101.0</td>\n",
       "      <td>8582.377382</td>\n",
       "      <td>17606.675590</td>\n",
       "      <td>0.00</td>\n",
       "      <td>0.000000</td>\n",
       "      <td>202.000000</td>\n",
       "      <td>4401.000000</td>\n",
       "      <td>69102.000000</td>\n",
       "    </tr>\n",
       "    <tr>\n",
       "      <th>feScore</th>\n",
       "      <td>39101.0</td>\n",
       "      <td>0.122580</td>\n",
       "      <td>2.516348</td>\n",
       "      <td>-1.00</td>\n",
       "      <td>-1.000000</td>\n",
       "      <td>-1.000000</td>\n",
       "      <td>-1.000000</td>\n",
       "      <td>10.000000</td>\n",
       "    </tr>\n",
       "    <tr>\n",
       "      <th>fuelCost08</th>\n",
       "      <td>39101.0</td>\n",
       "      <td>2242.470781</td>\n",
       "      <td>601.273869</td>\n",
       "      <td>500.00</td>\n",
       "      <td>1850.000000</td>\n",
       "      <td>2250.000000</td>\n",
       "      <td>2500.000000</td>\n",
       "      <td>6850.000000</td>\n",
       "    </tr>\n",
       "    <tr>\n",
       "      <th>fuelCostA08</th>\n",
       "      <td>39101.0</td>\n",
       "      <td>91.335260</td>\n",
       "      <td>479.485802</td>\n",
       "      <td>0.00</td>\n",
       "      <td>0.000000</td>\n",
       "      <td>0.000000</td>\n",
       "      <td>0.000000</td>\n",
       "      <td>3850.000000</td>\n",
       "    </tr>\n",
       "    <tr>\n",
       "      <th>ghgScore</th>\n",
       "      <td>39101.0</td>\n",
       "      <td>0.120866</td>\n",
       "      <td>2.512612</td>\n",
       "      <td>-1.00</td>\n",
       "      <td>-1.000000</td>\n",
       "      <td>-1.000000</td>\n",
       "      <td>-1.000000</td>\n",
       "      <td>10.000000</td>\n",
       "    </tr>\n",
       "    <tr>\n",
       "      <th>ghgScoreA</th>\n",
       "      <td>39101.0</td>\n",
       "      <td>-0.923889</td>\n",
       "      <td>0.651017</td>\n",
       "      <td>-1.00</td>\n",
       "      <td>-1.000000</td>\n",
       "      <td>-1.000000</td>\n",
       "      <td>-1.000000</td>\n",
       "      <td>8.000000</td>\n",
       "    </tr>\n",
       "    <tr>\n",
       "      <th>highway08</th>\n",
       "      <td>39101.0</td>\n",
       "      <td>24.208588</td>\n",
       "      <td>7.128070</td>\n",
       "      <td>9.00</td>\n",
       "      <td>20.000000</td>\n",
       "      <td>24.000000</td>\n",
       "      <td>27.000000</td>\n",
       "      <td>122.000000</td>\n",
       "    </tr>\n",
       "    <tr>\n",
       "      <th>highway08U</th>\n",
       "      <td>39101.0</td>\n",
       "      <td>6.712736</td>\n",
       "      <td>12.809865</td>\n",
       "      <td>0.00</td>\n",
       "      <td>0.000000</td>\n",
       "      <td>0.000000</td>\n",
       "      <td>0.000000</td>\n",
       "      <td>122.000000</td>\n",
       "    </tr>\n",
       "    <tr>\n",
       "      <th>highwayA08</th>\n",
       "      <td>39101.0</td>\n",
       "      <td>0.736452</td>\n",
       "      <td>4.694207</td>\n",
       "      <td>0.00</td>\n",
       "      <td>0.000000</td>\n",
       "      <td>0.000000</td>\n",
       "      <td>0.000000</td>\n",
       "      <td>121.000000</td>\n",
       "    </tr>\n",
       "    <tr>\n",
       "      <th>highwayA08U</th>\n",
       "      <td>39101.0</td>\n",
       "      <td>0.523423</td>\n",
       "      <td>4.343967</td>\n",
       "      <td>0.00</td>\n",
       "      <td>0.000000</td>\n",
       "      <td>0.000000</td>\n",
       "      <td>0.000000</td>\n",
       "      <td>121.200500</td>\n",
       "    </tr>\n",
       "    <tr>\n",
       "      <th>highwayCD</th>\n",
       "      <td>39101.0</td>\n",
       "      <td>0.000343</td>\n",
       "      <td>0.035457</td>\n",
       "      <td>0.00</td>\n",
       "      <td>0.000000</td>\n",
       "      <td>0.000000</td>\n",
       "      <td>0.000000</td>\n",
       "      <td>4.060000</td>\n",
       "    </tr>\n",
       "    <tr>\n",
       "      <th>highwayE</th>\n",
       "      <td>39101.0</td>\n",
       "      <td>0.238526</td>\n",
       "      <td>3.342921</td>\n",
       "      <td>0.00</td>\n",
       "      <td>0.000000</td>\n",
       "      <td>0.000000</td>\n",
       "      <td>0.000000</td>\n",
       "      <td>120.000000</td>\n",
       "    </tr>\n",
       "    <tr>\n",
       "      <th>highwayUF</th>\n",
       "      <td>39101.0</td>\n",
       "      <td>0.000938</td>\n",
       "      <td>0.021931</td>\n",
       "      <td>0.00</td>\n",
       "      <td>0.000000</td>\n",
       "      <td>0.000000</td>\n",
       "      <td>0.000000</td>\n",
       "      <td>0.877000</td>\n",
       "    </tr>\n",
       "    <tr>\n",
       "      <th>hlv</th>\n",
       "      <td>39101.0</td>\n",
       "      <td>2.029539</td>\n",
       "      <td>5.959735</td>\n",
       "      <td>0.00</td>\n",
       "      <td>0.000000</td>\n",
       "      <td>0.000000</td>\n",
       "      <td>0.000000</td>\n",
       "      <td>49.000000</td>\n",
       "    </tr>\n",
       "    <tr>\n",
       "      <th>hpv</th>\n",
       "      <td>39101.0</td>\n",
       "      <td>10.411243</td>\n",
       "      <td>28.167271</td>\n",
       "      <td>0.00</td>\n",
       "      <td>0.000000</td>\n",
       "      <td>0.000000</td>\n",
       "      <td>0.000000</td>\n",
       "      <td>195.000000</td>\n",
       "    </tr>\n",
       "    <tr>\n",
       "      <th>id</th>\n",
       "      <td>39101.0</td>\n",
       "      <td>19662.541188</td>\n",
       "      <td>11413.329199</td>\n",
       "      <td>1.00</td>\n",
       "      <td>9776.000000</td>\n",
       "      <td>19552.000000</td>\n",
       "      <td>29555.000000</td>\n",
       "      <td>39483.000000</td>\n",
       "    </tr>\n",
       "    <tr>\n",
       "      <th>lv2</th>\n",
       "      <td>39101.0</td>\n",
       "      <td>1.834812</td>\n",
       "      <td>4.407887</td>\n",
       "      <td>0.00</td>\n",
       "      <td>0.000000</td>\n",
       "      <td>0.000000</td>\n",
       "      <td>0.000000</td>\n",
       "      <td>41.000000</td>\n",
       "    </tr>\n",
       "    <tr>\n",
       "      <th>lv4</th>\n",
       "      <td>39101.0</td>\n",
       "      <td>6.155930</td>\n",
       "      <td>9.698101</td>\n",
       "      <td>0.00</td>\n",
       "      <td>0.000000</td>\n",
       "      <td>0.000000</td>\n",
       "      <td>13.000000</td>\n",
       "      <td>55.000000</td>\n",
       "    </tr>\n",
       "    <tr>\n",
       "      <th>pv2</th>\n",
       "      <td>39101.0</td>\n",
       "      <td>13.649574</td>\n",
       "      <td>31.214466</td>\n",
       "      <td>0.00</td>\n",
       "      <td>0.000000</td>\n",
       "      <td>0.000000</td>\n",
       "      <td>0.000000</td>\n",
       "      <td>194.000000</td>\n",
       "    </tr>\n",
       "    <tr>\n",
       "      <th>pv4</th>\n",
       "      <td>39101.0</td>\n",
       "      <td>33.883711</td>\n",
       "      <td>45.991687</td>\n",
       "      <td>0.00</td>\n",
       "      <td>0.000000</td>\n",
       "      <td>0.000000</td>\n",
       "      <td>91.000000</td>\n",
       "      <td>192.000000</td>\n",
       "    </tr>\n",
       "    <tr>\n",
       "      <th>range</th>\n",
       "      <td>39101.0</td>\n",
       "      <td>0.500243</td>\n",
       "      <td>9.742080</td>\n",
       "      <td>0.00</td>\n",
       "      <td>0.000000</td>\n",
       "      <td>0.000000</td>\n",
       "      <td>0.000000</td>\n",
       "      <td>335.000000</td>\n",
       "    </tr>\n",
       "    <tr>\n",
       "      <th>rangeCity</th>\n",
       "      <td>39101.0</td>\n",
       "      <td>0.458375</td>\n",
       "      <td>9.510276</td>\n",
       "      <td>0.00</td>\n",
       "      <td>0.000000</td>\n",
       "      <td>0.000000</td>\n",
       "      <td>0.000000</td>\n",
       "      <td>333.100000</td>\n",
       "    </tr>\n",
       "    <tr>\n",
       "      <th>rangeCityA</th>\n",
       "      <td>39101.0</td>\n",
       "      <td>0.050978</td>\n",
       "      <td>1.383722</td>\n",
       "      <td>0.00</td>\n",
       "      <td>0.000000</td>\n",
       "      <td>0.000000</td>\n",
       "      <td>0.000000</td>\n",
       "      <td>103.030000</td>\n",
       "    </tr>\n",
       "    <tr>\n",
       "      <th>rangeHwy</th>\n",
       "      <td>39101.0</td>\n",
       "      <td>0.450392</td>\n",
       "      <td>9.711025</td>\n",
       "      <td>0.00</td>\n",
       "      <td>0.000000</td>\n",
       "      <td>0.000000</td>\n",
       "      <td>0.000000</td>\n",
       "      <td>346.900000</td>\n",
       "    </tr>\n",
       "    <tr>\n",
       "      <th>rangeHwyA</th>\n",
       "      <td>39101.0</td>\n",
       "      <td>0.046958</td>\n",
       "      <td>1.244770</td>\n",
       "      <td>0.00</td>\n",
       "      <td>0.000000</td>\n",
       "      <td>0.000000</td>\n",
       "      <td>0.000000</td>\n",
       "      <td>90.550000</td>\n",
       "    </tr>\n",
       "    <tr>\n",
       "      <th>UCity</th>\n",
       "      <td>39101.0</td>\n",
       "      <td>22.789421</td>\n",
       "      <td>9.827224</td>\n",
       "      <td>0.00</td>\n",
       "      <td>18.000000</td>\n",
       "      <td>21.111100</td>\n",
       "      <td>25.475600</td>\n",
       "      <td>224.800000</td>\n",
       "    </tr>\n",
       "    <tr>\n",
       "      <th>UCityA</th>\n",
       "      <td>39101.0</td>\n",
       "      <td>0.723139</td>\n",
       "      <td>5.965565</td>\n",
       "      <td>0.00</td>\n",
       "      <td>0.000000</td>\n",
       "      <td>0.000000</td>\n",
       "      <td>0.000000</td>\n",
       "      <td>207.262200</td>\n",
       "    </tr>\n",
       "    <tr>\n",
       "      <th>UHighway</th>\n",
       "      <td>39101.0</td>\n",
       "      <td>33.884375</td>\n",
       "      <td>10.399308</td>\n",
       "      <td>0.00</td>\n",
       "      <td>27.370400</td>\n",
       "      <td>33.000000</td>\n",
       "      <td>38.600000</td>\n",
       "      <td>182.700000</td>\n",
       "    </tr>\n",
       "    <tr>\n",
       "      <th>UHighwayA</th>\n",
       "      <td>39101.0</td>\n",
       "      <td>1.009562</td>\n",
       "      <td>6.642943</td>\n",
       "      <td>0.00</td>\n",
       "      <td>0.000000</td>\n",
       "      <td>0.000000</td>\n",
       "      <td>0.000000</td>\n",
       "      <td>173.143600</td>\n",
       "    </tr>\n",
       "    <tr>\n",
       "      <th>year</th>\n",
       "      <td>39101.0</td>\n",
       "      <td>2000.635406</td>\n",
       "      <td>10.690422</td>\n",
       "      <td>1984.00</td>\n",
       "      <td>1991.000000</td>\n",
       "      <td>2001.000000</td>\n",
       "      <td>2010.000000</td>\n",
       "      <td>2018.000000</td>\n",
       "    </tr>\n",
       "    <tr>\n",
       "      <th>youSaveSpend</th>\n",
       "      <td>39101.0</td>\n",
       "      <td>-3459.572645</td>\n",
       "      <td>3010.284617</td>\n",
       "      <td>-26500.00</td>\n",
       "      <td>-4750.000000</td>\n",
       "      <td>-3500.000000</td>\n",
       "      <td>-1500.000000</td>\n",
       "      <td>5250.000000</td>\n",
       "    </tr>\n",
       "    <tr>\n",
       "      <th>charge240b</th>\n",
       "      <td>39101.0</td>\n",
       "      <td>0.005869</td>\n",
       "      <td>0.165399</td>\n",
       "      <td>0.00</td>\n",
       "      <td>0.000000</td>\n",
       "      <td>0.000000</td>\n",
       "      <td>0.000000</td>\n",
       "      <td>7.000000</td>\n",
       "    </tr>\n",
       "    <tr>\n",
       "      <th>phevCity</th>\n",
       "      <td>39101.0</td>\n",
       "      <td>0.094703</td>\n",
       "      <td>2.279478</td>\n",
       "      <td>0.00</td>\n",
       "      <td>0.000000</td>\n",
       "      <td>0.000000</td>\n",
       "      <td>0.000000</td>\n",
       "      <td>97.000000</td>\n",
       "    </tr>\n",
       "    <tr>\n",
       "      <th>phevHwy</th>\n",
       "      <td>39101.0</td>\n",
       "      <td>0.094269</td>\n",
       "      <td>2.191115</td>\n",
       "      <td>0.00</td>\n",
       "      <td>0.000000</td>\n",
       "      <td>0.000000</td>\n",
       "      <td>0.000000</td>\n",
       "      <td>81.000000</td>\n",
       "    </tr>\n",
       "    <tr>\n",
       "      <th>phevComb</th>\n",
       "      <td>39101.0</td>\n",
       "      <td>0.094141</td>\n",
       "      <td>2.226500</td>\n",
       "      <td>0.00</td>\n",
       "      <td>0.000000</td>\n",
       "      <td>0.000000</td>\n",
       "      <td>0.000000</td>\n",
       "      <td>88.000000</td>\n",
       "    </tr>\n",
       "  </tbody>\n",
       "</table>\n",
       "</div>"
      ],
      "text/plain": [
       "                   count          mean           std       min          25%  \\\n",
       "barrels08        39101.0     17.442712      4.580230      0.06    14.330870   \n",
       "barrelsA08       39101.0      0.219276      1.143837      0.00     0.000000   \n",
       "charge120        39101.0      0.000000      0.000000      0.00     0.000000   \n",
       "charge240        39101.0      0.029630      0.487408      0.00     0.000000   \n",
       "city08           39101.0     18.077799      6.970672      6.00    15.000000   \n",
       "city08U          39101.0      5.040648     10.462790      0.00     0.000000   \n",
       "cityA08          39101.0      0.569883      4.297124      0.00     0.000000   \n",
       "cityA08U         39101.0      0.416097      4.093495      0.00     0.000000   \n",
       "cityCD           39101.0      0.000560      0.045392      0.00     0.000000   \n",
       "cityE            39101.0      0.225181      3.180894      0.00     0.000000   \n",
       "cityUF           39101.0      0.000975      0.022785      0.00     0.000000   \n",
       "co2              39101.0     72.538989    163.252019     -1.00    -1.000000   \n",
       "co2A             39101.0      5.543950     55.956932     -1.00    -1.000000   \n",
       "co2TailpipeAGpm  39101.0     17.826864     93.937414      0.00     0.000000   \n",
       "co2TailpipeGpm   39101.0    470.704841    122.351021      0.00   386.391304   \n",
       "comb08           39101.0     20.323828      6.882807      7.00    17.000000   \n",
       "comb08U          39101.0      5.652724     11.231748      0.00     0.000000   \n",
       "combA08          39101.0      0.631160      4.395797      0.00     0.000000   \n",
       "combA08U         39101.0      0.453725      4.131767      0.00     0.000000   \n",
       "combE            39101.0      0.230912      3.244463      0.00     0.000000   \n",
       "combinedCD       39101.0      0.000459      0.040759      0.00     0.000000   \n",
       "combinedUF       39101.0      0.000959      0.022392      0.00     0.000000   \n",
       "cylinders        38956.0      5.729105      1.754487      2.00     4.000000   \n",
       "displ            38958.0      3.309829      1.361925      0.00     2.200000   \n",
       "engId            39101.0   8582.377382  17606.675590      0.00     0.000000   \n",
       "feScore          39101.0      0.122580      2.516348     -1.00    -1.000000   \n",
       "fuelCost08       39101.0   2242.470781    601.273869    500.00  1850.000000   \n",
       "fuelCostA08      39101.0     91.335260    479.485802      0.00     0.000000   \n",
       "ghgScore         39101.0      0.120866      2.512612     -1.00    -1.000000   \n",
       "ghgScoreA        39101.0     -0.923889      0.651017     -1.00    -1.000000   \n",
       "highway08        39101.0     24.208588      7.128070      9.00    20.000000   \n",
       "highway08U       39101.0      6.712736     12.809865      0.00     0.000000   \n",
       "highwayA08       39101.0      0.736452      4.694207      0.00     0.000000   \n",
       "highwayA08U      39101.0      0.523423      4.343967      0.00     0.000000   \n",
       "highwayCD        39101.0      0.000343      0.035457      0.00     0.000000   \n",
       "highwayE         39101.0      0.238526      3.342921      0.00     0.000000   \n",
       "highwayUF        39101.0      0.000938      0.021931      0.00     0.000000   \n",
       "hlv              39101.0      2.029539      5.959735      0.00     0.000000   \n",
       "hpv              39101.0     10.411243     28.167271      0.00     0.000000   \n",
       "id               39101.0  19662.541188  11413.329199      1.00  9776.000000   \n",
       "lv2              39101.0      1.834812      4.407887      0.00     0.000000   \n",
       "lv4              39101.0      6.155930      9.698101      0.00     0.000000   \n",
       "pv2              39101.0     13.649574     31.214466      0.00     0.000000   \n",
       "pv4              39101.0     33.883711     45.991687      0.00     0.000000   \n",
       "range            39101.0      0.500243      9.742080      0.00     0.000000   \n",
       "rangeCity        39101.0      0.458375      9.510276      0.00     0.000000   \n",
       "rangeCityA       39101.0      0.050978      1.383722      0.00     0.000000   \n",
       "rangeHwy         39101.0      0.450392      9.711025      0.00     0.000000   \n",
       "rangeHwyA        39101.0      0.046958      1.244770      0.00     0.000000   \n",
       "UCity            39101.0     22.789421      9.827224      0.00    18.000000   \n",
       "UCityA           39101.0      0.723139      5.965565      0.00     0.000000   \n",
       "UHighway         39101.0     33.884375     10.399308      0.00    27.370400   \n",
       "UHighwayA        39101.0      1.009562      6.642943      0.00     0.000000   \n",
       "year             39101.0   2000.635406     10.690422   1984.00  1991.000000   \n",
       "youSaveSpend     39101.0  -3459.572645   3010.284617 -26500.00 -4750.000000   \n",
       "charge240b       39101.0      0.005869      0.165399      0.00     0.000000   \n",
       "phevCity         39101.0      0.094703      2.279478      0.00     0.000000   \n",
       "phevHwy          39101.0      0.094269      2.191115      0.00     0.000000   \n",
       "phevComb         39101.0      0.094141      2.226500      0.00     0.000000   \n",
       "\n",
       "                          50%           75%           max  \n",
       "barrels08           17.347895     20.115000     47.087143  \n",
       "barrelsA08           0.000000      0.000000     18.311667  \n",
       "charge120            0.000000      0.000000      0.000000  \n",
       "charge240            0.000000      0.000000     12.000000  \n",
       "city08              17.000000     20.000000    150.000000  \n",
       "city08U              0.000000      0.000000    150.000000  \n",
       "cityA08              0.000000      0.000000    145.000000  \n",
       "cityA08U             0.000000      0.000000    145.083500  \n",
       "cityCD               0.000000      0.000000      5.350000  \n",
       "cityE                0.000000      0.000000    122.000000  \n",
       "cityUF               0.000000      0.000000      0.896000  \n",
       "co2                 -1.000000     -1.000000    847.000000  \n",
       "co2A                -1.000000     -1.000000    713.000000  \n",
       "co2TailpipeAGpm      0.000000      0.000000    713.000000  \n",
       "co2TailpipeGpm     459.000000    535.789474   1269.571429  \n",
       "comb08              20.000000     23.000000    136.000000  \n",
       "comb08U              0.000000      0.000000    136.000000  \n",
       "combA08              0.000000      0.000000    133.000000  \n",
       "combA08U             0.000000      0.000000    133.266200  \n",
       "combE                0.000000      0.000000    121.000000  \n",
       "combinedCD           0.000000      0.000000      4.800000  \n",
       "combinedUF           0.000000      0.000000      0.888000  \n",
       "cylinders            6.000000      6.000000     16.000000  \n",
       "displ                3.000000      4.300000      8.400000  \n",
       "engId              202.000000   4401.000000  69102.000000  \n",
       "feScore             -1.000000     -1.000000     10.000000  \n",
       "fuelCost08        2250.000000   2500.000000   6850.000000  \n",
       "fuelCostA08          0.000000      0.000000   3850.000000  \n",
       "ghgScore            -1.000000     -1.000000     10.000000  \n",
       "ghgScoreA           -1.000000     -1.000000      8.000000  \n",
       "highway08           24.000000     27.000000    122.000000  \n",
       "highway08U           0.000000      0.000000    122.000000  \n",
       "highwayA08           0.000000      0.000000    121.000000  \n",
       "highwayA08U          0.000000      0.000000    121.200500  \n",
       "highwayCD            0.000000      0.000000      4.060000  \n",
       "highwayE             0.000000      0.000000    120.000000  \n",
       "highwayUF            0.000000      0.000000      0.877000  \n",
       "hlv                  0.000000      0.000000     49.000000  \n",
       "hpv                  0.000000      0.000000    195.000000  \n",
       "id               19552.000000  29555.000000  39483.000000  \n",
       "lv2                  0.000000      0.000000     41.000000  \n",
       "lv4                  0.000000     13.000000     55.000000  \n",
       "pv2                  0.000000      0.000000    194.000000  \n",
       "pv4                  0.000000     91.000000    192.000000  \n",
       "range                0.000000      0.000000    335.000000  \n",
       "rangeCity            0.000000      0.000000    333.100000  \n",
       "rangeCityA           0.000000      0.000000    103.030000  \n",
       "rangeHwy             0.000000      0.000000    346.900000  \n",
       "rangeHwyA            0.000000      0.000000     90.550000  \n",
       "UCity               21.111100     25.475600    224.800000  \n",
       "UCityA               0.000000      0.000000    207.262200  \n",
       "UHighway            33.000000     38.600000    182.700000  \n",
       "UHighwayA            0.000000      0.000000    173.143600  \n",
       "year              2001.000000   2010.000000   2018.000000  \n",
       "youSaveSpend     -3500.000000  -1500.000000   5250.000000  \n",
       "charge240b           0.000000      0.000000      7.000000  \n",
       "phevCity             0.000000      0.000000     97.000000  \n",
       "phevHwy              0.000000      0.000000     81.000000  \n",
       "phevComb             0.000000      0.000000     88.000000  "
      ]
     },
     "execution_count": 11,
     "metadata": {},
     "output_type": "execute_result"
    }
   ],
   "source": [
    "fueleco.describe().T    "
   ]
  },
  {
   "cell_type": "markdown",
   "metadata": {},
   "source": [
    "## 5.2 轉換欄位的資料型別"
   ]
  },
  {
   "cell_type": "code",
   "execution_count": 13,
   "metadata": {
    "ExecuteTime": {
     "end_time": "2024-06-19T15:08:42.203878Z",
     "start_time": "2024-06-19T15:08:42.195410Z"
    },
    "lines_to_next_cell": 2
   },
   "outputs": [
    {
     "data": {
      "text/plain": [
       "barrels08     float64\n",
       "barrelsA08    float64\n",
       "charge120     float64\n",
       "charge240     float64\n",
       "city08          int64\n",
       "               ...   \n",
       "modifiedOn     object\n",
       "startStop      object\n",
       "phevCity        int64\n",
       "phevHwy         int64\n",
       "phevComb        int64\n",
       "Length: 83, dtype: object"
      ]
     },
     "execution_count": 13,
     "metadata": {},
     "output_type": "execute_result"
    }
   ],
   "source": [
    "fueleco.dtypes"
   ]
  },
  {
   "cell_type": "code",
   "execution_count": 15,
   "metadata": {
    "ExecuteTime": {
     "end_time": "2024-06-19T15:08:43.194758Z",
     "start_time": "2024-06-19T15:08:43.186397Z"
    },
    "lines_to_next_cell": 2
   },
   "outputs": [
    {
     "data": {
      "text/plain": [
       "float64    32\n",
       "int64      27\n",
       "object     23\n",
       "bool        1\n",
       "Name: count, dtype: int64"
      ]
     },
     "execution_count": 15,
     "metadata": {},
     "output_type": "execute_result"
    }
   ],
   "source": [
    "fueleco.dtypes.value_counts()"
   ]
  },
  {
   "cell_type": "code",
   "execution_count": 17,
   "metadata": {
    "ExecuteTime": {
     "end_time": "2024-06-19T15:08:44.316763Z",
     "start_time": "2024-06-19T15:08:44.227047Z"
    },
    "lines_to_next_cell": 2
   },
   "outputs": [
    {
     "data": {
      "text/html": [
       "<div>\n",
       "<style scoped>\n",
       "    .dataframe tbody tr th:only-of-type {\n",
       "        vertical-align: middle;\n",
       "    }\n",
       "\n",
       "    .dataframe tbody tr th {\n",
       "        vertical-align: top;\n",
       "    }\n",
       "\n",
       "    .dataframe thead th {\n",
       "        text-align: right;\n",
       "    }\n",
       "</style>\n",
       "<table border=\"1\" class=\"dataframe\">\n",
       "  <thead>\n",
       "    <tr style=\"text-align: right;\">\n",
       "      <th></th>\n",
       "      <th>count</th>\n",
       "      <th>mean</th>\n",
       "      <th>std</th>\n",
       "      <th>min</th>\n",
       "      <th>25%</th>\n",
       "      <th>50%</th>\n",
       "      <th>75%</th>\n",
       "      <th>max</th>\n",
       "    </tr>\n",
       "  </thead>\n",
       "  <tbody>\n",
       "    <tr>\n",
       "      <th>city08</th>\n",
       "      <td>39101.0</td>\n",
       "      <td>18.077799</td>\n",
       "      <td>6.970672</td>\n",
       "      <td>6.0</td>\n",
       "      <td>15.0</td>\n",
       "      <td>17.0</td>\n",
       "      <td>20.0</td>\n",
       "      <td>150.0</td>\n",
       "    </tr>\n",
       "    <tr>\n",
       "      <th>cityA08</th>\n",
       "      <td>39101.0</td>\n",
       "      <td>0.569883</td>\n",
       "      <td>4.297124</td>\n",
       "      <td>0.0</td>\n",
       "      <td>0.0</td>\n",
       "      <td>0.0</td>\n",
       "      <td>0.0</td>\n",
       "      <td>145.0</td>\n",
       "    </tr>\n",
       "    <tr>\n",
       "      <th>co2</th>\n",
       "      <td>39101.0</td>\n",
       "      <td>72.538989</td>\n",
       "      <td>163.252019</td>\n",
       "      <td>-1.0</td>\n",
       "      <td>-1.0</td>\n",
       "      <td>-1.0</td>\n",
       "      <td>-1.0</td>\n",
       "      <td>847.0</td>\n",
       "    </tr>\n",
       "    <tr>\n",
       "      <th>co2A</th>\n",
       "      <td>39101.0</td>\n",
       "      <td>5.543950</td>\n",
       "      <td>55.956932</td>\n",
       "      <td>-1.0</td>\n",
       "      <td>-1.0</td>\n",
       "      <td>-1.0</td>\n",
       "      <td>-1.0</td>\n",
       "      <td>713.0</td>\n",
       "    </tr>\n",
       "    <tr>\n",
       "      <th>comb08</th>\n",
       "      <td>39101.0</td>\n",
       "      <td>20.323828</td>\n",
       "      <td>6.882807</td>\n",
       "      <td>7.0</td>\n",
       "      <td>17.0</td>\n",
       "      <td>20.0</td>\n",
       "      <td>23.0</td>\n",
       "      <td>136.0</td>\n",
       "    </tr>\n",
       "    <tr>\n",
       "      <th>combA08</th>\n",
       "      <td>39101.0</td>\n",
       "      <td>0.631160</td>\n",
       "      <td>4.395797</td>\n",
       "      <td>0.0</td>\n",
       "      <td>0.0</td>\n",
       "      <td>0.0</td>\n",
       "      <td>0.0</td>\n",
       "      <td>133.0</td>\n",
       "    </tr>\n",
       "    <tr>\n",
       "      <th>engId</th>\n",
       "      <td>39101.0</td>\n",
       "      <td>8582.377382</td>\n",
       "      <td>17606.675590</td>\n",
       "      <td>0.0</td>\n",
       "      <td>0.0</td>\n",
       "      <td>202.0</td>\n",
       "      <td>4401.0</td>\n",
       "      <td>69102.0</td>\n",
       "    </tr>\n",
       "    <tr>\n",
       "      <th>feScore</th>\n",
       "      <td>39101.0</td>\n",
       "      <td>0.122580</td>\n",
       "      <td>2.516348</td>\n",
       "      <td>-1.0</td>\n",
       "      <td>-1.0</td>\n",
       "      <td>-1.0</td>\n",
       "      <td>-1.0</td>\n",
       "      <td>10.0</td>\n",
       "    </tr>\n",
       "    <tr>\n",
       "      <th>fuelCost08</th>\n",
       "      <td>39101.0</td>\n",
       "      <td>2242.470781</td>\n",
       "      <td>601.273869</td>\n",
       "      <td>500.0</td>\n",
       "      <td>1850.0</td>\n",
       "      <td>2250.0</td>\n",
       "      <td>2500.0</td>\n",
       "      <td>6850.0</td>\n",
       "    </tr>\n",
       "    <tr>\n",
       "      <th>fuelCostA08</th>\n",
       "      <td>39101.0</td>\n",
       "      <td>91.335260</td>\n",
       "      <td>479.485802</td>\n",
       "      <td>0.0</td>\n",
       "      <td>0.0</td>\n",
       "      <td>0.0</td>\n",
       "      <td>0.0</td>\n",
       "      <td>3850.0</td>\n",
       "    </tr>\n",
       "    <tr>\n",
       "      <th>ghgScore</th>\n",
       "      <td>39101.0</td>\n",
       "      <td>0.120866</td>\n",
       "      <td>2.512612</td>\n",
       "      <td>-1.0</td>\n",
       "      <td>-1.0</td>\n",
       "      <td>-1.0</td>\n",
       "      <td>-1.0</td>\n",
       "      <td>10.0</td>\n",
       "    </tr>\n",
       "    <tr>\n",
       "      <th>ghgScoreA</th>\n",
       "      <td>39101.0</td>\n",
       "      <td>-0.923889</td>\n",
       "      <td>0.651017</td>\n",
       "      <td>-1.0</td>\n",
       "      <td>-1.0</td>\n",
       "      <td>-1.0</td>\n",
       "      <td>-1.0</td>\n",
       "      <td>8.0</td>\n",
       "    </tr>\n",
       "    <tr>\n",
       "      <th>highway08</th>\n",
       "      <td>39101.0</td>\n",
       "      <td>24.208588</td>\n",
       "      <td>7.128070</td>\n",
       "      <td>9.0</td>\n",
       "      <td>20.0</td>\n",
       "      <td>24.0</td>\n",
       "      <td>27.0</td>\n",
       "      <td>122.0</td>\n",
       "    </tr>\n",
       "    <tr>\n",
       "      <th>highwayA08</th>\n",
       "      <td>39101.0</td>\n",
       "      <td>0.736452</td>\n",
       "      <td>4.694207</td>\n",
       "      <td>0.0</td>\n",
       "      <td>0.0</td>\n",
       "      <td>0.0</td>\n",
       "      <td>0.0</td>\n",
       "      <td>121.0</td>\n",
       "    </tr>\n",
       "    <tr>\n",
       "      <th>hlv</th>\n",
       "      <td>39101.0</td>\n",
       "      <td>2.029539</td>\n",
       "      <td>5.959735</td>\n",
       "      <td>0.0</td>\n",
       "      <td>0.0</td>\n",
       "      <td>0.0</td>\n",
       "      <td>0.0</td>\n",
       "      <td>49.0</td>\n",
       "    </tr>\n",
       "    <tr>\n",
       "      <th>hpv</th>\n",
       "      <td>39101.0</td>\n",
       "      <td>10.411243</td>\n",
       "      <td>28.167271</td>\n",
       "      <td>0.0</td>\n",
       "      <td>0.0</td>\n",
       "      <td>0.0</td>\n",
       "      <td>0.0</td>\n",
       "      <td>195.0</td>\n",
       "    </tr>\n",
       "    <tr>\n",
       "      <th>id</th>\n",
       "      <td>39101.0</td>\n",
       "      <td>19662.541188</td>\n",
       "      <td>11413.329199</td>\n",
       "      <td>1.0</td>\n",
       "      <td>9776.0</td>\n",
       "      <td>19552.0</td>\n",
       "      <td>29555.0</td>\n",
       "      <td>39483.0</td>\n",
       "    </tr>\n",
       "    <tr>\n",
       "      <th>lv2</th>\n",
       "      <td>39101.0</td>\n",
       "      <td>1.834812</td>\n",
       "      <td>4.407887</td>\n",
       "      <td>0.0</td>\n",
       "      <td>0.0</td>\n",
       "      <td>0.0</td>\n",
       "      <td>0.0</td>\n",
       "      <td>41.0</td>\n",
       "    </tr>\n",
       "    <tr>\n",
       "      <th>lv4</th>\n",
       "      <td>39101.0</td>\n",
       "      <td>6.155930</td>\n",
       "      <td>9.698101</td>\n",
       "      <td>0.0</td>\n",
       "      <td>0.0</td>\n",
       "      <td>0.0</td>\n",
       "      <td>13.0</td>\n",
       "      <td>55.0</td>\n",
       "    </tr>\n",
       "    <tr>\n",
       "      <th>pv2</th>\n",
       "      <td>39101.0</td>\n",
       "      <td>13.649574</td>\n",
       "      <td>31.214466</td>\n",
       "      <td>0.0</td>\n",
       "      <td>0.0</td>\n",
       "      <td>0.0</td>\n",
       "      <td>0.0</td>\n",
       "      <td>194.0</td>\n",
       "    </tr>\n",
       "    <tr>\n",
       "      <th>pv4</th>\n",
       "      <td>39101.0</td>\n",
       "      <td>33.883711</td>\n",
       "      <td>45.991687</td>\n",
       "      <td>0.0</td>\n",
       "      <td>0.0</td>\n",
       "      <td>0.0</td>\n",
       "      <td>91.0</td>\n",
       "      <td>192.0</td>\n",
       "    </tr>\n",
       "    <tr>\n",
       "      <th>range</th>\n",
       "      <td>39101.0</td>\n",
       "      <td>0.500243</td>\n",
       "      <td>9.742080</td>\n",
       "      <td>0.0</td>\n",
       "      <td>0.0</td>\n",
       "      <td>0.0</td>\n",
       "      <td>0.0</td>\n",
       "      <td>335.0</td>\n",
       "    </tr>\n",
       "    <tr>\n",
       "      <th>year</th>\n",
       "      <td>39101.0</td>\n",
       "      <td>2000.635406</td>\n",
       "      <td>10.690422</td>\n",
       "      <td>1984.0</td>\n",
       "      <td>1991.0</td>\n",
       "      <td>2001.0</td>\n",
       "      <td>2010.0</td>\n",
       "      <td>2018.0</td>\n",
       "    </tr>\n",
       "    <tr>\n",
       "      <th>youSaveSpend</th>\n",
       "      <td>39101.0</td>\n",
       "      <td>-3459.572645</td>\n",
       "      <td>3010.284617</td>\n",
       "      <td>-26500.0</td>\n",
       "      <td>-4750.0</td>\n",
       "      <td>-3500.0</td>\n",
       "      <td>-1500.0</td>\n",
       "      <td>5250.0</td>\n",
       "    </tr>\n",
       "    <tr>\n",
       "      <th>phevCity</th>\n",
       "      <td>39101.0</td>\n",
       "      <td>0.094703</td>\n",
       "      <td>2.279478</td>\n",
       "      <td>0.0</td>\n",
       "      <td>0.0</td>\n",
       "      <td>0.0</td>\n",
       "      <td>0.0</td>\n",
       "      <td>97.0</td>\n",
       "    </tr>\n",
       "    <tr>\n",
       "      <th>phevHwy</th>\n",
       "      <td>39101.0</td>\n",
       "      <td>0.094269</td>\n",
       "      <td>2.191115</td>\n",
       "      <td>0.0</td>\n",
       "      <td>0.0</td>\n",
       "      <td>0.0</td>\n",
       "      <td>0.0</td>\n",
       "      <td>81.0</td>\n",
       "    </tr>\n",
       "    <tr>\n",
       "      <th>phevComb</th>\n",
       "      <td>39101.0</td>\n",
       "      <td>0.094141</td>\n",
       "      <td>2.226500</td>\n",
       "      <td>0.0</td>\n",
       "      <td>0.0</td>\n",
       "      <td>0.0</td>\n",
       "      <td>0.0</td>\n",
       "      <td>88.0</td>\n",
       "    </tr>\n",
       "  </tbody>\n",
       "</table>\n",
       "</div>"
      ],
      "text/plain": [
       "                count          mean           std      min     25%      50%  \\\n",
       "city08        39101.0     18.077799      6.970672      6.0    15.0     17.0   \n",
       "cityA08       39101.0      0.569883      4.297124      0.0     0.0      0.0   \n",
       "co2           39101.0     72.538989    163.252019     -1.0    -1.0     -1.0   \n",
       "co2A          39101.0      5.543950     55.956932     -1.0    -1.0     -1.0   \n",
       "comb08        39101.0     20.323828      6.882807      7.0    17.0     20.0   \n",
       "combA08       39101.0      0.631160      4.395797      0.0     0.0      0.0   \n",
       "engId         39101.0   8582.377382  17606.675590      0.0     0.0    202.0   \n",
       "feScore       39101.0      0.122580      2.516348     -1.0    -1.0     -1.0   \n",
       "fuelCost08    39101.0   2242.470781    601.273869    500.0  1850.0   2250.0   \n",
       "fuelCostA08   39101.0     91.335260    479.485802      0.0     0.0      0.0   \n",
       "ghgScore      39101.0      0.120866      2.512612     -1.0    -1.0     -1.0   \n",
       "ghgScoreA     39101.0     -0.923889      0.651017     -1.0    -1.0     -1.0   \n",
       "highway08     39101.0     24.208588      7.128070      9.0    20.0     24.0   \n",
       "highwayA08    39101.0      0.736452      4.694207      0.0     0.0      0.0   \n",
       "hlv           39101.0      2.029539      5.959735      0.0     0.0      0.0   \n",
       "hpv           39101.0     10.411243     28.167271      0.0     0.0      0.0   \n",
       "id            39101.0  19662.541188  11413.329199      1.0  9776.0  19552.0   \n",
       "lv2           39101.0      1.834812      4.407887      0.0     0.0      0.0   \n",
       "lv4           39101.0      6.155930      9.698101      0.0     0.0      0.0   \n",
       "pv2           39101.0     13.649574     31.214466      0.0     0.0      0.0   \n",
       "pv4           39101.0     33.883711     45.991687      0.0     0.0      0.0   \n",
       "range         39101.0      0.500243      9.742080      0.0     0.0      0.0   \n",
       "year          39101.0   2000.635406     10.690422   1984.0  1991.0   2001.0   \n",
       "youSaveSpend  39101.0  -3459.572645   3010.284617 -26500.0 -4750.0  -3500.0   \n",
       "phevCity      39101.0      0.094703      2.279478      0.0     0.0      0.0   \n",
       "phevHwy       39101.0      0.094269      2.191115      0.0     0.0      0.0   \n",
       "phevComb      39101.0      0.094141      2.226500      0.0     0.0      0.0   \n",
       "\n",
       "                  75%      max  \n",
       "city08           20.0    150.0  \n",
       "cityA08           0.0    145.0  \n",
       "co2              -1.0    847.0  \n",
       "co2A             -1.0    713.0  \n",
       "comb08           23.0    136.0  \n",
       "combA08           0.0    133.0  \n",
       "engId          4401.0  69102.0  \n",
       "feScore          -1.0     10.0  \n",
       "fuelCost08     2500.0   6850.0  \n",
       "fuelCostA08       0.0   3850.0  \n",
       "ghgScore         -1.0     10.0  \n",
       "ghgScoreA        -1.0      8.0  \n",
       "highway08        27.0    122.0  \n",
       "highwayA08        0.0    121.0  \n",
       "hlv               0.0     49.0  \n",
       "hpv               0.0    195.0  \n",
       "id            29555.0  39483.0  \n",
       "lv2               0.0     41.0  \n",
       "lv4              13.0     55.0  \n",
       "pv2               0.0    194.0  \n",
       "pv4              91.0    192.0  \n",
       "range             0.0    335.0  \n",
       "year           2010.0   2018.0  \n",
       "youSaveSpend  -1500.0   5250.0  \n",
       "phevCity          0.0     97.0  \n",
       "phevHwy           0.0     81.0  \n",
       "phevComb          0.0     88.0  "
      ]
     },
     "execution_count": 17,
     "metadata": {},
     "output_type": "execute_result"
    }
   ],
   "source": [
    "fueleco.select_dtypes('int64').describe().T"
   ]
  },
  {
   "cell_type": "code",
   "execution_count": 19,
   "metadata": {
    "ExecuteTime": {
     "end_time": "2024-06-19T15:08:45.252038Z",
     "start_time": "2024-06-19T15:08:45.246758Z"
    },
    "lines_to_next_cell": 2
   },
   "outputs": [
    {
     "data": {
      "text/plain": [
       "iinfo(min=-128, max=127, dtype=int8)"
      ]
     },
     "execution_count": 19,
     "metadata": {},
     "output_type": "execute_result"
    }
   ],
   "source": [
    "np.iinfo(np.int8)"
   ]
  },
  {
   "cell_type": "code",
   "execution_count": 21,
   "metadata": {
    "ExecuteTime": {
     "end_time": "2024-06-19T15:08:46.469409Z",
     "start_time": "2024-06-19T15:08:46.463530Z"
    },
    "lines_to_next_cell": 2
   },
   "outputs": [
    {
     "data": {
      "text/plain": [
       "iinfo(min=-32768, max=32767, dtype=int16)"
      ]
     },
     "execution_count": 21,
     "metadata": {},
     "output_type": "execute_result"
    }
   ],
   "source": [
    "np.iinfo(np.int16)"
   ]
  },
  {
   "cell_type": "code",
   "execution_count": 23,
   "metadata": {
    "ExecuteTime": {
     "end_time": "2024-06-19T15:08:49.835095Z",
     "start_time": "2024-06-19T15:08:49.821837Z"
    },
    "lines_to_next_cell": 2
   },
   "outputs": [
    {
     "name": "stdout",
     "output_type": "stream",
     "text": [
      "<class 'pandas.core.frame.DataFrame'>\n",
      "RangeIndex: 39101 entries, 0 to 39100\n",
      "Data columns (total 2 columns):\n",
      " #   Column  Non-Null Count  Dtype\n",
      "---  ------  --------------  -----\n",
      " 0   city08  39101 non-null  int64\n",
      " 1   comb08  39101 non-null  int64\n",
      "dtypes: int64(2)\n",
      "memory usage: 611.1 KB\n"
     ]
    }
   ],
   "source": [
    "fueleco[['city08', 'comb08']].info()"
   ]
  },
  {
   "cell_type": "code",
   "execution_count": 25,
   "metadata": {
    "ExecuteTime": {
     "end_time": "2024-06-19T15:17:11.328473Z",
     "start_time": "2024-06-19T15:17:11.315785Z"
    },
    "lines_to_next_cell": 2
   },
   "outputs": [
    {
     "name": "stdout",
     "output_type": "stream",
     "text": [
      "<class 'pandas.core.frame.DataFrame'>\n",
      "RangeIndex: 39101 entries, 0 to 39100\n",
      "Data columns (total 2 columns):\n",
      " #   Column  Non-Null Count  Dtype\n",
      "---  ------  --------------  -----\n",
      " 0   city08  39101 non-null  int16\n",
      " 1   comb08  39101 non-null  int16\n",
      "dtypes: int16(2)\n",
      "memory usage: 152.9 KB\n"
     ]
    }
   ],
   "source": [
    "(fueleco\n",
    "  [['city08', 'comb08']]\n",
    "  .assign(city08=fueleco.city08.astype(np.int16),\n",
    "          comb08=fueleco.comb08.astype(np.int16))\n",
    "  .info()\n",
    ")"
   ]
  },
  {
   "cell_type": "code",
   "execution_count": 27,
   "metadata": {
    "ExecuteTime": {
     "end_time": "2024-06-19T15:17:13.237796Z",
     "start_time": "2024-06-19T15:17:13.228500Z"
    },
    "lines_to_next_cell": 2
   },
   "outputs": [
    {
     "data": {
      "text/plain": [
       "134"
      ]
     },
     "execution_count": 27,
     "metadata": {},
     "output_type": "execute_result"
    }
   ],
   "source": [
    "fueleco.make.nunique()"
   ]
  },
  {
   "cell_type": "code",
   "execution_count": 29,
   "metadata": {
    "ExecuteTime": {
     "end_time": "2024-06-19T15:17:14.120536Z",
     "start_time": "2024-06-19T15:17:14.111176Z"
    },
    "lines_to_next_cell": 2
   },
   "outputs": [
    {
     "data": {
      "text/plain": [
       "3816"
      ]
     },
     "execution_count": 29,
     "metadata": {},
     "output_type": "execute_result"
    }
   ],
   "source": [
    "fueleco.model.nunique()"
   ]
  },
  {
   "cell_type": "code",
   "execution_count": 31,
   "metadata": {
    "ExecuteTime": {
     "end_time": "2024-06-19T15:17:14.848257Z",
     "start_time": "2024-06-19T15:17:14.833680Z"
    },
    "lines_to_next_cell": 2
   },
   "outputs": [
    {
     "name": "stdout",
     "output_type": "stream",
     "text": [
      "<class 'pandas.core.frame.DataFrame'>\n",
      "RangeIndex: 39101 entries, 0 to 39100\n",
      "Data columns (total 1 columns):\n",
      " #   Column  Non-Null Count  Dtype \n",
      "---  ------  --------------  ----- \n",
      " 0   make    39101 non-null  object\n",
      "dtypes: object(1)\n",
      "memory usage: 2.1 MB\n"
     ]
    }
   ],
   "source": [
    "fueleco[['make']].info(memory_usage='deep')"
   ]
  },
  {
   "cell_type": "code",
   "execution_count": 33,
   "metadata": {
    "ExecuteTime": {
     "end_time": "2024-06-19T15:17:15.880054Z",
     "start_time": "2024-06-19T15:17:15.864717Z"
    },
    "lines_to_next_cell": 2
   },
   "outputs": [
    {
     "name": "stdout",
     "output_type": "stream",
     "text": [
      "<class 'pandas.core.frame.DataFrame'>\n",
      "RangeIndex: 39101 entries, 0 to 39100\n",
      "Data columns (total 1 columns):\n",
      " #   Column  Non-Null Count  Dtype   \n",
      "---  ------  --------------  -----   \n",
      " 0   make    39101 non-null  category\n",
      "dtypes: category(1)\n",
      "memory usage: 81.6 KB\n"
     ]
    }
   ],
   "source": [
    "(fueleco\n",
    "  [['make']]\n",
    "  .assign(make=fueleco.make.astype('category'))\n",
    "  .info()\n",
    ")"
   ]
  },
  {
   "cell_type": "code",
   "execution_count": 35,
   "metadata": {
    "ExecuteTime": {
     "end_time": "2024-06-19T15:17:17.076616Z",
     "start_time": "2024-06-19T15:17:17.062200Z"
    },
    "lines_to_next_cell": 2
   },
   "outputs": [
    {
     "name": "stdout",
     "output_type": "stream",
     "text": [
      "<class 'pandas.core.frame.DataFrame'>\n",
      "RangeIndex: 39101 entries, 0 to 39100\n",
      "Data columns (total 1 columns):\n",
      " #   Column  Non-Null Count  Dtype \n",
      "---  ------  --------------  ----- \n",
      " 0   model   39101 non-null  object\n",
      "dtypes: object(1)\n",
      "memory usage: 2.2 MB\n"
     ]
    }
   ],
   "source": [
    "fueleco[['model']].info(memory_usage='deep')"
   ]
  },
  {
   "cell_type": "code",
   "execution_count": 37,
   "metadata": {
    "ExecuteTime": {
     "end_time": "2024-06-19T15:17:17.983971Z",
     "start_time": "2024-06-19T15:17:17.966495Z"
    },
    "lines_to_next_cell": 2
   },
   "outputs": [
    {
     "name": "stdout",
     "output_type": "stream",
     "text": [
      "<class 'pandas.core.frame.DataFrame'>\n",
      "RangeIndex: 39101 entries, 0 to 39100\n",
      "Data columns (total 1 columns):\n",
      " #   Column  Non-Null Count  Dtype   \n",
      "---  ------  --------------  -----   \n",
      " 0   model   39101 non-null  category\n",
      "dtypes: category(1)\n",
      "memory usage: 235.3 KB\n"
     ]
    }
   ],
   "source": [
    "(fueleco\n",
    "  [['model']]\n",
    "  .assign(model=fueleco.model.astype('category'))\n",
    "  .info()\n",
    ")"
   ]
  },
  {
   "cell_type": "markdown",
   "metadata": {},
   "source": [
    "## 5.3 資料轉換與缺失值處理"
   ]
  },
  {
   "cell_type": "code",
   "execution_count": 40,
   "metadata": {
    "ExecuteTime": {
     "end_time": "2024-06-19T15:17:20.524936Z",
     "start_time": "2024-06-19T15:17:20.510571Z"
    },
    "lines_to_next_cell": 2
   },
   "outputs": [
    {
     "data": {
      "text/plain": [
       "Index(['drive', 'eng_dscr', 'fuelType', 'fuelType1', 'make', 'model',\n",
       "       'mpgData', 'trany', 'VClass', 'guzzler', 'trans_dscr', 'tCharger',\n",
       "       'sCharger', 'atvType', 'fuelType2', 'rangeA', 'evMotor', 'mfrCode',\n",
       "       'c240Dscr', 'c240bDscr', 'createdOn', 'modifiedOn', 'startStop'],\n",
       "      dtype='object')"
      ]
     },
     "execution_count": 40,
     "metadata": {},
     "output_type": "execute_result"
    }
   ],
   "source": [
    "fueleco.select_dtypes(object).columns"
   ]
  },
  {
   "cell_type": "code",
   "execution_count": 42,
   "metadata": {
    "ExecuteTime": {
     "end_time": "2024-06-19T15:17:21.359596Z",
     "start_time": "2024-06-19T15:17:21.351981Z"
    },
    "lines_to_next_cell": 2
   },
   "outputs": [
    {
     "data": {
      "text/plain": [
       "7"
      ]
     },
     "execution_count": 42,
     "metadata": {},
     "output_type": "execute_result"
    }
   ],
   "source": [
    "fueleco.drive.nunique()"
   ]
  },
  {
   "cell_type": "code",
   "execution_count": 44,
   "metadata": {
    "ExecuteTime": {
     "end_time": "2024-06-19T15:17:22.190496Z",
     "start_time": "2024-06-19T15:17:22.180976Z"
    },
    "lines_to_next_cell": 2
   },
   "outputs": [
    {
     "data": {
      "text/plain": [
       "4217     4-Wheel or All-Wheel Drive\n",
       "1736     4-Wheel or All-Wheel Drive\n",
       "36029              Rear-Wheel Drive\n",
       "37631             Front-Wheel Drive\n",
       "1668               Rear-Wheel Drive\n",
       "Name: drive, dtype: object"
      ]
     },
     "execution_count": 44,
     "metadata": {},
     "output_type": "execute_result"
    }
   ],
   "source": [
    "fueleco.drive.sample(5, random_state=42)"
   ]
  },
  {
   "cell_type": "code",
   "execution_count": 46,
   "metadata": {
    "ExecuteTime": {
     "end_time": "2024-06-19T15:17:22.739815Z",
     "start_time": "2024-06-19T15:17:22.733205Z"
    },
    "lines_to_next_cell": 2
   },
   "outputs": [
    {
     "data": {
      "text/plain": [
       "1189"
      ]
     },
     "execution_count": 46,
     "metadata": {},
     "output_type": "execute_result"
    }
   ],
   "source": [
    "fueleco.drive.isna().sum()"
   ]
  },
  {
   "cell_type": "code",
   "execution_count": 48,
   "metadata": {
    "ExecuteTime": {
     "end_time": "2024-06-19T15:17:23.800839Z",
     "start_time": "2024-06-19T15:17:23.793523Z"
    },
    "lines_to_next_cell": 2
   },
   "outputs": [
    {
     "data": {
      "text/plain": [
       "3.0408429451932175"
      ]
     },
     "execution_count": 48,
     "metadata": {},
     "output_type": "execute_result"
    }
   ],
   "source": [
    "fueleco.drive.isna().mean() * 100"
   ]
  },
  {
   "cell_type": "code",
   "execution_count": 50,
   "metadata": {
    "ExecuteTime": {
     "end_time": "2024-06-19T15:17:24.358233Z",
     "start_time": "2024-06-19T15:17:24.346525Z"
    },
    "lines_to_next_cell": 2
   },
   "outputs": [
    {
     "data": {
      "text/plain": [
       "drive\n",
       "Front-Wheel Drive             13653\n",
       "Rear-Wheel Drive              13284\n",
       "4-Wheel or All-Wheel Drive     6648\n",
       "All-Wheel Drive                2401\n",
       "4-Wheel Drive                  1221\n",
       "2-Wheel Drive                   507\n",
       "Part-time 4-Wheel Drive         198\n",
       "Name: count, dtype: int64"
      ]
     },
     "execution_count": 50,
     "metadata": {},
     "output_type": "execute_result"
    }
   ],
   "source": [
    "fueleco.drive.value_counts()"
   ]
  },
  {
   "cell_type": "code",
   "execution_count": 52,
   "metadata": {
    "ExecuteTime": {
     "end_time": "2024-06-19T15:17:26.061271Z",
     "start_time": "2024-06-19T15:17:26.051339Z"
    }
   },
   "outputs": [
    {
     "data": {
      "text/plain": [
       "drive\n",
       "Front-Wheel Drive             13653\n",
       "Rear-Wheel Drive              13284\n",
       "4-Wheel or All-Wheel Drive     6648\n",
       "All-Wheel Drive                2401\n",
       "4-Wheel Drive                  1221\n",
       "NaN                            1189\n",
       "2-Wheel Drive                   507\n",
       "Part-time 4-Wheel Drive         198\n",
       "Name: count, dtype: int64"
      ]
     },
     "execution_count": 52,
     "metadata": {},
     "output_type": "execute_result"
    }
   ],
   "source": [
    "fueleco.drive.value_counts(dropna=False)"
   ]
  },
  {
   "cell_type": "code",
   "execution_count": 60,
   "metadata": {
    "ExecuteTime": {
     "end_time": "2024-06-19T15:17:29.752030Z",
     "start_time": "2024-06-19T15:17:29.722139Z"
    },
    "lines_to_next_cell": 2
   },
   "outputs": [
    {
     "data": {
      "text/plain": [
       "Index(['Chevrolet', 'Ford', 'Dodge', 'GMC', 'Toyota', 'BMW'], dtype='object', name='make')"
      ]
     },
     "execution_count": 60,
     "metadata": {},
     "output_type": "execute_result"
    }
   ],
   "source": [
    "top_n = fueleco.make.value_counts().index[:6]\n",
    "top_n"
   ]
  },
  {
   "cell_type": "code",
   "execution_count": 62,
   "metadata": {
    "ExecuteTime": {
     "end_time": "2024-06-19T15:17:29.752030Z",
     "start_time": "2024-06-19T15:17:29.722139Z"
    },
    "lines_to_next_cell": 2
   },
   "outputs": [
    {
     "data": {
      "text/plain": [
       "make\n",
       "Other        23211\n",
       "Chevrolet     3900\n",
       "Ford          3208\n",
       "Dodge         2557\n",
       "GMC           2442\n",
       "Toyota        1976\n",
       "BMW           1807\n",
       "Name: count, dtype: int64"
      ]
     },
     "execution_count": 62,
     "metadata": {},
     "output_type": "execute_result"
    }
   ],
   "source": [
    "(fueleco\n",
    "   .assign(make=fueleco.make.where(\n",
    "              fueleco.make.isin(top_n), 'Other'))\n",
    "   .make\n",
    "   .value_counts()\n",
    ")"
   ]
  },
  {
   "cell_type": "code",
   "execution_count": 64,
   "metadata": {
    "ExecuteTime": {
     "end_time": "2024-06-19T15:09:39.467613Z",
     "start_time": "2024-06-19T15:09:38.893866Z"
    },
    "lines_to_next_cell": 2
   },
   "outputs": [
    {
     "data": {
      "text/plain": [
       "<Axes: xlabel='make'>"
      ]
     },
     "execution_count": 64,
     "metadata": {},
     "output_type": "execute_result"
    },
    {
     "data": {
      "image/png": "[encoded data removed]",
      "text/plain": [
       "<Figure size 1000x800 with 1 Axes>"
      ]
     },
     "metadata": {},
     "output_type": "display_data"
    }
   ],
   "source": [
    "import matplotlib.pyplot as plt\n",
    "fig, ax = plt.subplots(figsize=(10, 8))\n",
    "top_n = fueleco.make.value_counts().index[:6]\n",
    "(fueleco     \n",
    "   .assign(make=fueleco.make.where(\n",
    "              fueleco.make.isin(top_n),\n",
    "              'Other'))\n",
    "   .make\n",
    "   .value_counts()\n",
    "   .plot.bar(ax=ax)\n",
    ")"
   ]
  },
  {
   "cell_type": "code",
   "execution_count": 66,
   "metadata": {
    "ExecuteTime": {
     "end_time": "2024-06-19T15:09:41.020776Z",
     "start_time": "2024-06-19T15:09:40.575450Z"
    },
    "lines_to_next_cell": 2
   },
   "outputs": [
    {
     "data": {
      "text/plain": [
       "<Axes: xlabel='count', ylabel='make'>"
      ]
     },
     "execution_count": 66,
     "metadata": {},
     "output_type": "execute_result"
    },
    {
     "data": {
      "image/png": "[encoded data removed]",
      "text/plain": [
       "<Figure size 1000x800 with 1 Axes>"
      ]
     },
     "metadata": {},
     "output_type": "display_data"
    }
   ],
   "source": [
    "import seaborn as sns\n",
    "fig, ax = plt.subplots(figsize=(10, 8))\n",
    "top_n = fueleco.make.value_counts().index[:6]\n",
    "sns.countplot(y='make',     \n",
    "    data= (fueleco\n",
    "        .assign(make=fueleco.make.where(\n",
    "                fueleco.make.isin(top_n),\n",
    "                'Other'))\n",
    "  )\n",
    ")"
   ]
  },
  {
   "cell_type": "code",
   "execution_count": null,
   "metadata": {
    "ExecuteTime": {
     "end_time": "2024-06-19T15:10:45.624627Z",
     "start_time": "2024-06-19T15:10:45.615673Z"
    },
    "lines_to_next_cell": 2
   },
   "outputs": [],
   "source": [
    "fueleco.rangeA.value_counts()"
   ]
  },
  {
   "cell_type": "code",
   "execution_count": null,
   "metadata": {
    "ExecuteTime": {
     "end_time": "2024-06-19T15:11:01.666382Z",
     "start_time": "2024-06-19T15:11:01.644708Z"
    },
    "lines_to_next_cell": 2
   },
   "outputs": [],
   "source": [
    "(fueleco.rangeA.str.extract(r'([^0-9.])')\n",
    "    .dropna()\n",
    "    .apply(lambda row: ''.join(row), axis=1)\n",
    "    .value_counts()\n",
    ")"
   ]
  },
  {
   "cell_type": "code",
   "execution_count": null,
   "metadata": {
    "ExecuteTime": {
     "end_time": "2024-06-19T15:11:03.216010Z",
     "start_time": "2024-06-19T15:11:03.202900Z"
    },
    "lines_to_next_cell": 2
   },
   "outputs": [],
   "source": [
    "set(fueleco.rangeA.apply(type))"
   ]
  },
  {
   "cell_type": "code",
   "execution_count": null,
   "metadata": {
    "ExecuteTime": {
     "end_time": "2024-06-19T15:21:14.237200Z",
     "start_time": "2024-06-19T15:21:14.226272Z"
    }
   },
   "outputs": [],
   "source": [
    "fueleco.rangeA.describe()"
   ]
  },
  {
   "cell_type": "code",
   "execution_count": null,
   "metadata": {
    "ExecuteTime": {
     "end_time": "2024-06-19T15:25:20.556379Z",
     "start_time": "2024-06-19T15:25:20.530887Z"
    }
   },
   "outputs": [],
   "source": [
    "def my_process(x):\n",
    "    if pd.isna(x):\n",
    "        return '0'\n",
    "    x = str(x)\n",
    "    result = x.replace('-', '/')\n",
    "    nums = result.split('/')\n",
    "    # if len(nums) >1:\n",
    "    #     print(nums)\n",
    "    #     pass\n",
    "    avg = 0\n",
    "    for num in nums:\n",
    "        avg += float(num)\n",
    "    avg /= len(nums)\n",
    "    return avg"
   ]
  },
  {
   "cell_type": "code",
   "execution_count": null,
   "metadata": {
    "ExecuteTime": {
     "start_time": "2024-06-19T15:25:24.594129Z"
    }
   },
   "outputs": [],
   "source": [
    "%%timeit\n",
    "fueleco.rangeA.apply(my_process)"
   ]
  },
  {
   "cell_type": "code",
   "execution_count": null,
   "metadata": {
    "ExecuteTime": {
     "end_time": "2024-06-19T15:21:56.716229Z",
     "start_time": "2024-06-19T15:21:56.707127Z"
    }
   },
   "outputs": [],
   "source": [
    "\n",
    "fueleco.rangeA.describe()"
   ]
  },
  {
   "cell_type": "code",
   "execution_count": null,
   "metadata": {
    "ExecuteTime": {
     "end_time": "2024-06-19T15:11:06.137112Z",
     "start_time": "2024-06-19T15:11:05.878172Z"
    },
    "lines_to_next_cell": 2
   },
   "outputs": [],
   "source": [
    "%%timeit\n",
    "(fueleco\n",
    "  .rangeA\n",
    "  .fillna('0')\n",
    "  .str.replace('-', '/')\n",
    "  .str.split('/', expand=True)\n",
    "  .astype(float)\n",
    "  .mean(axis=1)\n",
    ")"
   ]
  },
  {
   "cell_type": "code",
   "execution_count": null,
   "metadata": {
    "ExecuteTime": {
     "end_time": "2024-06-18T14:34:58.065572Z",
     "start_time": "2024-06-18T14:34:57.990561Z"
    },
    "lines_to_next_cell": 2
   },
   "outputs": [],
   "source": [
    "(fueleco\n",
    "  .rangeA\n",
    "  .fillna('0')\n",
    "  .str.replace('-', '/')\n",
    "  .str.split('/', expand=True)\n",
    "  .astype(float)\n",
    "  .mean(axis=1)\n",
    "  .pipe(lambda ser_: pd.cut(ser_, 10))\n",
    "  .value_counts()\n",
    ")"
   ]
  },
  {
   "cell_type": "code",
   "execution_count": null,
   "metadata": {
    "ExecuteTime": {
     "end_time": "2024-06-18T14:34:59.633023Z",
     "start_time": "2024-06-18T14:34:59.629830Z"
    },
    "lines_to_next_cell": 2
   },
   "outputs": [],
   "source": [
    "# (fueleco\n",
    "#   .rangeA\n",
    "#   .fillna('0')\n",
    "#   .str.replace('-', '/')\n",
    "#   .str.split('/', expand=True)\n",
    "#   .astype(float)\n",
    "#   .mean(axis=1)\n",
    "#   .pipe(lambda ser_: pd.qcut(ser_, 10))\n",
    "#   .value_counts()\n",
    "# )"
   ]
  },
  {
   "cell_type": "code",
   "execution_count": null,
   "metadata": {
    "ExecuteTime": {
     "end_time": "2024-06-18T14:35:00.736813Z",
     "start_time": "2024-06-18T14:35:00.723102Z"
    },
    "lines_to_next_cell": 2
   },
   "outputs": [],
   "source": [
    "(fueleco\n",
    "  .city08\n",
    "  .pipe(lambda ser: pd.qcut(ser, q=10))\n",
    "  .value_counts()\n",
    ")"
   ]
  },
  {
   "cell_type": "markdown",
   "metadata": {},
   "source": [
    "## 5.4 檢視連續資料的分佈狀況"
   ]
  },
  {
   "cell_type": "code",
   "execution_count": null,
   "metadata": {
    "ExecuteTime": {
     "end_time": "2024-06-18T14:35:14.119595Z",
     "start_time": "2024-06-18T14:35:14.072405Z"
    },
    "lines_to_next_cell": 2
   },
   "outputs": [],
   "source": [
    "fueleco.select_dtypes('number')"
   ]
  },
  {
   "cell_type": "code",
   "execution_count": null,
   "metadata": {
    "ExecuteTime": {
     "end_time": "2024-06-18T14:35:14.795841Z",
     "start_time": "2024-06-18T14:35:14.788338Z"
    },
    "lines_to_next_cell": 2
   },
   "outputs": [],
   "source": [
    "fueleco.city08.sample(5, random_state=42)"
   ]
  },
  {
   "cell_type": "code",
   "execution_count": null,
   "metadata": {
    "ExecuteTime": {
     "end_time": "2024-06-18T14:35:15.481378Z",
     "start_time": "2024-06-18T14:35:15.475382Z"
    },
    "lines_to_next_cell": 2
   },
   "outputs": [],
   "source": [
    "fueleco.city08.isna().sum()"
   ]
  },
  {
   "cell_type": "code",
   "execution_count": null,
   "metadata": {
    "ExecuteTime": {
     "end_time": "2024-06-18T14:35:16.084807Z",
     "start_time": "2024-06-18T14:35:16.078288Z"
    },
    "lines_to_next_cell": 2
   },
   "outputs": [],
   "source": [
    "fueleco.city08.isna().mean() * 100"
   ]
  },
  {
   "cell_type": "code",
   "execution_count": null,
   "metadata": {
    "ExecuteTime": {
     "end_time": "2024-06-18T14:35:16.724879Z",
     "start_time": "2024-06-18T14:35:16.715146Z"
    },
    "lines_to_next_cell": 2
   },
   "outputs": [],
   "source": [
    "fueleco.city08.describe()"
   ]
  },
  {
   "cell_type": "code",
   "execution_count": null,
   "metadata": {
    "ExecuteTime": {
     "end_time": "2024-06-18T14:35:17.932687Z",
     "start_time": "2024-06-18T14:35:17.667660Z"
    },
    "lines_to_next_cell": 2
   },
   "outputs": [],
   "source": [
    "import matplotlib.pyplot as plt\n",
    "fig, ax = plt.subplots(figsize=(10, 8))\n",
    "fueleco.city08.hist(ax=ax)"
   ]
  },
  {
   "cell_type": "code",
   "execution_count": null,
   "metadata": {
    "ExecuteTime": {
     "end_time": "2024-06-18T14:35:19.140293Z",
     "start_time": "2024-06-18T14:35:18.846938Z"
    },
    "lines_to_next_cell": 2
   },
   "outputs": [],
   "source": [
    "import matplotlib.pyplot as plt\n",
    "fig, ax = plt.subplots(figsize=(10, 8))\n",
    "fueleco.city08.hist(ax=ax, bins=30)"
   ]
  },
  {
   "cell_type": "code",
   "execution_count": null,
   "metadata": {
    "ExecuteTime": {
     "end_time": "2024-06-18T14:35:47.306119Z",
     "start_time": "2024-06-18T14:35:45.532236Z"
    },
    "lines_to_next_cell": 2
   },
   "outputs": [],
   "source": [
    "fig, ax = plt.subplots(figsize=(10, 8))\n",
    "sns.displot(fueleco.city08, rug=True, ax=ax)"
   ]
  },
  {
   "cell_type": "code",
   "execution_count": null,
   "metadata": {
    "ExecuteTime": {
     "end_time": "2024-06-18T14:36:10.475451Z",
     "start_time": "2024-06-18T14:36:09.654540Z"
    },
    "lines_to_next_cell": 2
   },
   "outputs": [],
   "source": [
    "fig, axs = plt.subplots(nrows=3, figsize=(10, 8))\n",
    "sns.boxplot(fueleco.city08, ax=axs[0])\n",
    "sns.violinplot(fueleco.city08, ax=axs[1])\n",
    "sns.boxenplot(fueleco.city08, ax=axs[2])    "
   ]
  },
  {
   "cell_type": "code",
   "execution_count": null,
   "metadata": {
    "ExecuteTime": {
     "end_time": "2024-06-18T14:36:12.917430Z",
     "start_time": "2024-06-18T14:36:12.907111Z"
    },
    "lines_to_next_cell": 2
   },
   "outputs": [],
   "source": [
    "from scipy import stats\n",
    "stats.kstest(fueleco.city08, cdf='norm')"
   ]
  },
  {
   "cell_type": "code",
   "execution_count": null,
   "metadata": {
    "ExecuteTime": {
     "end_time": "2024-06-18T14:36:15.054353Z",
     "start_time": "2024-06-18T14:36:14.591951Z"
    },
    "lines_to_next_cell": 2
   },
   "outputs": [],
   "source": [
    "from scipy import stats\n",
    "fig, ax = plt.subplots(figsize=(10, 8))\n",
    "stats.probplot(fueleco.city08, plot=ax) "
   ]
  },
  {
   "cell_type": "markdown",
   "metadata": {},
   "source": [
    "## 5.5 檢視不同分類的資料分佈"
   ]
  },
  {
   "cell_type": "code",
   "execution_count": null,
   "metadata": {
    "ExecuteTime": {
     "end_time": "2024-06-18T14:36:17.857009Z",
     "start_time": "2024-06-18T14:36:17.849706Z"
    }
   },
   "outputs": [],
   "source": [
    "fueleco.make"
   ]
  },
  {
   "cell_type": "code",
   "execution_count": null,
   "metadata": {
    "ExecuteTime": {
     "end_time": "2024-06-18T14:36:18.742044Z",
     "start_time": "2024-06-18T14:36:18.721640Z"
    }
   },
   "outputs": [],
   "source": [
    "mask = fueleco.make.isin(['Ford', 'Honda', 'Tesla', 'BMW'])\n",
    "fueleco[mask].groupby('make').city08.agg(['mean', 'std'])"
   ]
  },
  {
   "cell_type": "code",
   "execution_count": null,
   "metadata": {
    "ExecuteTime": {
     "end_time": "2024-06-18T14:36:21.344797Z",
     "start_time": "2024-06-18T14:36:20.976090Z"
    },
    "lines_to_next_cell": 2
   },
   "outputs": [],
   "source": [
    "g = sns.catplot(x='make', y='city08', \n",
    "                data=fueleco[mask], kind='box')    "
   ]
  },
  {
   "cell_type": "code",
   "execution_count": null,
   "metadata": {
    "ExecuteTime": {
     "end_time": "2024-06-18T14:36:22.667885Z",
     "start_time": "2024-06-18T14:36:22.649933Z"
    },
    "lines_to_next_cell": 2
   },
   "outputs": [],
   "source": [
    "mask = fueleco.make.isin(['Ford', 'Honda', 'Tesla', 'BMW'])\n",
    "(fueleco[mask].groupby('make').city08.count())"
   ]
  },
  {
   "cell_type": "code",
   "execution_count": null,
   "metadata": {
    "ExecuteTime": {
     "end_time": "2024-06-18T15:18:22.223845Z",
     "start_time": "2024-06-18T15:15:03.227786Z"
    },
    "lines_to_next_cell": 2
   },
   "outputs": [],
   "source": [
    "g = sns.catplot(x='make', y='city08', \n",
    "  data=fueleco[mask], kind='box')\n",
    "sns.swarmplot(x='make', y='city08',    # doctest: +SKIP\n",
    "  data=fueleco[mask], color='k', size=1, ax=g.ax)\n",
    "g.ax.figure.savefig('/tmp/c5-catbox2.png', dpi=300)    # doctest: +SKIP  "
   ]
  },
  {
   "cell_type": "code",
   "execution_count": null,
   "metadata": {
    "ExecuteTime": {
     "end_time": "2024-06-18T14:38:31.443728Z",
     "start_time": "2024-06-18T14:38:30.166111Z"
    },
    "lines_to_next_cell": 2
   },
   "outputs": [],
   "source": [
    "g = sns.catplot(x='make', y='city08', \n",
    "                data=fueleco[mask], kind='box',\n",
    "                col='year', col_order=[2012, 2014, 2016, 2018],\n",
    "                col_wrap=2)"
   ]
  },
  {
   "cell_type": "code",
   "execution_count": null,
   "metadata": {
    "ExecuteTime": {
     "end_time": "2024-06-18T14:38:33.032206Z",
     "start_time": "2024-06-18T14:38:31.444747Z"
    },
    "lines_to_next_cell": 2
   },
   "outputs": [],
   "source": [
    "g = sns.catplot(x='make', y='city08', \n",
    "                data=fueleco[mask], kind='box',\n",
    "                hue='year', hue_order=[2012, 2014, 2016, 2018])"
   ]
  },
  {
   "cell_type": "code",
   "execution_count": null,
   "metadata": {
    "ExecuteTime": {
     "end_time": "2024-06-18T15:03:07.453308Z",
     "start_time": "2024-06-18T15:03:07.420557Z"
    },
    "lines_to_next_cell": 2
   },
   "outputs": [],
   "source": [
    "mask = fueleco.make.isin(['Ford', 'Honda', 'Tesla', 'BMW'])\n",
    "(fueleco\n",
    "  [mask]\n",
    "  .groupby('make')\n",
    "  .city08\n",
    "  .agg(['mean', 'std'])\n",
    "  .style.background_gradient(cmap='RdBu', axis=0)\n",
    ")"
   ]
  },
  {
   "cell_type": "markdown",
   "metadata": {},
   "source": [
    "## 5.6 比較連續欄位間的關聯性"
   ]
  },
  {
   "cell_type": "code",
   "execution_count": null,
   "metadata": {
    "ExecuteTime": {
     "end_time": "2024-06-18T14:38:33.197788Z",
     "start_time": "2024-06-18T14:38:33.190643Z"
    },
    "lines_to_next_cell": 2
   },
   "outputs": [],
   "source": [
    "fueleco.city08.cov(fueleco.highway08)"
   ]
  },
  {
   "cell_type": "code",
   "execution_count": null,
   "metadata": {
    "ExecuteTime": {
     "end_time": "2024-06-18T14:38:33.204891Z",
     "start_time": "2024-06-18T14:38:33.198792Z"
    },
    "lines_to_next_cell": 2
   },
   "outputs": [],
   "source": [
    "fueleco.city08.cov(fueleco.comb08)"
   ]
  },
  {
   "cell_type": "code",
   "execution_count": null,
   "metadata": {
    "ExecuteTime": {
     "end_time": "2024-06-18T14:38:33.212458Z",
     "start_time": "2024-06-18T14:38:33.205893Z"
    },
    "lines_to_next_cell": 2
   },
   "outputs": [],
   "source": [
    "fueleco.city08.cov(fueleco.cylinders)"
   ]
  },
  {
   "cell_type": "markdown",
   "metadata": {},
   "source": [
    "### correlation 可利用\"[拉格朗日插值法](https://zh.wikipedia.org/zh-tw/%E6%8B%89%E6%A0%BC%E6%9C%97%E6%97%A5%E6%8F%92%E5%80%BC%E6%B3%95)\"解釋\n"
   ]
  },
  {
   "cell_type": "code",
   "execution_count": null,
   "metadata": {
    "ExecuteTime": {
     "end_time": "2024-06-18T14:38:33.219568Z",
     "start_time": "2024-06-18T14:38:33.213456Z"
    },
    "lines_to_next_cell": 2
   },
   "outputs": [],
   "source": [
    "fueleco.city08.corr(fueleco.highway08)"
   ]
  },
  {
   "cell_type": "code",
   "execution_count": null,
   "metadata": {
    "ExecuteTime": {
     "end_time": "2024-06-18T14:38:33.227564Z",
     "start_time": "2024-06-18T14:38:33.220566Z"
    },
    "lines_to_next_cell": 2
   },
   "outputs": [],
   "source": [
    "fueleco.city08.corr(fueleco.cylinders)"
   ]
  },
  {
   "cell_type": "code",
   "execution_count": null,
   "metadata": {
    "ExecuteTime": {
     "end_time": "2024-06-18T14:38:33.528461Z",
     "start_time": "2024-06-18T14:38:33.230568Z"
    },
    "lines_to_next_cell": 2
   },
   "outputs": [],
   "source": [
    "import seaborn as sns\n",
    "fig, ax = plt.subplots(figsize=(8,8))\n",
    "corr = fueleco[['city08', 'highway08', 'cylinders']].corr()\n",
    "mask = np.zeros_like(corr, dtype=np.bool)\n",
    "mask[np.triu_indices_from(mask)] = True\n",
    "sns.heatmap(corr, mask=mask,\n",
    "            fmt='.2f', annot=True, ax=ax, cmap='RdBu', vmin=-1, vmax=1,\n",
    "            square=True)"
   ]
  },
  {
   "cell_type": "code",
   "execution_count": null,
   "metadata": {
    "ExecuteTime": {
     "end_time": "2024-06-18T14:42:29.161126Z",
     "start_time": "2024-06-18T14:42:28.626169Z"
    },
    "lines_to_next_cell": 2
   },
   "outputs": [],
   "source": [
    "fig, ax = plt.subplots(figsize=(8,8))\n",
    "fueleco.plot.scatter(x='city08', y='highway08', alpha=.1, ax=ax)"
   ]
  },
  {
   "cell_type": "code",
   "execution_count": null,
   "metadata": {
    "ExecuteTime": {
     "end_time": "2024-06-18T14:42:32.924213Z",
     "start_time": "2024-06-18T14:42:32.397052Z"
    },
    "lines_to_next_cell": 2
   },
   "outputs": [],
   "source": [
    "fig, ax = plt.subplots(figsize=(8,8))\n",
    "fueleco.plot.scatter(x='city08', y='cylinders', alpha=.1, ax=ax)"
   ]
  },
  {
   "cell_type": "code",
   "execution_count": null,
   "metadata": {
    "ExecuteTime": {
     "end_time": "2024-06-18T14:42:34.165363Z",
     "start_time": "2024-06-18T14:42:34.158077Z"
    },
    "lines_to_next_cell": 2
   },
   "outputs": [],
   "source": [
    "fueleco.cylinders.isna().sum()"
   ]
  },
  {
   "cell_type": "code",
   "execution_count": null,
   "metadata": {
    "ExecuteTime": {
     "end_time": "2024-06-18T14:42:37.271229Z",
     "start_time": "2024-06-18T14:42:36.713067Z"
    },
    "lines_to_next_cell": 2
   },
   "outputs": [],
   "source": [
    "fig, ax = plt.subplots(figsize=(8,8))\n",
    "(fueleco\n",
    " .assign(cylinders=fueleco.cylinders.fillna(0))\n",
    " .plot.scatter(x='city08', y='cylinders', alpha=.1, ax=ax))"
   ]
  },
  {
   "cell_type": "code",
   "execution_count": null,
   "metadata": {
    "ExecuteTime": {
     "end_time": "2024-06-18T14:42:42.206185Z",
     "start_time": "2024-06-18T14:42:38.759293Z"
    },
    "lines_to_next_cell": 2
   },
   "outputs": [],
   "source": [
    "res = sns.lmplot(x='city08', y='highway08', data=fueleco)"
   ]
  },
  {
   "cell_type": "code",
   "execution_count": null,
   "metadata": {
    "ExecuteTime": {
     "end_time": "2024-06-18T14:42:42.214856Z",
     "start_time": "2024-06-18T14:42:42.207187Z"
    },
    "lines_to_next_cell": 2
   },
   "outputs": [],
   "source": [
    "fueleco.city08.corr(fueleco.highway08*2)"
   ]
  },
  {
   "cell_type": "code",
   "execution_count": null,
   "metadata": {
    "ExecuteTime": {
     "end_time": "2024-06-18T14:42:45.861152Z",
     "start_time": "2024-06-18T14:42:45.853458Z"
    },
    "lines_to_next_cell": 2
   },
   "outputs": [],
   "source": [
    "fueleco.city08.cov(fueleco.highway08*2)"
   ]
  },
  {
   "cell_type": "code",
   "execution_count": null,
   "metadata": {
    "ExecuteTime": {
     "end_time": "2024-06-18T14:42:51.475722Z",
     "start_time": "2024-06-18T14:42:47.033625Z"
    },
    "lines_to_next_cell": 2
   },
   "outputs": [],
   "source": [
    "res = sns.relplot(x='city08', y='highway08',\n",
    "                  data=fueleco.assign(\n",
    "                      cylinders=fueleco.cylinders.fillna(0)),\n",
    "                  hue='year', size='barrels08', alpha=.5, height=8)"
   ]
  },
  {
   "cell_type": "code",
   "execution_count": null,
   "metadata": {
    "ExecuteTime": {
     "end_time": "2024-06-18T14:42:57.820059Z",
     "start_time": "2024-06-18T14:42:56.105284Z"
    },
    "lines_to_next_cell": 2
   },
   "outputs": [],
   "source": [
    "res = sns.relplot(x='city08', y='highway08',\n",
    "  data=fueleco.assign(\n",
    "  cylinders=fueleco.cylinders.fillna(0)),\n",
    "  hue='year', size='barrels08', alpha=.5, height=8,\n",
    "  col='make', col_order=['Ford', 'Tesla'])"
   ]
  },
  {
   "cell_type": "code",
   "execution_count": null,
   "metadata": {
    "ExecuteTime": {
     "end_time": "2024-06-18T14:43:00.253661Z",
     "start_time": "2024-06-18T14:43:00.239496Z"
    }
   },
   "outputs": [],
   "source": [
    "fueleco.city08.corr(fueleco.barrels08, method='spearman')"
   ]
  },
  {
   "cell_type": "markdown",
   "metadata": {},
   "source": [
    "## 5.7 比較分類欄位的關聯性"
   ]
  },
  {
   "cell_type": "code",
   "execution_count": null,
   "metadata": {
    "ExecuteTime": {
     "end_time": "2024-06-18T14:43:01.613546Z",
     "start_time": "2024-06-18T14:43:01.608823Z"
    }
   },
   "outputs": [],
   "source": [
    "def generalize(ser, match_name, default):\n",
    "    seen = None\n",
    "    for match, name in match_name:\n",
    "        mask = ser.str.contains(match)\n",
    "        if seen is None:\n",
    "            seen = mask\n",
    "        else:\n",
    "            seen |= mask\n",
    "        ser = ser.where(~mask, name)\n",
    "    ser = ser.where(seen, default)\n",
    "    return ser"
   ]
  },
  {
   "cell_type": "code",
   "execution_count": null,
   "metadata": {
    "ExecuteTime": {
     "end_time": "2024-06-18T14:43:02.819658Z",
     "start_time": "2024-06-18T14:43:02.777528Z"
    },
    "lines_to_next_cell": 2
   },
   "outputs": [],
   "source": [
    "makes = ['Ford', 'Tesla', 'BMW', 'Toyota']\n",
    "data = (fueleco\n",
    "   [fueleco.make.isin(makes)]\n",
    "   .assign(SClass=lambda df_: generalize(df_.VClass,\n",
    "    [('Seaters', 'Car'), ('Car', 'Car'), ('Utility', 'SUV'),\n",
    "     ('Truck', 'Truck'), ('Van', 'Van'), ('van', 'Van'),\n",
    "     ('Wagon', 'Wagon')], \n",
    "    'other'))\n",
    ")"
   ]
  },
  {
   "cell_type": "code",
   "execution_count": null,
   "metadata": {
    "ExecuteTime": {
     "end_time": "2024-06-18T14:43:05.385507Z",
     "start_time": "2024-06-18T14:43:05.368964Z"
    },
    "lines_to_next_cell": 2
   },
   "outputs": [],
   "source": [
    "data.groupby(['make', 'SClass']).size().unstack()"
   ]
  },
  {
   "cell_type": "code",
   "execution_count": null,
   "metadata": {
    "ExecuteTime": {
     "end_time": "2024-06-18T14:43:06.809253Z",
     "start_time": "2024-06-18T14:43:06.791089Z"
    },
    "lines_to_next_cell": 2
   },
   "outputs": [],
   "source": [
    "pd.crosstab(data.make, data.SClass)"
   ]
  },
  {
   "cell_type": "code",
   "execution_count": null,
   "metadata": {
    "ExecuteTime": {
     "end_time": "2024-06-18T14:43:08.267616Z",
     "start_time": "2024-06-18T14:43:08.206039Z"
    },
    "lines_to_next_cell": 2
   },
   "outputs": [],
   "source": [
    "pd.crosstab([data.year, data.make], [data.SClass, data.VClass])"
   ]
  },
  {
   "cell_type": "code",
   "execution_count": null,
   "metadata": {
    "ExecuteTime": {
     "end_time": "2024-06-18T14:43:10.005461Z",
     "start_time": "2024-06-18T14:43:09.999578Z"
    }
   },
   "outputs": [],
   "source": [
    "import scipy.stats as ss\n",
    "import numpy as np\n",
    "def cramers_v(x, y):\n",
    "    confusion_matrix = pd.crosstab(x,y)\n",
    "    chi2 = ss.chi2_contingency(confusion_matrix)[0]\n",
    "    n = confusion_matrix.sum().sum()\n",
    "    phi2 = chi2/n\n",
    "    r,k = confusion_matrix.shape\n",
    "    phi2corr = max(0, phi2-((k-1)*(r-1))/(n-1))\n",
    "    rcorr = r-((r-1)**2)/(n-1)\n",
    "    kcorr = k-((k-1)**2)/(n-1)\n",
    "    return np.sqrt(phi2corr/min((kcorr-1),(rcorr-1)))"
   ]
  },
  {
   "cell_type": "code",
   "execution_count": null,
   "metadata": {
    "ExecuteTime": {
     "end_time": "2024-06-18T14:43:12.403785Z",
     "start_time": "2024-06-18T14:43:12.383073Z"
    },
    "lines_to_next_cell": 2
   },
   "outputs": [],
   "source": [
    "cramers_v(data.make, data.SClass)"
   ]
  },
  {
   "cell_type": "code",
   "execution_count": null,
   "metadata": {
    "ExecuteTime": {
     "end_time": "2024-06-18T14:43:13.706889Z",
     "start_time": "2024-06-18T14:43:13.691847Z"
    }
   },
   "outputs": [],
   "source": [
    "data.make.corr(data.SClass, cramers_v)"
   ]
  },
  {
   "cell_type": "code",
   "execution_count": null,
   "metadata": {
    "ExecuteTime": {
     "end_time": "2024-06-18T14:43:14.986378Z",
     "start_time": "2024-06-18T14:43:14.651675Z"
    },
    "lines_to_next_cell": 2
   },
   "outputs": [],
   "source": [
    "fig, ax = plt.subplots(figsize=(10,8))\n",
    "(data.pipe(lambda df_: pd.crosstab(df_.make, df_.SClass))\n",
    "     .plot.bar(ax=ax)\n",
    ")"
   ]
  },
  {
   "cell_type": "code",
   "execution_count": null,
   "metadata": {
    "ExecuteTime": {
     "end_time": "2024-06-18T14:43:17.552509Z",
     "start_time": "2024-06-18T14:43:16.722104Z"
    },
    "lines_to_next_cell": 2
   },
   "outputs": [],
   "source": [
    "res = sns.catplot(kind='count', x='make', hue='SClass', data=data)"
   ]
  },
  {
   "cell_type": "code",
   "execution_count": null,
   "metadata": {
    "ExecuteTime": {
     "end_time": "2024-06-18T14:43:18.237565Z",
     "start_time": "2024-06-18T14:43:17.915627Z"
    },
    "lines_to_next_cell": 2
   },
   "outputs": [],
   "source": [
    "fig, ax = plt.subplots(figsize=(10,8))\n",
    "(data\n",
    " .pipe(lambda df_: pd.crosstab(df_.make, df_.SClass))\n",
    " .pipe(lambda df_: df_.div(df_.sum(axis=1), axis=0))\n",
    " .plot.bar(stacked=True, ax=ax)\n",
    ")"
   ]
  },
  {
   "cell_type": "markdown",
   "metadata": {},
   "source": [
    "## 5.8 使用Profiling函式庫建立摘要報告"
   ]
  },
  {
   "cell_type": "code",
   "execution_count": null,
   "metadata": {
    "ExecuteTime": {
     "end_time": "2024-06-18T14:43:57.771197Z",
     "start_time": "2024-06-18T14:43:22.988770Z"
    }
   },
   "outputs": [],
   "source": [
    "pip install pandas-profiling"
   ]
  },
  {
   "cell_type": "code",
   "execution_count": null,
   "metadata": {
    "ExecuteTime": {
     "end_time": "2024-06-18T14:44:00.034609Z",
     "start_time": "2024-06-18T14:43:57.773198Z"
    },
    "lines_to_next_cell": 2,
    "scrolled": true
   },
   "outputs": [],
   "source": [
    "import pandas_profiling as pp\n",
    "pp.ProfileReport(fueleco)"
   ]
  },
  {
   "cell_type": "code",
   "execution_count": null,
   "metadata": {},
   "outputs": [],
   "source": [
    "report = pp.ProfileReport(fueleco)\n",
    "report.to_file('fuel.html')"
   ]
  },
  {
   "cell_type": "code",
   "execution_count": null,
   "metadata": {},
   "outputs": [],
   "source": []
  }
 ],
 "metadata": {
  "jupytext": {
   "cell_metadata_filter": "-all",
   "main_language": "python",
   "notebook_metadata_filter": "-all"
  },
  "kernelspec": {
   "display_name": "Python [conda env:base] *",
   "language": "python",
   "name": "conda-base-py"
  },
  "language_info": {
   "codemirror_mode": {
    "name": "ipython",
    "version": 3
   },
   "file_extension": ".py",
   "mimetype": "text/x-python",
   "name": "python",
   "nbconvert_exporter": "python",
   "pygments_lexer": "ipython3",
   "version": "3.12.4"
  }
 },
 "nbformat": 4,
 "nbformat_minor": 4
}
