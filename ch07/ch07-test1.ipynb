{
 "cells": [
  {
   "cell_type": "markdown",
   "id": "d52335a7-56ae-417f-9fd9-c88d19c13233",
   "metadata": {},
   "source": [
    "# <font color=#0000ff >Ch07 Dict字典</font>"
   ]
  },
  {
   "cell_type": "code",
   "execution_count": 1,
   "id": "29be9059-7667-4e32-9d70-12d8fd7f81d8",
   "metadata": {},
   "outputs": [],
   "source": [
    "score_dict=dict(John=87, Eric=67, Tom=55, Mike=98)"
   ]
  },
  {
   "cell_type": "code",
   "execution_count": 3,
   "id": "d1604519-4f1f-4427-a909-7835f10fe962",
   "metadata": {},
   "outputs": [
    {
     "name": "stdout",
     "output_type": "stream",
     "text": [
      "{'John': 87, 'Eric': 67, 'Tom': 55, 'Mike': 98}\n"
     ]
    }
   ],
   "source": [
    "print(score_dict)"
   ]
  },
  {
   "cell_type": "code",
   "execution_count": 5,
   "id": "ddecef8a-979d-46f5-bb6e-9cc41136dc00",
   "metadata": {},
   "outputs": [
    {
     "name": "stdout",
     "output_type": "stream",
     "text": [
      "{'Sun': '日', 'Mon': '一', 'Tue': '二', 'Wed': '三', 'Thu': '四', 'Fri': '五', 'Sat': '六'}\n"
     ]
    }
   ],
   "source": [
    "week=dict(zip(['Sun','Mon','Tue','Wed','Thu','Fri','Sat'],['日','一','二','三','四','五','六']))\n",
    "print(week)"
   ]
  },
  {
   "cell_type": "code",
   "execution_count": 7,
   "id": "3964b9ba-300b-4f95-97fd-e85eca9debc0",
   "metadata": {},
   "outputs": [
    {
     "name": "stdout",
     "output_type": "stream",
     "text": [
      "0 Sun\n",
      "1 Mon\n",
      "2 Tue\n",
      "3 Wed\n",
      "4 Thu\n",
      "5 Fri\n",
      "6 Sat\n"
     ]
    }
   ],
   "source": [
    "for idx,e in enumerate(week):\n",
    "    print(idx,e) # 這樣 e只有使用到 key."
   ]
  },
  {
   "cell_type": "code",
   "execution_count": 9,
   "id": "39ee27cd-1b5c-453d-a7c4-88490ab1cbe9",
   "metadata": {},
   "outputs": [
    {
     "name": "stdout",
     "output_type": "stream",
     "text": [
      "Sun ==> 日\n",
      "Mon ==> 一\n",
      "Tue ==> 二\n",
      "Wed ==> 三\n",
      "Thu ==> 四\n",
      "Fri ==> 五\n",
      "Sat ==> 六\n"
     ]
    }
   ],
   "source": [
    "for key,val in week.items(): ## 這樣可以存取到 key 及 value\n",
    "    print(key,'==>',val)"
   ]
  },
  {
   "cell_type": "markdown",
   "id": "c65ff620-eb32-42c6-ac03-9c76b007b4b8",
   "metadata": {},
   "source": [
    "### 字典取值考慮用 get方法:\n",
    "以前直覺是用 week['key'], 但如果 'key'不存在的話? 程式會出錯中斷."
   ]
  },
  {
   "cell_type": "code",
   "execution_count": 11,
   "id": "67704b73-dfd3-4034-87cd-1d40102a3d8d",
   "metadata": {},
   "outputs": [
    {
     "name": "stdout",
     "output_type": "stream",
     "text": [
      "Sun\n"
     ]
    },
    {
     "ename": "KeyError",
     "evalue": "'St'",
     "output_type": "error",
     "traceback": [
      "\u001b[1;31m---------------------------------------------------------------------------\u001b[0m",
      "\u001b[1;31mKeyError\u001b[0m                                  Traceback (most recent call last)",
      "Cell \u001b[1;32mIn[11], line 3\u001b[0m\n\u001b[0;32m      1\u001b[0m \u001b[38;5;66;03m## 字典取值用 get方法, 可以給預設值, 防範若 key不存在時 程式執行中斷.\u001b[39;00m\n\u001b[0;32m      2\u001b[0m \u001b[38;5;28mprint\u001b[39m(week\u001b[38;5;241m.\u001b[39mget(\u001b[38;5;124m'\u001b[39m\u001b[38;5;124mSt\u001b[39m\u001b[38;5;124m'\u001b[39m,\u001b[38;5;124m'\u001b[39m\u001b[38;5;124mSun\u001b[39m\u001b[38;5;124m'\u001b[39m))\n\u001b[1;32m----> 3\u001b[0m \u001b[38;5;28mprint\u001b[39m(week[\u001b[38;5;124m'\u001b[39m\u001b[38;5;124mSt\u001b[39m\u001b[38;5;124m'\u001b[39m])\n",
      "\u001b[1;31mKeyError\u001b[0m: 'St'"
     ]
    }
   ],
   "source": [
    "## 字典取值用 get方法, 可以給預設值, 防範若 key不存在時 程式執行中斷.\n",
    "print(week.get('St','Sun'))\n",
    "print(week['St'])"
   ]
  },
  {
   "cell_type": "markdown",
   "id": "3f9bb411-89de-4e8f-99e7-acc941f52fd5",
   "metadata": {},
   "source": [
    "### 字典也有深淺複製問題:"
   ]
  },
  {
   "cell_type": "code",
   "execution_count": 13,
   "id": "3399ceaa-d0d4-456d-9d73-558fb009dffe",
   "metadata": {},
   "outputs": [
    {
     "name": "stdout",
     "output_type": "stream",
     "text": [
      "{'name': 'justin', 'age': 44, 'days': ['Sun', 'Mon', 'Tue', 'Wed', 'Thu', 'Fri', 'Sat']}\n",
      "{'name': 'justin', 'age': 44, 'days': ['Sun', 'Mon', 'Tue', 'Wed', 'Thu', 'Fri', 'Sat']}\n"
     ]
    }
   ],
   "source": [
    "weekday=['Sun','Mon','Tue','Wed','Thu','Fri','Sat']\n",
    "data={\"name\":\"justin\",\"age\":44, \"days\":weekday}\n",
    "data_ref=data.copy()\n",
    "print(data)\n",
    "print(data_ref)"
   ]
  },
  {
   "cell_type": "code",
   "execution_count": 15,
   "id": "caa3ec74-7cf7-4865-9aeb-69331b2bd855",
   "metadata": {},
   "outputs": [
    {
     "name": "stdout",
     "output_type": "stream",
     "text": [
      "{'name': 'justin', 'age': 44, 'days': ['Sun', 'Mon', 'Tue', 'Wed', 'Thu', 'Fri', 'Sat']}\n",
      "{'name': 'jack', 'age': 44, 'days': ['Sun', 'Mon', 'Tue', 'Wed', 'Thu', 'Fri', 'Sat']}\n"
     ]
    }
   ],
   "source": [
    "data_ref['name'] = 'jack'\n",
    "print(data)\n",
    "print(data_ref)"
   ]
  },
  {
   "cell_type": "code",
   "execution_count": 17,
   "id": "63b607b5-450c-4586-9543-cf1c2afd984f",
   "metadata": {},
   "outputs": [
    {
     "name": "stdout",
     "output_type": "stream",
     "text": [
      "{'name': 'justin', 'age': 44, 'days': ['Sun', 'Mon', 'Tue', 'Wed', 'Thu', 'Fri', 'Sat']}\n",
      "{'name': 'jack', 'age': 45, 'days': ['Sun', 'Mon', 'Tue', 'Wed', 'Thu', 'Fri', 'Sat']}\n"
     ]
    }
   ],
   "source": [
    "data_ref['age']=45\n",
    "print(data)\n",
    "print(data_ref)"
   ]
  },
  {
   "cell_type": "code",
   "execution_count": 19,
   "id": "307248a6-d98f-4c14-a409-9aff37d56643",
   "metadata": {},
   "outputs": [
    {
     "name": "stdout",
     "output_type": "stream",
     "text": [
      "{'name': 'justin', 'age': 44, 'days': ['Sun', 'Mon', 'Tue', 'Wed', 'Thu', 'Fri', 'Set']}\n",
      "{'name': 'jack', 'age': 45, 'days': ['Sun', 'Mon', 'Tue', 'Wed', 'Thu', 'Fri', 'Set']}\n"
     ]
    }
   ],
   "source": [
    "data_ref['days'][6]='Set'\n",
    "print(data)\n",
    "print(data_ref)"
   ]
  },
  {
   "cell_type": "markdown",
   "id": "b72e4d50-4ed7-4f60-9224-d2739b1b9f9d",
   "metadata": {},
   "source": [
    "### **合併字典用 update方法**:\n",
    "有**重複**的會用引數的 dict來**覆蓋**:"
   ]
  },
  {
   "cell_type": "code",
   "execution_count": 22,
   "id": "14b826eb-b0bf-467e-9ee1-697b78eeb767",
   "metadata": {},
   "outputs": [
    {
     "name": "stdout",
     "output_type": "stream",
     "text": [
      "{'a': 1, 'b': -2, 'c': 33}\n"
     ]
    }
   ],
   "source": [
    "n1={'a':1,'b':2}\n",
    "n2={'b':-2, 'c':33}\n",
    "n1.update(n2)\n",
    "print(n1)"
   ]
  },
  {
   "cell_type": "markdown",
   "id": "b99b05bb-c733-443c-ae4e-261094832f0f",
   "metadata": {},
   "source": [
    "### **合併字典用 \"|\" 運算子**:\n",
    "運算不影響 運算子兩邊的運算元=>兩變數不會被修改, 因此要有另外一個變數來接住運算結果"
   ]
  },
  {
   "cell_type": "code",
   "execution_count": 25,
   "id": "f17127ae-160e-486b-82eb-dccc0e2e771a",
   "metadata": {},
   "outputs": [
    {
     "name": "stdout",
     "output_type": "stream",
     "text": [
      "{'d': 9, 'e': 3, 'f': 7, 'g': 11}\n",
      "{'d': 9, 'e': 3}\n",
      "{'f': 7, 'g': 11}\n",
      "{'d': 9, 'e': 3, 'f': 7, 'g': 11}\n"
     ]
    }
   ],
   "source": [
    "d1={'d':9, 'e':3}\n",
    "d2={'f':7, 'g':11}\n",
    "\n",
    "print(d1|d2)\n",
    "print(d1)\n",
    "print(d2)\n",
    "\n",
    "d3 = d1|d2\n",
    "print(d3)"
   ]
  },
  {
   "cell_type": "code",
   "execution_count": 41,
   "id": "db4f5167-3a1d-4966-820d-6922c8e07a47",
   "metadata": {},
   "outputs": [
    {
     "name": "stdout",
     "output_type": "stream",
     "text": [
      "['Fri', 'Mon', 'Sat', 'Sun', 'Thu', 'Tue', 'Wed']\n",
      "['五', '一', '六', '日', '四', '二', '三']\n",
      "{'Sun': '日', 'Mon': '一', 'Tue': '二', 'Wed': '三', 'Thu': '四', 'Fri': '五', 'Sat': '六'}\n"
     ]
    }
   ],
   "source": [
    "print(sorted(week))                    #字典排序的話只對 key生效\n",
    "print([week[x] for x in sorted(week)]) #排序完的key拿去遍歷原來的字典印出對應value.\n",
    "print(week)                            # double check原來字典有沒有被變更."
   ]
  },
  {
   "cell_type": "markdown",
   "id": "0acf4cc7-b923-466e-8f05-f5be7a02c5fb",
   "metadata": {},
   "source": [
    "### **字典生成式用法** \n",
    "{ <font color=#000fff>**ekey**: **evalue**</font> for <font color=#000fff>ekey,evalue</font> in <font color=#000fff>**iterable**</font> }"
   ]
  },
  {
   "cell_type": "code",
   "execution_count": 50,
   "id": "5886c6d7-bc43-461e-814a-2122fa581e9f",
   "metadata": {},
   "outputs": [],
   "source": [
    "adict={ek:ev for ek,ev in zip(['Sun','Mon','Tue','Wed','Thu','Fri','Sat'],['日','一','二','三','四','五','六'])}"
   ]
  },
  {
   "cell_type": "code",
   "execution_count": 52,
   "id": "e4517307-7e7b-4cce-9e25-e5f4b22b57c1",
   "metadata": {},
   "outputs": [
    {
     "name": "stdout",
     "output_type": "stream",
     "text": [
      "{'Sun': '日', 'Mon': '一', 'Tue': '二', 'Wed': '三', 'Thu': '四', 'Fri': '五', 'Sat': '六'}\n"
     ]
    }
   ],
   "source": [
    "print(adict)"
   ]
  },
  {
   "cell_type": "code",
   "execution_count": null,
   "id": "f4de4d0f-32e8-4485-990e-a2b42625a206",
   "metadata": {},
   "outputs": [],
   "source": []
  },
  {
   "cell_type": "code",
   "execution_count": null,
   "id": "d906c060-b36d-4927-9c61-3b71f3aca968",
   "metadata": {},
   "outputs": [],
   "source": []
  },
  {
   "cell_type": "code",
   "execution_count": null,
   "id": "60aa8ec5-ac81-48ef-bb8e-39d1bcff337e",
   "metadata": {},
   "outputs": [],
   "source": []
  }
 ],
 "metadata": {
  "kernelspec": {
   "display_name": "Python 3 (ipykernel)",
   "language": "python",
   "name": "python3"
  },
  "language_info": {
   "codemirror_mode": {
    "name": "ipython",
    "version": 3
   },
   "file_extension": ".py",
   "mimetype": "text/x-python",
   "name": "python",
   "nbconvert_exporter": "python",
   "pygments_lexer": "ipython3",
   "version": "3.12.4"
  }
 },
 "nbformat": 4,
 "nbformat_minor": 5
}
