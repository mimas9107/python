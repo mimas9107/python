{
 "cells": [
  {
   "cell_type": "markdown",
   "metadata": {},
   "source": [
    "### 內建函式 ( eval 和 exec )"
   ]
  },
  {
   "cell_type": "code",
   "execution_count": 1,
   "metadata": {},
   "outputs": [
    {
     "name": "stdout",
     "output_type": "stream",
     "text": [
      "5\n"
     ]
    }
   ],
   "source": [
    "a=eval('x+y',{'x':2, 'y':3})\n",
    "print(a)"
   ]
  },
  {
   "cell_type": "markdown",
   "metadata": {},
   "source": [
    "exec() 可以包住一個多行的程式敘述(多行字串'''...'''), 並執行!"
   ]
  },
  {
   "cell_type": "code",
   "execution_count": 2,
   "metadata": {},
   "outputs": [
    {
     "name": "stdout",
     "output_type": "stream",
     "text": [
      "0\n",
      "1\n",
      "2\n",
      "3\n",
      "4\n"
     ]
    }
   ],
   "source": [
    "exec('''\n",
    "for i in range(5):\n",
    "    print(i)\n",
    "''')"
   ]
  },
  {
   "cell_type": "markdown",
   "metadata": {},
   "source": [
    "### 標準函式庫\n"
   ]
  },
  {
   "cell_type": "markdown",
   "metadata": {},
   "source": [
    "### random"
   ]
  },
  {
   "cell_type": "code",
   "execution_count": 23,
   "metadata": {},
   "outputs": [
    {
     "name": "stdout",
     "output_type": "stream",
     "text": [
      "0.9116984663310886\n"
     ]
    }
   ],
   "source": [
    "\n",
    "import random\n",
    "import time\n",
    "random.seed(time.time()*random.random())\n",
    "print(random.random())"
   ]
  },
  {
   "cell_type": "code",
   "execution_count": 26,
   "metadata": {},
   "outputs": [
    {
     "name": "stdout",
     "output_type": "stream",
     "text": [
      "['a', 'b', 'c', 'd', 'e']\n",
      "['e', 'b', 'a', 'd', 'c']\n"
     ]
    }
   ],
   "source": [
    "a=['a','b','c','d','e']\n",
    "print(a)\n",
    "random.shuffle(a)\n",
    "print(a)"
   ]
  },
  {
   "cell_type": "code",
   "execution_count": 32,
   "metadata": {},
   "outputs": [],
   "source": [
    "def reorder(s:str):\n",
    "    # import random\n",
    "    # import time\n",
    "    random.seed(time.time()*random.random())\n",
    "    tmp:list=[e for e in s]\n",
    "    ## 隨機打亂串列順序\n",
    "    random.shuffle(tmp)\n",
    "    ## 回傳打亂\n",
    "    return \"\".join(tmp)\n"
   ]
  },
  {
   "cell_type": "code",
   "execution_count": 56,
   "metadata": {},
   "outputs": [
    {
     "name": "stdout",
     "output_type": "stream",
     "text": [
      "llreowd ohl\n"
     ]
    }
   ],
   "source": [
    "print(reorder(\"hello world\"))"
   ]
  },
  {
   "cell_type": "markdown",
   "metadata": {},
   "source": [
    "### math"
   ]
  },
  {
   "cell_type": "code",
   "execution_count": 60,
   "metadata": {},
   "outputs": [
    {
     "name": "stdout",
     "output_type": "stream",
     "text": [
      "0.8660254037844386\n"
     ]
    }
   ],
   "source": [
    "import math\n",
    "a=math.sin(math.pi/3)\n",
    "print(a)"
   ]
  },
  {
   "cell_type": "markdown",
   "metadata": {},
   "source": [
    "### statistics"
   ]
  },
  {
   "cell_type": "code",
   "execution_count": 67,
   "metadata": {},
   "outputs": [
    {
     "name": "stdout",
     "output_type": "stream",
     "text": [
      "[0, 1, 2, 2, 3, 3, 3, 3, 4, 5, 5, 5, 7, 8, 9]\n",
      "4\n",
      "3\n",
      "3\n",
      "3 <== type= <class 'str'>\n"
     ]
    }
   ],
   "source": [
    "import statistics as st\n",
    "a=[5,5,5,2,2,3,3,3,3,4,9,0,1,7,8]\n",
    "print(sorted(a))\n",
    "print(st.mean(a))\n",
    "print(st.median(a))\n",
    "print(st.mode(a))\n",
    "\n",
    "# 若串列元素是字串:\n",
    "b=[str(e) for e in a]\n",
    "print(st.mode(b),'<== type=',type(st.mode(b)))"
   ]
  },
  {
   "cell_type": "markdown",
   "metadata": {},
   "source": [
    "### datetime"
   ]
  },
  {
   "cell_type": "code",
   "execution_count": 68,
   "metadata": {},
   "outputs": [],
   "source": [
    "import datetime\n",
    "from datetime import date"
   ]
  },
  {
   "cell_type": "code",
   "execution_count": 92,
   "metadata": {},
   "outputs": [
    {
     "name": "stdout",
     "output_type": "stream",
     "text": [
      "2025-02-10 ← 型別= <class 'datetime.date'>\n",
      "2025-02-11 ← 型別= <class 'datetime.date'>\n",
      "2025-02-10\n",
      "2025-02-10T10:47:02.389955\n"
     ]
    }
   ],
   "source": [
    "d=datetime.date(2025,2,10)\n",
    "print(d,'← 型別=',type(d))\n",
    "\n",
    "d2=date(2025,2,11)\n",
    "print(d2,'← 型別=',type(d2))\n",
    "\n",
    "today=datetime.date.today()\n",
    "print(today)\n",
    "\n",
    "## 這邊用到 isoformat yyyy-mm-ddThh:MM:ss.msecond\n",
    "timenow=datetime.datetime.now()\n",
    "print(datetime.datetime.isoformat(timenow)) "
   ]
  },
  {
   "cell_type": "markdown",
   "metadata": {},
   "source": [
    "### time"
   ]
  },
  {
   "cell_type": "code",
   "execution_count": 93,
   "metadata": {},
   "outputs": [
    {
     "name": "stdout",
     "output_type": "stream",
     "text": [
      "1739155870.6794417\n"
     ]
    }
   ],
   "source": [
    "import time\n",
    "print(time.time()) ## 回傳 從 1970/01/01至當下的 timestamp秒數"
   ]
  },
  {
   "cell_type": "code",
   "execution_count": 141,
   "metadata": {},
   "outputs": [
    {
     "name": "stdout",
     "output_type": "stream",
     "text": [
      "小睡 1秒\n",
      "醒來說 hello!\n",
      "1739157182.1828449\n",
      "27480238\n",
      "hello  world\n"
     ]
    }
   ],
   "source": [
    "print(\"小睡 1秒\")\n",
    "time.sleep(1)\n",
    "print(\"醒來說 hello!\")\n",
    "\n",
    "## 小試一下不用 time.sleep的方式的話: \n",
    "t1=time.time()\n",
    "print(t1)\n",
    "i=0\n",
    "while(time.time()-t1<3.0):\n",
    "    i+=1\n",
    "print(i)\n",
    "print(\"hello  world\")"
   ]
  },
  {
   "cell_type": "markdown",
   "metadata": {},
   "source": [
    "### re 正規表示式"
   ]
  },
  {
   "cell_type": "code",
   "execution_count": 142,
   "metadata": {},
   "outputs": [],
   "source": [
    "import re"
   ]
  },
  {
   "cell_type": "code",
   "execution_count": 163,
   "metadata": {},
   "outputs": [
    {
     "name": "stdout",
     "output_type": "stream",
     "text": [
      "None\n",
      "257\n",
      "['251', '497']\n"
     ]
    }
   ],
   "source": [
    "rule=re.compile(r'\\d\\d\\d') ## 連續有3個數字, pattern字串是 r-string r'*****'\n",
    "\n",
    "result=rule.search('a1b2c4defg')\n",
    "print(result) ## 沒有連續當然篩不出來\n",
    "\n",
    "result=rule.search('ab257c4defg')\n",
    "print(result.group())\n",
    "\n",
    "results=rule.findall('ab251c497defg') ## 搜索所有符合規則的結果.\n",
    "print(results if len(results)!=0 else 'found nothing!')"
   ]
  },
  {
   "cell_type": "code",
   "execution_count": 167,
   "metadata": {},
   "outputs": [
    {
     "name": "stdout",
     "output_type": "stream",
     "text": [
      "hello\n",
      "['hello', 'Hello']\n"
     ]
    }
   ],
   "source": [
    "rule2=re.compile(r'hello', flags=re.I) ## 忽略掉大小寫視為一樣,\n",
    "contents='498750hello,487akjdHello'\n",
    "\n",
    "result=rule2.search(contents)\n",
    "print(result.group())\n",
    "\n",
    "results=rule2.findall(contents)\n",
    "print(results)"
   ]
  },
  {
   "cell_type": "code",
   "execution_count": 190,
   "metadata": {},
   "outputs": [
    {
     "name": "stdout",
     "output_type": "stream",
     "text": [
      "Python is easy to learn\n",
      "<re.Match object; span=(0, 6), match='Python'>\n"
     ]
    }
   ],
   "source": [
    "contents=\"\"\"Python is \n",
    "easy to learn\n",
    "\"\"\"\n",
    "print(contents.replace('\\n',''))\n",
    "# contents=contents.replace('\\n','')\n",
    "rule3=re.compile(r'^python', flags=re.M|re.I ) ## 搜字串開頭是 python的\n",
    "result=rule3.search(contents)\n",
    "print(result)"
   ]
  },
  {
   "cell_type": "code",
   "execution_count": 193,
   "metadata": {},
   "outputs": [
    {
     "name": "stdout",
     "output_type": "stream",
     "text": [
      "None\n"
     ]
    }
   ],
   "source": [
    "contents4=\"hello aajkdjal;dj wrold ajkdj world\"\n",
    "rule4=re.compile(r'(hello)(world)')\n",
    "\n",
    "result=rule4.search(contents4)\n",
    "print(result)"
   ]
  },
  {
   "cell_type": "markdown",
   "metadata": {},
   "source": [
    "### os\n"
   ]
  },
  {
   "cell_type": "code",
   "execution_count": 211,
   "metadata": {},
   "outputs": [
    {
     "name": "stdout",
     "output_type": "stream",
     "text": [
      "c:\\justin\\python\\python_class\n",
      "c:\\justin\\python\\python_class\\testdir\n",
      "hello world!\n"
     ]
    }
   ],
   "source": [
    "import os\n",
    "import sys\n",
    "app_curdir=\"c:\\\\justin\\\\python\\\\python_class\" \n",
    "os.chdir(app_curdir)\n",
    "print(os.getcwd()) ## 取當前程式執行的路徑\n",
    "\n",
    "os.chdir(\"testdir\") ## 切到資料夾\n",
    "\n",
    "## 上面已經切到 testdir/下了, 直接 open當下的 testfile.txt就好, 可以用相對路徑:\n",
    "print(os.getcwd())\n",
    "with open(\"testfile.txt\",\"r\") as f: \n",
    "    buf=f.read()\n",
    "    print(buf)\n",
    "\n",
    "os.chdir(app_curdir)"
   ]
  },
  {
   "cell_type": "code",
   "execution_count": 213,
   "metadata": {},
   "outputs": [
    {
     "name": "stdout",
     "output_type": "stream",
     "text": [
      "['advanced.ipynb', 'advanced_2.ipynb', 'mod1.py', 'testdir', '__pycache__']\n"
     ]
    }
   ],
   "source": [
    "print(os.listdir())"
   ]
  },
  {
   "cell_type": "code",
   "execution_count": 221,
   "metadata": {},
   "outputs": [
    {
     "name": "stdout",
     "output_type": "stream",
     "text": [
      "1739166112.6454773\n",
      "創建時間: ctime= Mon Feb 10 13:41:52 2025\n",
      "修改時間: ctime= Mon Feb 10 13:41:59 2025\n",
      "存取時間: ctime= Mon Feb 10 14:00:59 2025\n"
     ]
    }
   ],
   "source": [
    "thefile_ctime=os.stat(\"testdir\\\\testfile.txt\").st_ctime\n",
    "thefile_mtime=os.stat(\"testdir\\\\testfile.txt\").st_mtime\n",
    "thefile_atime=os.stat(\"testdir\\\\testfile.txt\").st_atime\n",
    "print(os.stat(\"testdir\\\\testfile.txt\").st_ctime)\n",
    "print(\"創建時間: ctime=\",time.ctime(thefile_ctime))\n",
    "print(\"修改時間: ctime=\",time.ctime(thefile_mtime))\n",
    "print(\"存取時間: ctime=\",time.ctime(thefile_atime))\n",
    "#os.stat_result(st_mode=33206, \n",
    "# st_ino=6473924464534434, \n",
    "# st_dev=579078238, \n",
    "# st_nlink=1, \n",
    "# st_uid=0, \n",
    "# st_gid=0, \n",
    "# st_size=12, \n",
    "# st_atime=1739166708, \n",
    "# st_mtime=1739166119, \n",
    "# st_ctime=1739166112)\n"
   ]
  },
  {
   "attachments": {
    "image.png": {
     "image/png": "[encoded data removed]"
    }
   },
   "cell_type": "markdown",
   "metadata": {},
   "source": [
    "![image.png](attachment:image.png)"
   ]
  },
  {
   "cell_type": "code",
   "execution_count": 230,
   "metadata": {},
   "outputs": [
    {
     "name": "stdout",
     "output_type": "stream",
     "text": [
      "c:\\justin\\python\\python_class\\testfile.txt\n"
     ]
    }
   ],
   "source": [
    "file_name='testfile.txt'\n",
    "os.chdir(app_curdir)\n",
    "print(os.path.abspath(file_name))"
   ]
  },
  {
   "cell_type": "code",
   "execution_count": 234,
   "metadata": {},
   "outputs": [
    {
     "data": {
      "text/plain": [
       "0"
      ]
     },
     "execution_count": 234,
     "metadata": {},
     "output_type": "execute_result"
    }
   ],
   "source": [
    "os.system(\"dir\")"
   ]
  },
  {
   "cell_type": "markdown",
   "metadata": {},
   "source": [
    "### shutil"
   ]
  },
  {
   "cell_type": "code",
   "execution_count": 235,
   "metadata": {},
   "outputs": [],
   "source": [
    "import shutil"
   ]
  },
  {
   "cell_type": "code",
   "execution_count": 236,
   "metadata": {},
   "outputs": [
    {
     "data": {
      "text/plain": [
       "'testdir\\\\testfile2.txt'"
      ]
     },
     "execution_count": 236,
     "metadata": {},
     "output_type": "execute_result"
    }
   ],
   "source": [
    "shutil.copy(\"testdir\\\\testfile.txt\",\"testdir\\\\testfile2.txt\")"
   ]
  },
  {
   "cell_type": "code",
   "execution_count": 247,
   "metadata": {},
   "outputs": [],
   "source": [
    "file1=\"testfile.txt\"\n",
    "file2=\"testfile3.txt\"\n",
    "path=os.getcwd()\n",
    "\n",
    "f1=open(path+\"\\\\testdir\\\\\"+file1,'r')\n",
    "f2=open(path+\"\\\\testdir\\\\\"+file2,'a')\n",
    "\n",
    "shutil.copyfileobj(f1,f2)\n",
    "f1.close()\n",
    "f2.close()\n"
   ]
  },
  {
   "cell_type": "markdown",
   "metadata": {},
   "source": [
    "### 高效迭代器 itertools"
   ]
  },
  {
   "cell_type": "code",
   "execution_count": 248,
   "metadata": {},
   "outputs": [],
   "source": [
    "import itertools\n"
   ]
  },
  {
   "cell_type": "code",
   "execution_count": 250,
   "metadata": {},
   "outputs": [
    {
     "name": "stdout",
     "output_type": "stream",
     "text": [
      "1 2 3 4 5 6 7 \n",
      "5 7 9 11 13 15 17 19 21 "
     ]
    }
   ],
   "source": [
    "a=itertools.count(1)\n",
    "b=itertools.count(5,2)\n",
    "\n",
    "for i in a:\n",
    "    print(i, end=' ')\n",
    "    if i>6:break\n",
    "print()\n",
    "for i in b:\n",
    "    print(i, end=' ')\n",
    "    if i>20:break"
   ]
  },
  {
   "cell_type": "code",
   "execution_count": 252,
   "metadata": {},
   "outputs": [
    {
     "name": "stdout",
     "output_type": "stream",
     "text": [
      "9\n"
     ]
    }
   ],
   "source": [
    "print(next(a))"
   ]
  },
  {
   "cell_type": "markdown",
   "metadata": {},
   "source": [
    "### 容器資料型態 collections"
   ]
  },
  {
   "cell_type": "code",
   "execution_count": 253,
   "metadata": {},
   "outputs": [
    {
     "name": "stdout",
     "output_type": "stream",
     "text": [
      "Counter({'l': 3, 'o': 2, 'h': 1, 'e': 1, ' ': 1, 'w': 1, 'r': 1, 'd': 1})\n"
     ]
    }
   ],
   "source": [
    "# Counter\n",
    "# Counter 可以創建一個 dict 計數器物件，用來計算可迭代物件中每個物件的數量，Counter 有下列幾種方法:\n",
    "# 方法\t   參數\t   說明｜\n",
    "# elements()\t  獨立每個元素成為可迭代物件。\n",
    "# new_child\tn\t  取出數量前 n 多的項目。\n",
    "# update\t\t      將原本的數量加上新的數量。\n",
    "# subtract\t\t  將原本的數量減去新的數量。\n",
    "# total\t\t      計算全部數量的總和 ( 3.10 才支援 )。\n",
    "\n",
    "from collections import Counter\n",
    "\n",
    "t1=\"hello world\"\n",
    "a=Counter(t1)\n",
    "print(a)"
   ]
  },
  {
   "cell_type": "code",
   "execution_count": 255,
   "metadata": {},
   "outputs": [
    {
     "name": "stdout",
     "output_type": "stream",
     "text": [
      "[('l', 3), ('o', 2), ('h', 1)]\n"
     ]
    }
   ],
   "source": [
    "c=a.most_common(3)\n",
    "print(c)"
   ]
  },
  {
   "cell_type": "code",
   "execution_count": 256,
   "metadata": {},
   "outputs": [
    {
     "name": "stdout",
     "output_type": "stream",
     "text": [
      "deque(['a', 'b', 'c', 'd', 'e', 'x', 'y'])\n",
      "deque(['y', 'x', 'a', 'b', 'c', 'd', 'e', 'x', 'y'])\n",
      "deque(['y', 'x', 'a', 'b', 'c', 'd', 'e', 'x', 'y'])\n",
      "2\n",
      "deque(['y', 'x', 'a', 'b', 'c', 'd', 'e', 'x', 'y', 'm', 'n'])\n",
      "deque(['n', 'm', 'y', 'x', 'a', 'b', 'c', 'd', 'e', 'x', 'y', 'm', 'n'])\n",
      "b\n",
      "deque(['n', 'k', 'm', 'y', 'x', 'a', 'b', 'c', 'd', 'e', 'x', 'y', 'm', 'n'])\n",
      "deque(['n', 'k', 'm', 'y', 'x', 'a', 'b', 'c', 'd', 'e', 'x', 'y', 'm'])\n",
      "deque(['k', 'm', 'y', 'x', 'a', 'b', 'c', 'd', 'e', 'x', 'y', 'm'])\n",
      "deque(['k', 'm', 'y', 'a', 'b', 'c', 'd', 'e', 'x', 'y', 'm'])\n",
      "deque(['m', 'y', 'x', 'e', 'd', 'c', 'b', 'a', 'y', 'm', 'k'])\n",
      "deque(['b', 'a', 'y', 'm', 'k', 'm', 'y', 'x', 'e', 'd', 'c'])\n",
      "deque([])\n"
     ]
    }
   ],
   "source": [
    "## deque \n",
    "# 若是要改進 list在數據量多時執行效率可能要改以 deque容器\n",
    "\n",
    "from collections import deque\n",
    "\n",
    "a = deque(['a','b','c','d','e'])   # 建立 deque 物件\n",
    "\n",
    "a.append('x')\n",
    "a.append('y')        # 在最右邊加入元素\n",
    "print(a)             # deque(['a', 'b', 'c', 'd', 'e', 'x', 'y'])\n",
    "\n",
    "a.appendleft('x')\n",
    "a.appendleft('y')    # 在最左邊加入元素\n",
    "print(a)             # deque(['y', 'x', 'a', 'b', 'c', 'd', 'e', 'x', 'y'])\n",
    "\n",
    "b = a.copy()         # 淺拷貝\n",
    "print(b)             # deque(['y', 'x', 'a', 'b', 'c', 'd', 'e', 'x', 'y'])\n",
    "\n",
    "print(a.count('x'))  # 2，計算 x 出現的次數\n",
    "\n",
    "a.extend(['m','n'])  # 在最右邊加入 ['m','n']\n",
    "print(a)             # deque(['y', 'x', 'a', 'b', 'c', 'd', 'e', 'x', 'y', 'm', 'n'])\n",
    "\n",
    "a.extendleft(['m','n'])  # 在最左邊加入 ['m','n']\n",
    "print(a)                 # deque(['n', 'm', 'y', 'x', 'a', 'b', 'c', 'd', 'e', 'x', 'y', 'm', 'n'])\n",
    "\n",
    "print(a[5])      # b，取出第六個元素 ( 第一個為 0 )\n",
    "\n",
    "a.insert(1,'k')  # 在第二個位置插入 k\n",
    "print(a)         # deque(['n', 'k', 'm', 'y', 'x', 'a', 'b', 'c', 'd', 'e', 'x', 'y', 'm', 'n'])\n",
    "\n",
    "a.pop()          # 移除最右邊的元素\n",
    "print(a)         # deque(['n', 'k', 'm', 'y', 'x', 'a', 'b', 'c', 'd', 'e', 'x', 'y', 'm'])\n",
    "\n",
    "a.popleft()      # 移除最左邊的元素\n",
    "print(a)         # deque(['k', 'm', 'y', 'x', 'a', 'b', 'c', 'd', 'e', 'x', 'y', 'm'])\n",
    "\n",
    "a.remove('x')    # 移除第一個 x\n",
    "print(a)         # deque(['k', 'm', 'y', 'a', 'b', 'c', 'd', 'e', 'x', 'y', 'm'])\n",
    "\n",
    "a.reverse()      # 反轉\n",
    "print(a)         # deque(['m', 'y', 'x', 'e', 'd', 'c', 'b', 'a', 'y', 'm', 'k'])\n",
    "\n",
    "a.rotate(5)      # 往右邊移動五格\n",
    "print(a)         # deque(['b', 'a', 'y', 'm', 'k', 'm', 'y', 'x', 'e', 'd', 'c'])\n",
    "\n",
    "a.clear()        # 清空項目\n",
    "print(a)         # deque([])"
   ]
  },
  {
   "cell_type": "code",
   "execution_count": 264,
   "metadata": {},
   "outputs": [
    {
     "name": "stdout",
     "output_type": "stream",
     "text": [
      "OrderedDict([('x', 2), ('a', 3), ('z', 1)])\n"
     ]
    }
   ],
   "source": [
    "# OrderedDict\n",
    "from collections import OrderedDict\n",
    "a=OrderedDict()\n",
    "a['x']=2 ## order1\n",
    "a['a']=3 ## order2\n",
    "a['z']=1 ## order3\n",
    "print(a)"
   ]
  },
  {
   "cell_type": "markdown",
   "metadata": {},
   "source": [
    "### CSV 檔案操作\n"
   ]
  },
  {
   "cell_type": "code",
   "execution_count": 265,
   "metadata": {},
   "outputs": [],
   "source": [
    "import csv\n",
    "from csv import reader\n"
   ]
  },
  {
   "cell_type": "code",
   "execution_count": 268,
   "metadata": {},
   "outputs": [],
   "source": [
    "buf=reader(open(\"testdir\\\\csvtest.csv\",\"r\"))"
   ]
  },
  {
   "cell_type": "code",
   "execution_count": 271,
   "metadata": {},
   "outputs": [
    {
     "name": "stdout",
     "output_type": "stream",
     "text": [
      "[['name', 'id', 'color', 'price'], ['apple', '1', 'red', '100'], ['orange', '2', 'orange', '50'], ['grap', '3', 'purple', '80'], ['watermelon', '4', 'green', '60']]\n"
     ]
    }
   ],
   "source": [
    "print(list(buf))"
   ]
  },
  {
   "cell_type": "markdown",
   "metadata": {},
   "source": [
    "### json檔案操作"
   ]
  },
  {
   "cell_type": "code",
   "execution_count": 272,
   "metadata": {},
   "outputs": [],
   "source": [
    "import json"
   ]
  },
  {
   "cell_type": "code",
   "execution_count": 275,
   "metadata": {},
   "outputs": [
    {
     "name": "stdout",
     "output_type": "stream",
     "text": [
      "{'hello': ['111', '222', '333'], 'world': {'object': 0, 'str': 1, 'int': 2, 'float': 3, 'double': 4}} <class 'dict'>\n"
     ]
    }
   ],
   "source": [
    "jsonFile=open(\"testdir\\\\\"+\"jsontest.json\",'r')\n",
    "a=json.load(jsonFile)\n",
    "print(a,type(a))\n",
    "jsonFile.close()\n",
    "\n",
    "\n",
    "\n"
   ]
  },
  {
   "cell_type": "code",
   "execution_count": 277,
   "metadata": {},
   "outputs": [],
   "source": [
    "jsonFile=open(\"testdir\\\\\"+\"jsontest2.json\",'w')\n",
    "data={}\n",
    "data['name']=['justin','liu']\n",
    "data['age']=[55,66]\n",
    "json.dump(data,jsonFile)\n",
    "jsonFile.close()"
   ]
  },
  {
   "cell_type": "code",
   "execution_count": null,
   "metadata": {},
   "outputs": [],
   "source": []
  },
  {
   "cell_type": "code",
   "execution_count": null,
   "metadata": {},
   "outputs": [],
   "source": []
  }
 ],
 "metadata": {
  "kernelspec": {
   "display_name": "myflutter",
   "language": "python",
   "name": "python3"
  },
  "language_info": {
   "codemirror_mode": {
    "name": "ipython",
    "version": 3
   },
   "file_extension": ".py",
   "mimetype": "text/x-python",
   "name": "python",
   "nbconvert_exporter": "python",
   "pygments_lexer": "ipython3",
   "version": "3.10.16"
  }
 },
 "nbformat": 4,
 "nbformat_minor": 2
}
