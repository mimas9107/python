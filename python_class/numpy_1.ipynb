{
 "cells": [
  {
   "cell_type": "markdown",
   "id": "aa15e527-1346-4409-b636-d19f998e999d",
   "metadata": {},
   "source": [
    "## numpy"
   ]
  },
  {
   "cell_type": "code",
   "execution_count": 1,
   "id": "4b69503f-8250-492e-b79a-9eb96de996db",
   "metadata": {},
   "outputs": [],
   "source": [
    "import numpy as np\n"
   ]
  },
  {
   "cell_type": "code",
   "execution_count": 22,
   "id": "20903cf3-70d7-43d6-844b-ea6e98118265",
   "metadata": {},
   "outputs": [],
   "source": [
    "L=list(range(1,6))\n",
    "c=L\n",
    "np_L=np.array(L)\n",
    "np_c=np.array(c)"
   ]
  },
  {
   "cell_type": "code",
   "execution_count": 18,
   "id": "15519d29-8cb8-4405-b1b1-95e8da7dba83",
   "metadata": {},
   "outputs": [
    {
     "name": "stdout",
     "output_type": "stream",
     "text": [
      "orig L= [1, 2, 3, 4, 5]\n",
      "orig c=L [1, 2, 3, 4, 5]\n"
     ]
    }
   ],
   "source": [
    "print(\"orig L=\",L)\n",
    "print(\"orig c=L\",c)\n"
   ]
  },
  {
   "cell_type": "code",
   "execution_count": 19,
   "id": "92a375b6-75d7-491b-82cc-740b5a30122a",
   "metadata": {},
   "outputs": [
    {
     "name": "stdout",
     "output_type": "stream",
     "text": [
      "updated c= [1, 2, -1, 4, 5]\n",
      "L= [1, 2, -1, 4, 5]\n"
     ]
    }
   ],
   "source": [
    "## 改了 c[2]=-1\n",
    "c[2]=-1\n",
    "print(\"updated c=\",c)\n",
    "print(\"L=\",L)"
   ]
  },
  {
   "cell_type": "code",
   "execution_count": 23,
   "id": "b661c4a8-99b1-4187-a12e-728d0c6272de",
   "metadata": {},
   "outputs": [
    {
     "name": "stdout",
     "output_type": "stream",
     "text": [
      "np.array(L)= [1 2 3 4 5]\n",
      "np.array(c)= [1 2 3 4 5]\n"
     ]
    }
   ],
   "source": [
    "print(\"np.array(L)=\", np_L)\n",
    "print(\"np.array(c)=\", np_c)"
   ]
  },
  {
   "cell_type": "code",
   "execution_count": 24,
   "id": "4b902e18-416b-4dc3-899f-3832ac79f9df",
   "metadata": {},
   "outputs": [
    {
     "name": "stdout",
     "output_type": "stream",
     "text": [
      "np.array(L)= [1 2 3 4 5]\n",
      "np.array(c)= [ 1  2 -1  4  5]\n"
     ]
    }
   ],
   "source": [
    "np_c[2]=-1\n",
    "print(\"np.array(L)=\", np_L)\n",
    "print(\"np.array(c)=\", np_c)"
   ]
  },
  {
   "cell_type": "code",
   "execution_count": 25,
   "id": "eaeba1e3-84e8-4def-8c0c-02a2015516e9",
   "metadata": {},
   "outputs": [
    {
     "data": {
      "text/plain": [
       "numpy.ndarray"
      ]
     },
     "execution_count": 25,
     "metadata": {},
     "output_type": "execute_result"
    }
   ],
   "source": [
    "type(np_L)"
   ]
  },
  {
   "cell_type": "code",
   "execution_count": 38,
   "id": "efc10cb1-25d0-4f3e-ab3e-37566a87ad80",
   "metadata": {},
   "outputs": [
    {
     "name": "stdout",
     "output_type": "stream",
     "text": [
      "[ 1  2  3  4  5  6  7  8  9 10 11 12]\n",
      "(12,)\n",
      "[[ 1  2  3]\n",
      " [ 4  5  6]\n",
      " [ 7  8  9]\n",
      " [10 11 12]] (4, 3)\n"
     ]
    }
   ],
   "source": [
    "arr=np.array(range(1,13))\n",
    "print(arr)\n",
    "print(arr.shape)\n",
    "newarr=arr.reshape(4,3)\n",
    "print(newarr, newarr.shape)"
   ]
  },
  {
   "cell_type": "raw",
   "id": "6d75917c-551f-4e7b-9cca-44b3fb261da7",
   "metadata": {},
   "source": [
    "種類\t代替字串\t說明\n",
    "bool\t?\tboolean 布林值。\n",
    "int\ti\t(signed) integer 帶有符號的整數 ( 正負整數 )，等同 int64。\n",
    "int8\ti1\t整數 -128～127。\n",
    "int16\ti2\t整數 -32768～32767。\n",
    "int32\ti4\t整數 -2147483648～2147483647。\n",
    "int64\ti8\t整數 -9223372036854775808～9223372036854775807。\n",
    "uint\tu\tunsigned integer 無有符號的整數 ( 正整數 )，等同 uint64。\n",
    "uint8\tu1\t正整數 0～255。\n",
    "uint16\tu2\t正整數 0～65535。\n",
    "uint32\tu4\t正整數 0～4294967295。\n",
    "uint64\tu8\t正整數 0～18446744073709551615。\n",
    "float\tf\tfloating-point 浮點數，等同 float64。\n",
    "float16\tf2\t半精度浮點數。\n",
    "float32\tf4\t單精度浮點數。\n",
    "float64\tf8\t雙精度浮點數。\n",
    "complex\tc\tcomplex floating-point 浮點類型複數，等同 complex128。\n",
    "complex64\tc8\t雙 32 位複數。\n",
    "complex128\tc16\t雙 64 位複數。\n",
    "object\tO\tobject 物件。\n",
    "byte\tb\t(signed) byte 帶有符號的位元。\n",
    "ubyte\tB\tunsigned byte 無符號的位元。\n",
    "unicode\tU\tUnicode。\n",
    "S\t(byte-)string 字串。\n",
    "m\ttimedelta 時間間隔。\n",
    "M\tdatetime 日期時間。\n",
    "V\tvoid 原始數據。"
   ]
  },
  {
   "cell_type": "code",
   "execution_count": 42,
   "id": "633cfaa7-fda9-44ef-8b21-b5f455d48bc8",
   "metadata": {},
   "outputs": [
    {
     "name": "stdout",
     "output_type": "stream",
     "text": [
      "[ 1.1  2.2  3.3  0.  -1. ] 資料型態= float64\n",
      "[ True  True  True False  True] 資料型態= bool\n",
      "['1.1' '2.2' '3.3' '0.0' '-1.0'] 資料型態= <U32\n",
      "[b'1.1' b'2.2' b'3.3' b'0.0' b'-1.0'] 資料型態= |S32\n",
      "[  1   2   3   0 255] 資料型態= uint8\n",
      "[ 1  2  3  0 -1] 資料型態= int32\n"
     ]
    }
   ],
   "source": [
    "import numpy as np\n",
    "a = np.array([1.1, 2.2, 3.3, 0, -1])\n",
    "b = np.array(a, dtype='?')\n",
    "c = np.array(a, dtype='U')\n",
    "d = np.array(a, dtype='S')\n",
    "e = np.array(a, dtype='B')\n",
    "f = np.array(a, dtype='i')\n",
    "print(a, \"資料型態=\", a.dtype)   # [ 1.1  2.2  3.3  0.  -1. ]\n",
    "print(b, \"資料型態=\", b.dtype)   # [ True  True  True False  True]\n",
    "print(c, \"資料型態=\", c.dtype)   # ['1.1' '2.2' '3.3' '0.0' '-1.0']\n",
    "print(d, \"資料型態=\", d.dtype)   # [b'1.1' b'2.2' b'3.3' b'0.0' b'-1.0']\n",
    "print(e, \"資料型態=\", e.dtype)   # [  1   2   3   0 255]\n",
    "print(f, \"資料型態=\", f.dtype)   # [ 1  2  3  0 -1]"
   ]
  },
  {
   "cell_type": "code",
   "execution_count": 46,
   "id": "1b6a68a6-19a9-465a-be79-482124d5aab5",
   "metadata": {},
   "outputs": [
    {
     "name": "stdout",
     "output_type": "stream",
     "text": [
      "[1 2 4 8] 資料型態= int32\n",
      "b=a.astype('float32')\n",
      "[1. 2. 4. 8.] 資料型態= float32\n"
     ]
    }
   ],
   "source": [
    "## astype 轉型態\n",
    "a=np.array([1,2,4,8], dtype=\"int32\")\n",
    "b=a.astype(\"float32\")\n",
    "print(a, \"資料型態=\",a.dtype)\n",
    "print(\"b=a.astype('float32')\")\n",
    "print(b, \"資料型態=\",b.dtype)"
   ]
  },
  {
   "cell_type": "code",
   "execution_count": 58,
   "id": "94933519-4ca5-4a08-b14f-948a1fe2787a",
   "metadata": {},
   "outputs": [
    {
     "name": "stdout",
     "output_type": "stream",
     "text": [
      "[[ 1  2  4]\n",
      " [ 4  8 16]] shape= (2, 3)\n",
      "[[ 1  2]\n",
      " [ 4  4]\n",
      " [ 8 16]] shape= (3, 2)\n"
     ]
    }
   ],
   "source": [
    "L_2D=[[1,2,4],\n",
    "      [4,8,16]]\n",
    "arr_2D=np.array(L_2D)\n",
    "\n",
    "print(arr_2D, \"shape=\", arr_2D.shape)\n",
    "arr_2D=arr_2D.reshape(3,2)\n",
    "print(arr_2D, \"shape=\", arr_2D.shape)"
   ]
  },
  {
   "cell_type": "code",
   "execution_count": 63,
   "id": "e2a722bb-b07c-422b-8a46-4c4bae3a7876",
   "metadata": {},
   "outputs": [
    {
     "name": "stdout",
     "output_type": "stream",
     "text": [
      "[0 1 2 3 4 5 6 7 8 9]\n",
      "[1.  1.1 1.2 1.3 1.4 1.5 1.6 1.7 1.8 1.9 2.  2.1 2.2 2.3 2.4 2.5 2.6 2.7\n",
      " 2.8 2.9 3.  3.1 3.2 3.3 3.4 3.5 3.6 3.7 3.8 3.9 4.  4.1 4.2 4.3 4.4 4.5\n",
      " 4.6 4.7 4.8 4.9 5.  5.1 5.2 5.3 5.4 5.5 5.6 5.7 5.8 5.9 6.  6.1 6.2 6.3\n",
      " 6.4 6.5 6.6 6.7 6.8 6.9 7.  7.1 7.2 7.3 7.4 7.5 7.6 7.7 7.8 7.9 8.  8.1\n",
      " 8.2 8.3 8.4 8.5 8.6 8.7 8.8 8.9 9.  9.1 9.2 9.3 9.4 9.5 9.6 9.7 9.8 9.9]\n",
      "[1. 2. 3. 4. 5. 6. 7. 8. 9.]\n"
     ]
    }
   ],
   "source": [
    "## 概念如同 python內建 range()產生固定間距的陣列,\n",
    "a=np.arange(10)\n",
    "print(a)\n",
    "\n",
    "b=np.arange(1,10,0.1)\n",
    "print(b)\n",
    "\n",
    "c=np.arange(1,10,dtype='float')\n",
    "print(c)"
   ]
  },
  {
   "cell_type": "code",
   "execution_count": 66,
   "id": "c463852d-df75-4092-8a99-c31b462f3e17",
   "metadata": {},
   "outputs": [
    {
     "name": "stdout",
     "output_type": "stream",
     "text": [
      "[ 5.          5.55555556  6.11111111  6.66666667  7.22222222  7.77777778\n",
      "  8.33333333  8.88888889  9.44444444 10.        ]\n",
      "0.5555555555555556\n",
      "5.555555555555555\n",
      "6.111111111111111\n",
      "6.666666666666666\n",
      "7.222222222222221\n",
      "7.777777777777777\n",
      "8.333333333333332\n",
      "8.888888888888888\n",
      "9.444444444444443\n",
      "9.999999999999998\n",
      "10.555555555555554\n"
     ]
    }
   ],
   "source": [
    "lspc=np.linspace(5,10,10)\n",
    "print(lspc)\n",
    "\n",
    "interval=(10-5)/9\n",
    "print(interval)\n",
    "tmp=5\n",
    "for i in range(10):\n",
    "    tmp+=interval\n",
    "    print(tmp)"
   ]
  },
  {
   "cell_type": "code",
   "execution_count": 67,
   "id": "c8525369-85c3-40f4-a464-74360486c7f5",
   "metadata": {},
   "outputs": [
    {
     "name": "stdout",
     "output_type": "stream",
     "text": [
      "[[[ 0  1  2  3]\n",
      "  [ 4  5  6  7]\n",
      "  [ 8  9 10 11]]\n",
      "\n",
      " [[12 13 14 15]\n",
      "  [16 17 18 19]\n",
      "  [20 21 22 23]]]\n"
     ]
    }
   ],
   "source": [
    "arr_3d=np.arange(24).reshape(2,3,4)\n",
    "print(arr_3d)"
   ]
  },
  {
   "cell_type": "code",
   "execution_count": 90,
   "id": "620304f8-8c24-4cd1-b8d2-8964cb9f8504",
   "metadata": {},
   "outputs": [
    {
     "name": "stdout",
     "output_type": "stream",
     "text": [
      "[[1, 2, 3], [4, 5, 6]]\n",
      "[[7, 8, 9], [10, 11, 12]]\n",
      "====\n",
      "[4, 5, 6]\n",
      "[10, 11, 12]\n"
     ]
    }
   ],
   "source": [
    "## 典型 list的3維, 來體會一下怎麼取值\n",
    "\n",
    "L=[ [[1,2,3],\n",
    "     [4,5,6]] ,\n",
    "    [[7,8,9],\n",
    "     [10,11,12]]\n",
    "  ]\n",
    "\n",
    "print(L[0]) ## 第一個維度index=0 取出一個 2D (2x3 array)\n",
    "print(L[1]) ## 第一個維度index=1 取出一個 2D (2x3 array)\n",
    "\n",
    "print(\"====\")\n",
    "print(L[0][1]) ## 取出的 2D array, 取 index=1的 1D array (向量,list)\n",
    "print(L[1][1])"
   ]
  },
  {
   "cell_type": "code",
   "execution_count": 91,
   "id": "07d7c405-3d62-4b19-9c8c-270be36f4d1e",
   "metadata": {},
   "outputs": [
    {
     "name": "stdout",
     "output_type": "stream",
     "text": [
      "[ 6  7  8  9 10]\n",
      "[6 7 8]\n",
      "[[ 2  3]\n",
      " [ 7  8]\n",
      " [14 13]]\n"
     ]
    }
   ],
   "source": [
    "## 用 numpy 的 array來操作的話: \n",
    "a=np.array([[1,2,3,4,5], [6,7,8,9,10], [15,14,13,12,11]])\n",
    "print(a[1])\n",
    "\n",
    "## 利用 [x:y]來slice 切割array, 好用!\n",
    "print(a[1, 0:3])\n",
    "print(a[:, 1:3])"
   ]
  },
  {
   "cell_type": "markdown",
   "id": "6e426e53-8ef2-4309-b6f7-df8dfdbfa3df",
   "metadata": {},
   "source": [
    "## 布林值取值! 也很重要的篩選技巧\n",
    "\n"
   ]
  },
  {
   "cell_type": "code",
   "execution_count": 92,
   "id": "36a12e10-2130-480a-9daf-a7f6213c6270",
   "metadata": {},
   "outputs": [
    {
     "name": "stdout",
     "output_type": "stream",
     "text": [
      "[ 1  2  3  4  5  6  7  8  9 10 11 12 13 14 15]\n"
     ]
    }
   ],
   "source": [
    "b=np.array(range(1,16))\n",
    "print(b)"
   ]
  },
  {
   "cell_type": "code",
   "execution_count": 93,
   "id": "cac9214f-e84f-4003-945e-df5b7a586a28",
   "metadata": {},
   "outputs": [
    {
     "name": "stdout",
     "output_type": "stream",
     "text": [
      "[ 6  7  8  9 10 11 12 13 14 15]\n"
     ]
    }
   ],
   "source": [
    "print(b[b>5])"
   ]
  },
  {
   "cell_type": "code",
   "execution_count": 102,
   "id": "5877af21-2e04-4dfc-9389-85acc935677c",
   "metadata": {},
   "outputs": [
    {
     "name": "stdout",
     "output_type": "stream",
     "text": [
      "[[0, 1, 2], [1, 2, 3], [2, 3, 4], [3, 4, 5]]\n",
      "[[0 1 2]\n",
      " [1 2 3]\n",
      " [2 3 4]\n",
      " [3 4 5]]\n"
     ]
    }
   ],
   "source": [
    "tmp=[[e+i for e in range(3) ] for i in range(4)]\n",
    "print(tmp)\n",
    "c=np.array(tmp)\n",
    "print(c)"
   ]
  },
  {
   "cell_type": "code",
   "execution_count": 123,
   "id": "bbfac7b3-f6a7-4896-98c0-c015b002d543",
   "metadata": {},
   "outputs": [
    {
     "name": "stdout",
     "output_type": "stream",
     "text": [
      "[[[ 1  3]\n",
      "  [ 4  6]]\n",
      "\n",
      " [[ 7  9]\n",
      "  [10 12]]]\n"
     ]
    }
   ],
   "source": [
    "b = np.array([[[1,2,3],[4,5,6]],[[7,8,9],[10,11,12]]])\n",
    "print(b[...,::2])"
   ]
  },
  {
   "cell_type": "code",
   "execution_count": 126,
   "id": "9d305070-a189-478b-8edf-a04afcb17a21",
   "metadata": {},
   "outputs": [
    {
     "name": "stdout",
     "output_type": "stream",
     "text": [
      "1\n",
      "2\n",
      "3\n",
      "7\n",
      "8\n",
      "9\n"
     ]
    }
   ],
   "source": [
    "for i in np.nditer(b[:, 0:1]):\n",
    "    print(i)"
   ]
  },
  {
   "cell_type": "markdown",
   "id": "3cbf88a0-8ed5-4563-b110-f6893dd4eea3",
   "metadata": {},
   "source": [
    "## assign value"
   ]
  },
  {
   "cell_type": "code",
   "execution_count": 131,
   "id": "8f1ee88d-59b0-4fb7-adf3-1b561b520722",
   "metadata": {},
   "outputs": [
    {
     "name": "stdout",
     "output_type": "stream",
     "text": [
      "[[1. 0. 0. 0. 0.]\n",
      " [0. 2. 0. 0. 0.]\n",
      " [0. 0. 3. 0. 0.]\n",
      " [0. 0. 0. 4. 0.]\n",
      " [0. 0. 0. 0. 5.]]\n"
     ]
    }
   ],
   "source": [
    "import numpy as np\n",
    "a = np.zeros((5,5))\n",
    "a[0][0] = 1\n",
    "a[1][1] = 2\n",
    "a[2][2] = 3\n",
    "a[3][3] = 4\n",
    "a[4][4] = 5\n",
    "print(a)"
   ]
  },
  {
   "cell_type": "code",
   "execution_count": 132,
   "id": "d65403c8-5c5a-4ce0-9284-394955d88456",
   "metadata": {},
   "outputs": [
    {
     "name": "stdout",
     "output_type": "stream",
     "text": [
      "[[  1.   0. 100. 100.   0.]\n",
      " [  0.   2.   0.   0.   0.]\n",
      " [  0.   0.   3.   0.   0.]\n",
      " [  0.   0.   0.   4.   0.]\n",
      " [  0.   0.   0.   0.   5.]]\n"
     ]
    }
   ],
   "source": [
    "a[0,[2,3]]=100\n",
    "print(a)"
   ]
  },
  {
   "cell_type": "markdown",
   "id": "89d4b575-61b6-4dad-b838-bc96405751ec",
   "metadata": {},
   "source": [
    "## 修改 array形狀\n",
    "reshape(),\n",
    "flaten(),\n",
    "transpose(), .T"
   ]
  },
  {
   "cell_type": "code",
   "execution_count": 146,
   "id": "388ba6e8-1545-44e7-a371-fd8bd86570ad",
   "metadata": {},
   "outputs": [
    {
     "name": "stdout",
     "output_type": "stream",
     "text": [
      "[[1 2]\n",
      " [3 4]\n",
      " [5 6]\n",
      " [7 8]] , shape= (4, 2)\n",
      "[[1 2 3 4]\n",
      " [5 6 7 8]]\n"
     ]
    }
   ],
   "source": [
    "a=np.array([[1,2],[3,4],[5,6],[7,8]])\n",
    "print(a, \", shape=\",a.shape)\n",
    "\n",
    "a=a.reshape((2,4))\n",
    "print(a)\n"
   ]
  },
  {
   "cell_type": "markdown",
   "id": "858025cb-e092-478e-b168-41f9244a2554",
   "metadata": {},
   "source": [
    "### flatten()能將多維度的陣列，扁平化成一維陣列，可以設定 order 參數調整扁平的順序，預設為 C，表示先水平再垂直，設定為 F 表示先垂直再水平。"
   ]
  },
  {
   "cell_type": "code",
   "execution_count": 155,
   "id": "963eec17-3f2f-41ef-9580-9169c5bed059",
   "metadata": {},
   "outputs": [
    {
     "name": "stdout",
     "output_type": "stream",
     "text": [
      "a= [[1 2 3 4]\n",
      " [5 6 7 8]]\n",
      "a.flatten= [1 2 3 4 5 6 7 8] by C\n",
      "a.flatten= [1 5 2 6 3 7 4 8] by F\n"
     ]
    }
   ],
   "source": [
    "print(\"a=\",a)\n",
    "c=a.flatten('C') ##C，表示先水平再垂直\n",
    "print(\"a.flatten=\",c,\"by C\")\n",
    "d=a.flatten('F') ##F 表示先垂直再水平\n",
    "print(\"a.flatten=\",d, \"by F\")"
   ]
  },
  {
   "cell_type": "code",
   "execution_count": null,
   "id": "3795da4e-2195-4adf-b1af-f524d2e829b1",
   "metadata": {},
   "outputs": [],
   "source": []
  },
  {
   "attachments": {},
   "cell_type": "markdown",
   "id": "bd656b2c-78a5-472f-9c8b-916d23c46c7b",
   "metadata": {},
   "source": [
    "## 軸向觀念\n",
    "axis 0 <br/>\n",
    "axis 1 <br/>\n",
    "axis 2 <br/>\n",
    "[1,3,5] => (3,) => axis0 => [1,3,5]\n",
    "\n",
    "[[2,4,6], [8,10,12]] => (2,3) => axis0 => [2,8],[4,10],[6,12]"
   ]
  },
  {
   "cell_type": "markdown",
   "id": "601cc83f-7330-478c-8aa8-1bf85bfcb4d1",
   "metadata": {},
   "source": [
    "### 修改陣列項目\n"
   ]
  },
  {
   "cell_type": "code",
   "execution_count": 160,
   "id": "099ba636-a316-4e74-aa9c-7c0aa1a1f158",
   "metadata": {},
   "outputs": [
    {
     "name": "stdout",
     "output_type": "stream",
     "text": [
      "[[1 2 4]\n",
      " [2 5 3]]\n",
      "[[1 2]\n",
      " [4 2]\n",
      " [5 3]]\n",
      "[[1 2 4]\n",
      " [2 5 3]]\n"
     ]
    }
   ],
   "source": [
    "a=np.array([[1,2,4],[2,5,3]])\n",
    "b=np.resize(a, (3,2))\n",
    "c=a.reshape((2,3))\n",
    "print(a)\n",
    "print(b)\n",
    "print(c)"
   ]
  },
  {
   "cell_type": "code",
   "execution_count": 163,
   "id": "ae9f5e1f-2094-4417-b088-3c2056b0b2b9",
   "metadata": {},
   "outputs": [
    {
     "name": "stdout",
     "output_type": "stream",
     "text": [
      "[[1 2 4 2]\n",
      " [5 3 1 2]\n",
      " [4 2 5 3]]\n"
     ]
    }
   ],
   "source": [
    "## np.resize 可以維度變大... 但是填充的數字... \n",
    "e=np.resize(a, (3,4))\n",
    "print(e)"
   ]
  },
  {
   "cell_type": "code",
   "execution_count": 164,
   "id": "25813ab5-c86b-4ef3-927d-a7abadddd848",
   "metadata": {},
   "outputs": [
    {
     "name": "stdout",
     "output_type": "stream",
     "text": [
      "[1 1 1 2 2 2 1]\n",
      "[1 1 1 2 2 2 3 3 3]\n"
     ]
    }
   ],
   "source": [
    "## 用 np.append添加元素:\n",
    "a = np.array([[1,1,1],[2,2,2]])\n",
    "b = np.append(a, 1)\n",
    "c = np.append(a, [3,3,3])\n",
    "print(b)   # [1 1 1 2 2 2 1]\n",
    "print(c)   # [1 1 1 2 2 2 3 3 3]"
   ]
  },
  {
   "cell_type": "code",
   "execution_count": 168,
   "id": "2d12e8d5-6ce5-4887-b5b5-f969abaa8d3f",
   "metadata": {},
   "outputs": [
    {
     "name": "stdout",
     "output_type": "stream",
     "text": [
      "沿著 axis1 append=\n",
      "[[1 1 1 3 3 3]\n",
      " [2 2 2 4 4 4]]\n",
      "沿著 axis0 append=\n",
      "[[1 1 1]\n",
      " [2 2 2]\n",
      " [3 3 3]\n",
      " [4 4 4]]\n"
     ]
    }
   ],
   "source": [
    "a = np.array([[1,1,1],[2,2,2]])\n",
    "b = np.append(a, [[3,3,3],[4,4,4]],1)\n",
    "print(\"沿著 axis1 append=\")\n",
    "print(b)\n",
    "# ''' 這邊用一個逗號 , 顯示區隔 append的作用:\n",
    "# [[1 1 1,3 3 3]\n",
    "#  [2 2 2,4 4 4]]\n",
    "# '''\n",
    "c = np.append(a, [[3,3,3],[4,4,4]],0)\n",
    "print(\"沿著 axis0 append=\")\n",
    "print(c)\n",
    "# '''\n",
    "# [[1 1 1]\n",
    "#  [2 2 2]\n",
    "#  [3 3 3]\n",
    "#  [4 4 4]]\n",
    "# '''"
   ]
  },
  {
   "cell_type": "code",
   "execution_count": 170,
   "id": "044e8a7a-ea8a-4085-a969-ac6cebcb0cc5",
   "metadata": {},
   "outputs": [
    {
     "name": "stdout",
     "output_type": "stream",
     "text": [
      "[ 0  0  0  0  0 -2 -1  0  1  2  0  0  0  0  0]\n",
      "[ 0  0 -2 -1  0  1  2  0  0  0]\n"
     ]
    }
   ],
   "source": [
    "## padding填充\n",
    "a=np.array([-2,-1,0,1,2])\n",
    "b=np.pad(a,5)\n",
    "print(b)\n",
    "\n",
    "c=np.pad(a,(2,3)) ## 左邊填充2個右邊3個\n",
    "print(c)"
   ]
  },
  {
   "cell_type": "code",
   "execution_count": 172,
   "id": "06e6c31f-7dfd-4605-b55f-d8f4a22b1f90",
   "metadata": {},
   "outputs": [
    {
     "name": "stdout",
     "output_type": "stream",
     "text": [
      "[1 2 3 4 5 6]\n",
      "[array([1, 2]), array([3, 4]), array([5, 6])]\n",
      "[array([1, 2]), array([3, 4]), array([5, 6])]\n"
     ]
    }
   ],
   "source": [
    "## 切割\n",
    "a=np.array([1,2,3,4,5,6])\n",
    "b=np.array_split(a,3)\n",
    "c=np.split(a,3)\n",
    "print(a)\n",
    "print(b)\n",
    "print(c)"
   ]
  },
  {
   "cell_type": "code",
   "execution_count": 187,
   "id": "25b630a0-e305-4f98-9e04-980c5b1ab0da",
   "metadata": {},
   "outputs": [
    {
     "name": "stdout",
     "output_type": "stream",
     "text": [
      "[[1 1]\n",
      " [2 2]\n",
      " [3 3]\n",
      " [4 4]\n",
      " [5 5]\n",
      " [6 6]]\n",
      "[[1 1 4 4]\n",
      " [2 2 5 5]\n",
      " [3 3 6 6]]\n"
     ]
    }
   ],
   "source": [
    "## 連接 concatenate\n",
    "a = np.array([[1,1],[2,2],[3,3]])      # 3x2 陣列\n",
    "b = np.array([[4,4],[5,5],[6,6]])      # 3x2 陣列\n",
    "# b = np.array([[4,4],[5,5],[6,6,6]])  # 如果 b 的形狀和 a 不同，會發生錯誤\n",
    "c = np.concatenate((a, b), axis=0)     # axis 設定為 0\n",
    "print(c)                               # 連接變成 6x2 陣列\n",
    "# '''\n",
    "# [[1 1]\n",
    "#  [2 2]\n",
    "#  [3 3]\n",
    "#  [4 4]\n",
    "#  [5 5]\n",
    "#  [6 6]]\n",
    "# '''\n",
    "\n",
    "d = np.concatenate((a, b), axis=1)     # axis 設定為 1\n",
    "print(d)                               # 連接變成 3x4 陣列\n",
    "# '''\n",
    "# [[1 1 4 4]\n",
    "#  [2 2 5 5]\n",
    "#  [3 3 6 6]]\n",
    "# '''"
   ]
  },
  {
   "cell_type": "code",
   "execution_count": 193,
   "id": "6e4e6ef0-5953-43e5-a67e-947279094084",
   "metadata": {},
   "outputs": [
    {
     "name": "stdout",
     "output_type": "stream",
     "text": [
      "[[1 1 2]\n",
      " [2 3 3]]\n",
      "[[4 4]\n",
      " [5 5]\n",
      " [6 6]]\n",
      "[[1 1 2 4 4 5]\n",
      " [2 3 3 5 6 6]]\n"
     ]
    }
   ],
   "source": [
    "a=a.reshape(2,3)\n",
    "print(a)\n",
    "print(b)\n",
    "c=np.concatenate((a,b.reshape(2,3)),axis=1)\n",
    "print(c)\n"
   ]
  },
  {
   "cell_type": "code",
   "execution_count": 194,
   "id": "339f33ef-b1ca-4f97-b61c-0e9c0fd2bc3b",
   "metadata": {},
   "outputs": [
    {
     "name": "stdout",
     "output_type": "stream",
     "text": [
      "[10 12 14 16 18 20 22 24 26 28]\n"
     ]
    }
   ],
   "source": [
    "test1=np.arange(10,30,2)\n",
    "print(test1)"
   ]
  },
  {
   "cell_type": "code",
   "execution_count": 204,
   "id": "fed2fbbf-37a4-4af5-9d61-d5e51ceb6f70",
   "metadata": {},
   "outputs": [
    {
     "name": "stdout",
     "output_type": "stream",
     "text": [
      "orig= [ 0  1  2  3  4  5  6  7  8  9 10 11]\n",
      "\n",
      "dim:4x3=\n",
      " [[ 0  1  2]\n",
      " [ 3  4  5]\n",
      " [ 6  7  8]\n",
      " [ 9 10 11]]\n",
      "\n",
      "dim:2x3x5=\n",
      " [[[ 0  1  2  3  4]\n",
      "  [ 5  6  7  8  9]\n",
      "  [10 11  0  1  2]]\n",
      "\n",
      " [[ 3  4  5  6  7]\n",
      "  [ 8  9 10 11  0]\n",
      "  [ 1  2  3  4  5]]]\n"
     ]
    }
   ],
   "source": [
    "test2=np.arange(12)\n",
    "print(\"orig=\",test2)\n",
    "print()\n",
    "a=test2.reshape(4,3)\n",
    "print(\"dim:4x3=\\n\",a)\n",
    "print()\n",
    "b=np.resize(test2,(2,3,5))\n",
    "print(\"dim:2x3x5=\\n\",b)"
   ]
  },
  {
   "cell_type": "code",
   "execution_count": 210,
   "id": "77d5ba77-a318-49da-ad67-34c692cfcc6c",
   "metadata": {},
   "outputs": [
    {
     "name": "stdout",
     "output_type": "stream",
     "text": [
      "[ 0  1  2  3  4  5  6  7  8  9 10 11]\n",
      "[ 0  3  6  9  1  4  7 10  2  5  8 11]\n"
     ]
    }
   ],
   "source": [
    "test3=np.array([[[1,2],[3,4]],[[5,6],[7,8]]])\n",
    "test3.flatten('F')\n",
    "\n",
    "print(a.flatten('C'))\n",
    "print(a.flatten('F'))\n"
   ]
  },
  {
   "cell_type": "markdown",
   "id": "f0fbab75-aaa1-40dd-a8dd-9ba1b6d1ec84",
   "metadata": {},
   "source": [
    "### 排序\n"
   ]
  },
  {
   "cell_type": "code",
   "execution_count": 213,
   "id": "b25bca24-b226-41e7-8daf-6c0c1c413beb",
   "metadata": {},
   "outputs": [
    {
     "name": "stdout",
     "output_type": "stream",
     "text": [
      "[[1 2 3]\n",
      " [0 2 5]\n",
      " [1 3 5]]\n",
      "[[1 2 3]\n",
      " [0 2 5]\n",
      " [1 3 5]]\n"
     ]
    }
   ],
   "source": [
    "arr=np.array([[2,3,1],\n",
    "              [5,2,0],\n",
    "              [3,1,5]])\n",
    "b=np.sort(arr) ## 預設 axis=1去排序\n",
    "c=np.sort(arr,axis=1)\n",
    "print(b)\n",
    "print(c)"
   ]
  },
  {
   "cell_type": "code",
   "execution_count": 214,
   "id": "4df858ce-17c7-4f4b-8495-d421c300145c",
   "metadata": {},
   "outputs": [
    {
     "name": "stdout",
     "output_type": "stream",
     "text": [
      "[[2 1 0]\n",
      " [3 2 1]\n",
      " [5 3 5]]\n"
     ]
    }
   ],
   "source": [
    "d=np.sort(arr,axis=0) ## axis=0, 垂直的元素by元素排序\n",
    "print(d)"
   ]
  },
  {
   "cell_type": "code",
   "execution_count": 219,
   "id": "4f98d0d6-436b-4c9e-ae90-44e25817137b",
   "metadata": {},
   "outputs": [
    {
     "name": "stdout",
     "output_type": "stream",
     "text": [
      "max index= 8\n",
      "min index= 0\n"
     ]
    }
   ],
   "source": [
    "arr=np.array([1,2,3,4,5,6,7,8,9])\n",
    "print(\"max index=\",np.argmax(arr))\n",
    "print(\"min index=\",np.argmin(arr))"
   ]
  },
  {
   "cell_type": "markdown",
   "id": "30ac7afb-a33e-4282-8b63-4a4ca36128b7",
   "metadata": {},
   "source": [
    "## 廣播\n"
   ]
  },
  {
   "cell_type": "code",
   "execution_count": 222,
   "id": "2f014ea4-ed7c-4399-95a6-3910d0e3e461",
   "metadata": {},
   "outputs": [
    {
     "name": "stdout",
     "output_type": "stream",
     "text": [
      "[[3 4 5]\n",
      " [6 7 8]]\n",
      "[[-1  0  1]\n",
      " [ 2  3  4]]\n",
      "[[ 2  4  6]\n",
      " [ 8 10 12]]\n",
      "[[0.5 1.  1.5]\n",
      " [2.  2.5 3. ]]\n"
     ]
    }
   ],
   "source": [
    "## 基本上就 numpy+-*/運算的背後實作\n",
    "a=np.array([[1,2,3],[4,5,6]])\n",
    "\n",
    "print(a+2)\n",
    "print(a-2)\n",
    "print(a*2)\n",
    "print(a/2)"
   ]
  },
  {
   "cell_type": "code",
   "execution_count": 223,
   "id": "362a31e8-c129-4653-ba7c-a5586827375b",
   "metadata": {},
   "outputs": [
    {
     "name": "stdout",
     "output_type": "stream",
     "text": [
      "[[ 8 10 12]\n",
      " [11 13 15]]\n",
      "[[-6 -6 -6]\n",
      " [-3 -3 -3]]\n",
      "[[ 7 16 27]\n",
      " [28 40 54]]\n",
      "[[0.14285714 0.25       0.33333333]\n",
      " [0.57142857 0.625      0.66666667]]\n"
     ]
    }
   ],
   "source": [
    "#若是另一個 array要來跟 a做 廣播運算, 同一個維度上數量要相等或等於1才能做\n",
    "b=np.array([7,8,9])\n",
    "print(a+b)\n",
    "print(a-b)\n",
    "print(a*b)\n",
    "print(a/b)"
   ]
  },
  {
   "cell_type": "markdown",
   "id": "84edf428-ffa8-468b-abde-1cce7ebfe29f",
   "metadata": {},
   "source": [
    "## 搜尋"
   ]
  },
  {
   "cell_type": "code",
   "execution_count": 228,
   "id": "fc67338b-0caf-49da-9ec8-ef01193dc9f9",
   "metadata": {},
   "outputs": [
    {
     "name": "stdout",
     "output_type": "stream",
     "text": [
      "[[1 2 3]\n",
      " [4 5 6]]\n",
      "(array([1, 1, 1]), array([0, 1, 2]))\n"
     ]
    }
   ],
   "source": [
    "# np.where\n",
    "a=np.array([[1, 2, 3], [4, 5, 6]])\n",
    "print(a)\n",
    "b=np.where(a>3)\n",
    "print(b) \n",
    "## >> (array([1, 1, 1]), array([0, 1, 2]))\n",
    "## 表示(1,0)=4>3, (1,1)=5>3, (1,2)=6>3 這3組是 a>3\n"
   ]
  },
  {
   "cell_type": "markdown",
   "id": "4805c27f-b8f7-40b7-b17c-25472cca91c9",
   "metadata": {},
   "source": [
    "## 算術計算"
   ]
  },
  {
   "cell_type": "code",
   "execution_count": 233,
   "id": "1ea2d99e-2a0d-4516-98b4-49e0fb7d68ad",
   "metadata": {},
   "outputs": [
    {
     "name": "stdout",
     "output_type": "stream",
     "text": [
      "[2 4 6]\n",
      "[[4 6]\n",
      " [6 9]]\n"
     ]
    }
   ],
   "source": [
    "a = np.array([1,2,3])\n",
    "b = np.array([2,2,2])\n",
    "c = np.multiply(a,b)\n",
    "print(c)      # [2 4 6]\n",
    "\n",
    "x = np.array([[2,3],[2,3]])\n",
    "y = np.array([[2,2],[3,3]])\n",
    "z = np.multiply(x,y)\n",
    "print(z)      # [[4 6] [6 9]]"
   ]
  },
  {
   "cell_type": "markdown",
   "id": "c6f63141-605e-493e-88e8-06225326c1f3",
   "metadata": {},
   "source": [
    "### 數學函數"
   ]
  },
  {
   "cell_type": "code",
   "execution_count": null,
   "id": "412e5ab0-a230-45d7-bd64-73b4c67dbd16",
   "metadata": {},
   "outputs": [],
   "source": [
    "# 三角函數\n",
    "# 四捨五入\n",
    "# sum()\n",
    "# prod()\n",
    "# sqrt()\n",
    "# gcd()\n",
    "# lcm()\n",
    "# absolute()\n"
   ]
  },
  {
   "cell_type": "markdown",
   "id": "dc5e1264-f74c-4f12-952c-6d0bc123e5fd",
   "metadata": {},
   "source": [
    "### Numpy中的隨機數\n",
    "比起 python built-in的 random多了對 array的方便功能"
   ]
  },
  {
   "cell_type": "code",
   "execution_count": 245,
   "id": "1a88ea1b-67fb-4b41-9e4a-3ea9ceae4de7",
   "metadata": {},
   "outputs": [
    {
     "name": "stdout",
     "output_type": "stream",
     "text": [
      "[[0.30888862 0.3527454 ]\n",
      " [0.15005932 0.79288808]\n",
      " [0.40758349 0.8089246 ]]\n"
     ]
    }
   ],
   "source": [
    "print(np.random.random((3,2)))"
   ]
  },
  {
   "cell_type": "code",
   "execution_count": 244,
   "id": "d80f2a8d-5171-4a1e-af17-1ec6c2635da1",
   "metadata": {},
   "outputs": [
    {
     "data": {
      "text/plain": [
       "array([0.23347016, 0.37974995, 0.344611  ])"
      ]
     },
     "execution_count": 244,
     "metadata": {},
     "output_type": "execute_result"
    }
   ],
   "source": [
    "np.random.random(3)"
   ]
  },
  {
   "cell_type": "code",
   "execution_count": 248,
   "id": "58e38e4b-74ac-4f76-b6ec-d899f18b2f15",
   "metadata": {},
   "outputs": [
    {
     "name": "stdout",
     "output_type": "stream",
     "text": [
      "[[33 78]\n",
      " [87 12]\n",
      " [80 53]]\n"
     ]
    }
   ],
   "source": [
    "print(np.random.randint(10,100,size=(3,2)))"
   ]
  },
  {
   "cell_type": "code",
   "execution_count": 254,
   "id": "323e1e1a-f17b-4f71-b8b7-b4c3f1910d56",
   "metadata": {},
   "outputs": [
    {
     "name": "stdout",
     "output_type": "stream",
     "text": [
      "[0.51023354 0.29423833 0.87488903 0.86753314 0.11993314 0.76745455\n",
      " 0.15735414 0.43227285 0.80676015 0.01655178]\n"
     ]
    }
   ],
   "source": [
    "a=np.random.random(10)\n",
    "np.random.shuffle(a)\n",
    "print(a)"
   ]
  },
  {
   "cell_type": "code",
   "execution_count": null,
   "id": "ed7acfc5-d27d-4955-b525-bbbab75c3254",
   "metadata": {},
   "outputs": [],
   "source": []
  },
  {
   "cell_type": "code",
   "execution_count": null,
   "id": "c57033d2-1823-4aaf-9dc8-b594927f1de2",
   "metadata": {},
   "outputs": [],
   "source": []
  },
  {
   "cell_type": "code",
   "execution_count": null,
   "id": "0dba5bec-f378-4d53-8337-2a486d6fe6e5",
   "metadata": {},
   "outputs": [],
   "source": []
  },
  {
   "cell_type": "code",
   "execution_count": null,
   "id": "90680b75-095c-4bd1-92d5-98522abef60f",
   "metadata": {},
   "outputs": [],
   "source": []
  },
  {
   "cell_type": "code",
   "execution_count": null,
   "id": "eafbdcd4-28b5-43ba-ad62-2dce2429d24c",
   "metadata": {},
   "outputs": [],
   "source": []
  },
  {
   "cell_type": "code",
   "execution_count": null,
   "id": "9bab1562-a47a-4db5-80ce-896ff394e350",
   "metadata": {},
   "outputs": [],
   "source": []
  }
 ],
 "metadata": {
  "kernelspec": {
   "display_name": "Python 3 (ipykernel)",
   "language": "python",
   "name": "python3"
  },
  "language_info": {
   "codemirror_mode": {
    "name": "ipython",
    "version": 3
   },
   "file_extension": ".py",
   "mimetype": "text/x-python",
   "name": "python",
   "nbconvert_exporter": "python",
   "pygments_lexer": "ipython3",
   "version": "3.10.16"
  }
 },
 "nbformat": 4,
 "nbformat_minor": 5
}
