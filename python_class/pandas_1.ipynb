{
 "cells": [
  {
   "cell_type": "markdown",
   "id": "5ba12ecb-c53e-4565-b768-5254750be4d8",
   "metadata": {},
   "source": [
    "## pandas"
   ]
  },
  {
   "cell_type": "code",
   "execution_count": 1,
   "id": "0b31d81e-64d3-445c-badb-5cd808c5c130",
   "metadata": {},
   "outputs": [
    {
     "name": "stdout",
     "output_type": "stream",
     "text": [
      "Season1    320\n",
      "Season2    180\n",
      "Season3    300\n",
      "Season4    405\n",
      "dtype: int64\n"
     ]
    }
   ],
   "source": [
    "import pandas as pd\n",
    "series1=pd.Series(data=[320,180,300,405], index=['Season1','Season2','Season3','Season4'])\n",
    "print(series1)"
   ]
  },
  {
   "cell_type": "code",
   "execution_count": 2,
   "id": "6c1043a0-1e23-4f76-874c-4722914c5745",
   "metadata": {},
   "outputs": [
    {
     "name": "stdout",
     "output_type": "stream",
     "text": [
      "Season1    320\n",
      "Season2    180\n",
      "Season3    300\n",
      "Season4    405\n",
      "dtype: int64\n"
     ]
    }
   ],
   "source": [
    "series2=pd.Series({'Season1':320, 'Season2':180, 'Season3':300, 'Season4':405})\n",
    "print(series2)"
   ]
  },
  {
   "cell_type": "code",
   "execution_count": 3,
   "id": "bfabf1d4-425f-49b3-b887-a9ec696c95f1",
   "metadata": {},
   "outputs": [
    {
     "name": "stdout",
     "output_type": "stream",
     "text": [
      "<class 'pandas.core.series.Series'>\n"
     ]
    }
   ],
   "source": [
    "print(type(series1))"
   ]
  },
  {
   "cell_type": "code",
   "execution_count": 9,
   "id": "56db742d-3148-4ee8-b7e4-653e7f7e86b6",
   "metadata": {},
   "outputs": [
    {
     "name": "stderr",
     "output_type": "stream",
     "text": [
      "C:\\Users\\user\\AppData\\Local\\Temp\\ipykernel_24040\\521908897.py:1: FutureWarning: Series.__getitem__ treating keys as positions is deprecated. In a future version, integer keys will always be treated as labels (consistent with DataFrame behavior). To access a value by position, use `ser.iloc[pos]`\n",
      "  series2[1]\n"
     ]
    },
    {
     "data": {
      "text/plain": [
       "np.int64(180)"
      ]
     },
     "execution_count": 9,
     "metadata": {},
     "output_type": "execute_result"
    }
   ],
   "source": [
    "series2[1]"
   ]
  },
  {
   "cell_type": "code",
   "execution_count": 10,
   "id": "39fc04d5-9d19-4864-bb14-763f9dfc2cf2",
   "metadata": {},
   "outputs": [
    {
     "name": "stdout",
     "output_type": "stream",
     "text": [
      "Season1    1100\n",
      "Season2     180\n",
      "Season3     300\n",
      "Season4     405\n",
      "dtype: int64\n"
     ]
    },
    {
     "name": "stderr",
     "output_type": "stream",
     "text": [
      "C:\\Users\\user\\AppData\\Local\\Temp\\ipykernel_24040\\2918289790.py:1: FutureWarning: Series.__setitem__ treating keys as positions is deprecated. In a future version, integer keys will always be treated as labels (consistent with DataFrame behavior). To set a value by position, use `ser.iloc[pos] = value`\n",
      "  series2[0]=1100\n"
     ]
    }
   ],
   "source": [
    "series2[0]=1100\n",
    "print(series2)"
   ]
  },
  {
   "cell_type": "code",
   "execution_count": 15,
   "id": "2ddf325e-7f95-4ed6-8a5e-054b38143218",
   "metadata": {},
   "outputs": [
    {
     "name": "stdout",
     "output_type": "stream",
     "text": [
      "1100\n",
      "<class 'numpy.int64'>\n",
      "1300 <class 'numpy.int64'>\n"
     ]
    }
   ],
   "source": [
    "print(series2['Season1'])\n",
    "a=series2['Season1']\n",
    "print(type(a))\n",
    "c=a+200\n",
    "print(c, type(c))"
   ]
  },
  {
   "cell_type": "code",
   "execution_count": 16,
   "id": "cd4d3c0b-1458-4252-bd27-e757337c6709",
   "metadata": {},
   "outputs": [
    {
     "name": "stdout",
     "output_type": "stream",
     "text": [
      "Season3    300\n",
      "Season4    405\n",
      "dtype: int64\n"
     ]
    }
   ],
   "source": [
    "print(series2[2:])"
   ]
  },
  {
   "cell_type": "code",
   "execution_count": 19,
   "id": "44ab2d9c-4569-4b6d-9d97-85a48e4eaec1",
   "metadata": {},
   "outputs": [
    {
     "data": {
      "text/plain": [
       "Season1    1100\n",
       "Season3     300\n",
       "dtype: int64"
      ]
     },
     "execution_count": 19,
     "metadata": {},
     "output_type": "execute_result"
    }
   ],
   "source": [
    "series2[['Season1','Season3']]"
   ]
  },
  {
   "cell_type": "code",
   "execution_count": 20,
   "id": "f38bd214-7f94-4f79-82d2-5c40f1a2ec26",
   "metadata": {},
   "outputs": [
    {
     "data": {
      "text/plain": [
       "Season1    1100\n",
       "Season3     300\n",
       "Season4     405\n",
       "dtype: int64"
      ]
     },
     "execution_count": 20,
     "metadata": {},
     "output_type": "execute_result"
    }
   ],
   "source": [
    "series2[series2>200]"
   ]
  },
  {
   "cell_type": "code",
   "execution_count": 22,
   "id": "0f79fc4a-b0bf-4ba7-a009-05e6f992815e",
   "metadata": {},
   "outputs": [
    {
     "data": {
      "text/plain": [
       "(Season1    1100\n",
       " Season2     180\n",
       " Season3     300\n",
       " Season4     405\n",
       " dtype: int64,\n",
       " Season1    320\n",
       " Season2    180\n",
       " Season3    300\n",
       " Season4    405\n",
       " dtype: int64)"
      ]
     },
     "execution_count": 22,
     "metadata": {},
     "output_type": "execute_result"
    }
   ],
   "source": [
    "series2, series1"
   ]
  },
  {
   "cell_type": "code",
   "execution_count": 25,
   "id": "afadb45e-54bf-4e65-b82b-f19ce070204f",
   "metadata": {},
   "outputs": [
    {
     "name": "stdout",
     "output_type": "stream",
     "text": [
      "series2 total= 1985\n",
      "series2 avg= 496.25\n",
      "series2 count= 4\n",
      "series2 std= 412.8634762242841\n"
     ]
    }
   ],
   "source": [
    "print(\"series2 total=\",series2.sum()) \n",
    "print(\"series2 avg=\",series2.mean()) \n",
    "print(\"series2 count=\",series2.count())\n",
    "print(\"series2 std=\",series2.std())"
   ]
  },
  {
   "cell_type": "code",
   "execution_count": null,
   "id": "c40b3c2b-fc05-4f28-90f2-1da39ccf8361",
   "metadata": {},
   "outputs": [],
   "source": []
  },
  {
   "cell_type": "code",
   "execution_count": null,
   "id": "a64ccf15-9a53-4e32-84df-d7f5f41caf74",
   "metadata": {},
   "outputs": [],
   "source": []
  },
  {
   "cell_type": "code",
   "execution_count": null,
   "id": "0a650b21-8eac-4521-a88f-4f499d86163f",
   "metadata": {},
   "outputs": [],
   "source": []
  },
  {
   "cell_type": "code",
   "execution_count": null,
   "id": "993a033c-8ae2-48d5-93e4-e54f967e283a",
   "metadata": {},
   "outputs": [],
   "source": []
  },
  {
   "cell_type": "code",
   "execution_count": null,
   "id": "8e13553c-9adb-426e-9c15-d565d991fece",
   "metadata": {},
   "outputs": [],
   "source": []
  },
  {
   "cell_type": "code",
   "execution_count": null,
   "id": "9e9b9264-6a24-4c2c-977f-9dad86a2c543",
   "metadata": {},
   "outputs": [],
   "source": []
  },
  {
   "cell_type": "code",
   "execution_count": null,
   "id": "ba454574-3c1c-4159-8572-e5eb53028ca7",
   "metadata": {},
   "outputs": [],
   "source": []
  }
 ],
 "metadata": {
  "kernelspec": {
   "display_name": "Python 3 (ipykernel)",
   "language": "python",
   "name": "python3"
  },
  "language_info": {
   "codemirror_mode": {
    "name": "ipython",
    "version": 3
   },
   "file_extension": ".py",
   "mimetype": "text/x-python",
   "name": "python",
   "nbconvert_exporter": "python",
   "pygments_lexer": "ipython3",
   "version": "3.10.16"
  }
 },
 "nbformat": 4,
 "nbformat_minor": 5
}
