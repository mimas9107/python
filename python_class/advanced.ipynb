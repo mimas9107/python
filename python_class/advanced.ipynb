{
 "cells": [
  {
   "cell_type": "markdown",
   "metadata": {},
   "source": [
    "## 1. try ... except... 例外處理"
   ]
  },
  {
   "cell_type": "code",
   "execution_count": 1,
   "metadata": {},
   "outputs": [
    {
     "name": "stdout",
     "output_type": "stream",
     "text": [
      "1\n"
     ]
    }
   ],
   "source": [
    "a=1\n",
    "print(a)"
   ]
  },
  {
   "cell_type": "code",
   "execution_count": 3,
   "metadata": {},
   "outputs": [
    {
     "name": "stdout",
     "output_type": "stream",
     "text": [
      "發生了錯誤: can only concatenate str (not \"int\") to str\n",
      "hello\n"
     ]
    }
   ],
   "source": [
    "try:                      # 使用 try，測試內容是否正確\n",
    "    a = input('輸入數字：')\n",
    "    print(a + 1)\n",
    "except Exception as e:                   # 如果 try 的內容發生錯誤，就執行 except 裡的內容\n",
    "    print(f'發生了錯誤: {e}')\n",
    "    \n",
    "print('hello')"
   ]
  },
  {
   "cell_type": "code",
   "execution_count": 5,
   "metadata": {},
   "outputs": [
    {
     "name": "stdout",
     "output_type": "stream",
     "text": [
      "使用沒有被定義的對象\n",
      "hello\n"
     ]
    }
   ],
   "source": [
    "try:\n",
    "    print(b)\n",
    "except TypeError:\n",
    "    print('型別發生錯誤')\n",
    "except NameError:\n",
    "    print('使用沒有被定義的對象')\n",
    "print('hello')"
   ]
  },
  {
   "cell_type": "code",
   "execution_count": 1,
   "metadata": {},
   "outputs": [
    {
     "name": "stdout",
     "output_type": "stream",
     "text": [
      "b>9 會出錯啦!No active exception to reraise\n"
     ]
    }
   ],
   "source": [
    "try:\n",
    "    b=eval(input('輸入b'))\n",
    "    if b>9:\n",
    "        raise\n",
    "    print(b)\n",
    "except Exception as err:\n",
    "    print(f'b>9 會出錯啦! {err}')"
   ]
  },
  {
   "cell_type": "code",
   "execution_count": 3,
   "metadata": {},
   "outputs": [
    {
     "name": "stdout",
     "output_type": "stream",
     "text": [
      "沒在範圍內\n",
      "繼續執行後面程式\n"
     ]
    }
   ],
   "source": [
    "try:\n",
    "    cc=int(input('輸入 1~9:'))\n",
    "    if cc>10:\n",
    "        raise ValueError('沒在範圍內')\n",
    "    print(cc)\n",
    "except ValueError as err:\n",
    "    print(f\"{err}\")\n",
    "print(\"繼續執行後面程式\")"
   ]
  },
  {
   "cell_type": "code",
   "execution_count": 6,
   "metadata": {},
   "outputs": [
    {
     "name": "stdout",
     "output_type": "stream",
     "text": [
      "不在範圍內\n",
      "繼續執行後面程式\n"
     ]
    }
   ],
   "source": [
    "try:\n",
    "    ddd=eval(input('輸入1~9: '))\n",
    "    if ddd>10:\n",
    "        assert False, '不在範圍內'\n",
    "    print(ddd)\n",
    "except AssertionError as err:\n",
    "    print(err)\n",
    "except: \n",
    "    print(\"好像有哪裡錯了~\")\n",
    "print(\"繼續執行後面程式\")"
   ]
  },
  {
   "cell_type": "code",
   "execution_count": null,
   "metadata": {},
   "outputs": [],
   "source": []
  },
  {
   "cell_type": "markdown",
   "metadata": {},
   "source": [
    "## 2. XX生成式, XX=[串列, 字典, 集合, 元組]\n",
    "##    [str(e) for e in [串列, 字典, 集合, 元組]]"
   ]
  },
  {
   "cell_type": "code",
   "execution_count": 12,
   "metadata": {},
   "outputs": [
    {
     "name": "stdout",
     "output_type": "stream",
     "text": [
      "['a1', 'b2', 'c3', 'd4']\n"
     ]
    }
   ],
   "source": [
    "L='abcd'\n",
    "L2=[L[e-1]+str(e) for e in range(1,5)]\n",
    "print(L2)"
   ]
  },
  {
   "cell_type": "code",
   "execution_count": 18,
   "metadata": {},
   "outputs": [
    {
     "name": "stdout",
     "output_type": "stream",
     "text": [
      "[10, 1]\n",
      "[50, 500]\n"
     ]
    }
   ],
   "source": [
    "a=[[10,20,30,40,50],[100,200,500,2,1]]\n",
    "b=[]\n",
    "c=[]\n",
    "for i in a:\n",
    "    MIN=min(i)\n",
    "    MAX=max(i)\n",
    "    b.append(MIN)\n",
    "    c.append(MAX)\n",
    "\n",
    "print(b)\n",
    "print(c)"
   ]
  },
  {
   "cell_type": "code",
   "execution_count": 19,
   "metadata": {},
   "outputs": [
    {
     "name": "stdout",
     "output_type": "stream",
     "text": [
      "[2, 4, 6, 8]\n"
     ]
    }
   ],
   "source": [
    "L=[i for i in range(1,10) if i%2==0]\n",
    "print(L)"
   ]
  },
  {
   "cell_type": "code",
   "execution_count": 20,
   "metadata": {},
   "outputs": [
    {
     "name": "stdout",
     "output_type": "stream",
     "text": [
      "[100, 2, 100, 4, 100, 6, 100, 8, 100]\n"
     ]
    }
   ],
   "source": [
    "L=[i if i%2==0 else 100 for i in range(1,10)]\n",
    "print(L)"
   ]
  },
  {
   "cell_type": "code",
   "execution_count": 21,
   "metadata": {},
   "outputs": [
    {
     "name": "stdout",
     "output_type": "stream",
     "text": [
      "{100: 10000, 2: 4, 4: 16, 6: 36, 8: 64}\n"
     ]
    }
   ],
   "source": [
    "## dict\n",
    "result={i:i*i for i in L}\n",
    "print(result)"
   ]
  },
  {
   "cell_type": "code",
   "execution_count": 26,
   "metadata": {},
   "outputs": [
    {
     "name": "stdout",
     "output_type": "stream",
     "text": [
      "{17, 2, 10, 5}\n"
     ]
    }
   ],
   "source": [
    "## set\n",
    "result={i*i+1 for i in range(1,5)}\n",
    "print(result)"
   ]
  },
  {
   "cell_type": "code",
   "execution_count": 41,
   "metadata": {},
   "outputs": [
    {
     "name": "stdout",
     "output_type": "stream",
     "text": [
      "(1, 2, 3, 4, 5, 6, 7, 8)\n",
      "<class 'str'>\n",
      "2\n",
      "3\n"
     ]
    }
   ],
   "source": [
    "## tuple 要這樣用:\n",
    "result=tuple(i for i in range(1,9))\n",
    "print(result)\n",
    "\n",
    "\n",
    "# 下面這樣()變成 generator: 需要調用 .__next__() 才會依序取值出來\n",
    "result=(str(i) for i in range(1,9))\n",
    "print(type(result.__next__()))\n",
    "print(result.__next__())\n",
    "print(result.__next__())\n",
    "\n"
   ]
  },
  {
   "cell_type": "markdown",
   "metadata": {},
   "source": [
    "## 3. 產生器 generator\n",
    "- 產生器是記錄「產生值的方法」，而不是記錄值。\n",
    "- 使用產生器中「產生的值只能取用一次」，無法重新啟動或重新取得 ( 因為不會紀錄 )。"
   ]
  },
  {
   "cell_type": "code",
   "execution_count": 60,
   "metadata": {},
   "outputs": [
    {
     "name": "stdout",
     "output_type": "stream",
     "text": [
      "[0, 1, 2, 3, 4, 5, 6, 7, 8, 9]\n",
      "<generator object <genexpr> at 0x0000020CEF689E00>\n"
     ]
    }
   ],
   "source": [
    "a = [i for i in range(10)]  # 串列生成式\n",
    "b = (i for i in range(10))  # 產生器表示式\n",
    "print(a)   # [0, 1, 2, 3, 4, 5, 6, 7, 8, 9]\n",
    "print(b)   # <generator object <genexpr> at 0x7fbb6facba50>"
   ]
  },
  {
   "cell_type": "code",
   "execution_count": 61,
   "metadata": {},
   "outputs": [
    {
     "name": "stdout",
     "output_type": "stream",
     "text": [
      "0\n",
      "1\n",
      "2\n",
      "3\n",
      "4\n",
      "5\n",
      "6\n",
      "7\n",
      "8\n",
      "9\n"
     ]
    }
   ],
   "source": [
    "for ii in range(1,11):\n",
    "    print(next(b))"
   ]
  },
  {
   "cell_type": "code",
   "execution_count": 78,
   "metadata": {},
   "outputs": [
    {
     "name": "stdout",
     "output_type": "stream",
     "text": [
      "<generator object f at 0x0000020CEF6A80B0>\n"
     ]
    }
   ],
   "source": [
    "def f(max):\n",
    "    n=0\n",
    "    a=2\n",
    "    while(n<max):\n",
    "        yield(a)\n",
    "        a=a**2\n",
    "        n+=1\n",
    "\n",
    "print(f(5))"
   ]
  },
  {
   "cell_type": "code",
   "execution_count": 79,
   "metadata": {},
   "outputs": [],
   "source": [
    "g=f(5)\n",
    "# 此時的 g 相當於 \n",
    "# def f(5)\n",
    "#     n=0\n",
    "#     a=2\n",
    "#     while(n<5):\n",
    "#         yield(a)\n",
    "#         a=a**2\n",
    "#         n+=1"
   ]
  },
  {
   "cell_type": "code",
   "execution_count": 81,
   "metadata": {},
   "outputs": [
    {
     "name": "stdout",
     "output_type": "stream",
     "text": [
      "4\n"
     ]
    }
   ],
   "source": [
    "print(next(g))"
   ]
  },
  {
   "cell_type": "code",
   "execution_count": 82,
   "metadata": {},
   "outputs": [
    {
     "name": "stdout",
     "output_type": "stream",
     "text": [
      "2 3 4 5 6 7 8 9 10 11 12 13 14 15 16 17 18 19 20 21 22 23 24 25 26 27 28 29 30 31 32 33 34 35 36 37 38 39 40 41 42 43 44 45 46 47 48 49 50 51 52 53 54 55 56 57 58 59 60 61 62 63 64 65 66 67 68 69 70 71 72 73 74 75 76 77 78 79 80 81 82 83 84 85 86 87 88 89 90 91 92 93 94 95 96 97 98 99\n"
     ]
    }
   ],
   "source": [
    "a=range(2,100)\n",
    "print(*a)"
   ]
  },
  {
   "cell_type": "code",
   "execution_count": 88,
   "metadata": {},
   "outputs": [
    {
     "name": "stdout",
     "output_type": "stream",
     "text": [
      "2 4 16 256 65536\n"
     ]
    }
   ],
   "source": [
    "g=f(5)\n",
    "\n",
    "print(*g) ## 相當於解開產生器... 一次倒出來產生器的結果"
   ]
  },
  {
   "cell_type": "code",
   "execution_count": 89,
   "metadata": {},
   "outputs": [
    {
     "name": "stdout",
     "output_type": "stream",
     "text": [
      "2 3 5 7 11 13 17 19 23 29 31 37 41 43 47 53 59 61 67 71 73 79 83 89 97\n"
     ]
    }
   ],
   "source": [
    "def prime(max):                   # 定義一個 gg 函式\n",
    "    s = set()                    # 設定一個空集合\n",
    "    for n in range(2,max):       # 從 range(2, max) 當中開始依序找質數\n",
    "        if all(n%i>0 for i in s):  # 判斷如果 i 已經存在於集合，且除以集合中的值會有餘數 ( 整除表示非質數 )\n",
    "            s.add(n)                 # 將該數字加入集合 ( 表示質數 )\n",
    "            yield n                  # 使用 yield 記錄狀態\n",
    "print(*prime(100))                # 印出結果"
   ]
  },
  {
   "cell_type": "code",
   "execution_count": null,
   "metadata": {},
   "outputs": [],
   "source": []
  },
  {
   "cell_type": "markdown",
   "metadata": {},
   "source": [
    "## 4. Class複習\n"
   ]
  },
  {
   "cell_type": "code",
   "execution_count": 2,
   "metadata": {},
   "outputs": [
    {
     "name": "stdout",
     "output_type": "stream",
     "text": [
      "hello\n",
      "I'm playing ball\n",
      "<__main__.human object at 0x000002B721D77B50> ?\n"
     ]
    }
   ],
   "source": [
    "class human():\n",
    "    def __init__(self):\n",
    "        self.eye=2\n",
    "        self.ear=2\n",
    "        self.nose=1\n",
    "        self.mouth=1\n",
    "    \n",
    "    def say(self,msg):\n",
    "        print(msg)\n",
    "        return msg\n",
    "    \n",
    "    def play(self,thing):\n",
    "        print(f\"I'm playing {thing}\")\n",
    "        return thing\n",
    "    \n",
    "    def xfile(kkk, mmm):\n",
    "        ## 實驗一下如果第一個引數沒有寫 self, 改成 kkk會如何?\n",
    "        print(kkk,mmm) \n",
    "\n",
    "me=human()\n",
    "me.say('hello')\n",
    "me.play('ball')\n",
    "me.xfile('?')"
   ]
  },
  {
   "cell_type": "code",
   "execution_count": 3,
   "metadata": {},
   "outputs": [
    {
     "name": "stdout",
     "output_type": "stream",
     "text": [
      "2\n",
      "2\n",
      "justin\n"
     ]
    }
   ],
   "source": [
    "## 外部 實例化後添加的屬性:\n",
    "me.hand=2\n",
    "me.leg=2\n",
    "me.name='justin'\n",
    "\n",
    "print(me.hand)\n",
    "print(me.leg)\n",
    "print(me.name)"
   ]
  },
  {
   "cell_type": "code",
   "execution_count": 4,
   "metadata": {},
   "outputs": [
    {
     "name": "stdout",
     "output_type": "stream",
     "text": [
      "???\n"
     ]
    }
   ],
   "source": [
    "## 實例化後複寫 override method/屬性\n",
    "me.play='???'\n",
    "print(me.play)"
   ]
  },
  {
   "cell_type": "code",
   "execution_count": 110,
   "metadata": {},
   "outputs": [
    {
     "name": "stdout",
     "output_type": "stream",
     "text": [
      "1\n",
      "None\n"
     ]
    }
   ],
   "source": [
    "## 實例化後複寫 __init__ 有沒有意義跟作用?\n",
    "me.__init__='??????'\n",
    "print(me.nose)\n",
    "\n"
   ]
  },
  {
   "cell_type": "markdown",
   "metadata": {},
   "source": [
    "### 類別裡有些屬性不希望被外部更動，就能夠使用 @property 的裝飾器，將該屬性設為唯讀屬性"
   ]
  },
  {
   "cell_type": "code",
   "execution_count": 6,
   "metadata": {},
   "outputs": [],
   "source": [
    "class human2():\n",
    "    \n",
    "    def __init__(self):\n",
    "        self.eye=2\n",
    "        self.ear=2\n",
    "        self.nose=1\n",
    "        \n",
    "        self.mouth=1\n",
    "    \n",
    "    @property\n",
    "    def say(self,msg):\n",
    "        print(msg)\n",
    "        return msg\n",
    "    \n",
    "    def play(self,thing):\n",
    "        print(f\"I'm playing {thing}\")\n",
    "        return thing\n",
    "    \n",
    "    def xfile(kkk, mmm):\n",
    "        ## 實驗一下如果第一個引數沒有寫 self, 改成 kkk會如何?\n",
    "        print(kkk,mmm) "
   ]
  },
  {
   "cell_type": "code",
   "execution_count": 10,
   "metadata": {},
   "outputs": [
    {
     "ename": "TypeError",
     "evalue": "human2.say() missing 1 required positional argument: 'msg'",
     "output_type": "error",
     "traceback": [
      "\u001b[1;31m---------------------------------------------------------------------------\u001b[0m",
      "\u001b[1;31mTypeError\u001b[0m                                 Traceback (most recent call last)",
      "Cell \u001b[1;32mIn[10], line 2\u001b[0m\n\u001b[0;32m      1\u001b[0m you\u001b[38;5;241m=\u001b[39mhuman2()\n\u001b[1;32m----> 2\u001b[0m \u001b[43myou\u001b[49m\u001b[38;5;241;43m.\u001b[39;49m\u001b[43msay\u001b[49m(\u001b[38;5;124m'\u001b[39m\u001b[38;5;124m1111\u001b[39m\u001b[38;5;124m'\u001b[39m)\n",
      "\u001b[1;31mTypeError\u001b[0m: human2.say() missing 1 required positional argument: 'msg'"
     ]
    }
   ],
   "source": [
    "you=human2()\n",
    "you.say('1111')\n"
   ]
  },
  {
   "cell_type": "markdown",
   "metadata": {},
   "source": [
    "### 繼承中的方法複寫"
   ]
  },
  {
   "cell_type": "code",
   "execution_count": 19,
   "metadata": {},
   "outputs": [
    {
     "name": "stdout",
     "output_type": "stream",
     "text": [
      "2\n"
     ]
    }
   ],
   "source": [
    "class Parent():\n",
    "    def __init__(self):\n",
    "        self.eye=2\n",
    "        self.ear=2\n",
    "        self.nose=1\n",
    "        self.leg=2\n",
    "\n",
    "\n",
    "class Child(Parent):\n",
    "    def __init__(self):\n",
    "        self.hand=3\n",
    "\n",
    "oxxo=Child()\n",
    "# print(oxxo.eye) ## 這樣會噴錯, 因為 child的 __init__ override了 parent的 __init__,\n",
    "\n",
    "class Child2(Parent):\n",
    "    def __init__(self):\n",
    "        super().__init__() ## 這樣 Child2就繼承了 Parent的屬性/方法,\n",
    "        self.tail=1\n",
    "\n",
    "xoox=Child2()\n",
    "print(xoox.ear)"
   ]
  },
  {
   "cell_type": "code",
   "execution_count": 2,
   "metadata": {},
   "outputs": [
    {
     "name": "stdout",
     "output_type": "stream",
     "text": [
      "$1000\n"
     ]
    }
   ],
   "source": [
    "class grandpa():\n",
    "    def __init__(self):\n",
    "        self.mouth=1\n",
    "    def __money(self): ## 私有方法\n",
    "        print('$1000')\n",
    "    def getMoney(self):\n",
    "        self.__money()\n",
    "\n",
    "class father(grandpa):\n",
    "    def skill(self):\n",
    "        print('painting')\n",
    "\n",
    "class son(father):\n",
    "    def play(self):\n",
    "        print('football')\n",
    "\n",
    "oxxo=son()\n",
    "\n",
    "# oxxo.__money() ## son存取不到 grandpa的私有方法! 噴錯!\n",
    "oxxo.getMoney()"
   ]
  },
  {
   "cell_type": "markdown",
   "metadata": {},
   "source": [
    "## 5. import"
   ]
  },
  {
   "cell_type": "code",
   "execution_count": 24,
   "metadata": {},
   "outputs": [],
   "source": [
    "import mod1"
   ]
  },
  {
   "cell_type": "code",
   "execution_count": 26,
   "metadata": {},
   "outputs": [
    {
     "name": "stdout",
     "output_type": "stream",
     "text": [
      "Hello! this is mod1.py, and you r calling talk() function!\n"
     ]
    },
    {
     "data": {
      "text/plain": [
       "(True, 'Hello! this is mod1.py, and you r calling talk() function!')"
      ]
     },
     "execution_count": 26,
     "metadata": {},
     "output_type": "execute_result"
    }
   ],
   "source": [
    "mod1.talk()"
   ]
  },
  {
   "cell_type": "markdown",
   "metadata": {},
   "source": [
    "## 6. 匿名函數\n",
    "### lambda"
   ]
  },
  {
   "cell_type": "code",
   "execution_count": 27,
   "metadata": {},
   "outputs": [
    {
     "name": "stdout",
     "output_type": "stream",
     "text": [
      "你的名字\n"
     ]
    }
   ],
   "source": [
    "#傳統的函數\n",
    "def hello(title):\n",
    "    print(title)\n",
    "\n",
    "hello('你的名字')"
   ]
  },
  {
   "cell_type": "code",
   "execution_count": 4,
   "metadata": {},
   "outputs": [
    {
     "name": "stdout",
     "output_type": "stream",
     "text": [
      "我的名字2\n"
     ]
    }
   ],
   "source": [
    "#匿名函數\n",
    "foo = lambda title: print(title)\n",
    "\n",
    "foo('我的名字2')"
   ]
  },
  {
   "cell_type": "code",
   "execution_count": 5,
   "metadata": {},
   "outputs": [
    {
     "data": {
      "text/plain": [
       "23"
      ]
     },
     "execution_count": 5,
     "metadata": {},
     "output_type": "execute_result"
    }
   ],
   "source": [
    "#多參數 + if 的匿名函數寫法:\n",
    "bar = lambda x,y: 5*x+2*(y if y>10 else y-10)\n",
    "\n",
    "bar(5,9)"
   ]
  },
  {
   "cell_type": "code",
   "execution_count": 6,
   "metadata": {},
   "outputs": [
    {
     "name": "stdout",
     "output_type": "stream",
     "text": [
      "[0, 1, 2, 3, 4]\n",
      "[0, 1, 2, 3, 4]\n",
      "[0, 1, 2, 3, 4]\n"
     ]
    }
   ],
   "source": [
    "# 搭配 for loop\n",
    "def x(n):\n",
    "    a=list(range(n))\n",
    "    return a\n",
    "print(x(5)) ## 傳統呼叫函數\n",
    "\n",
    "y=lambda n: [i for i in range(n)]\n",
    "print(y(5)) ## 用匿名函數\n",
    "\n",
    "L=[j for j in range(5)]\n",
    "print(L)    ## 用串列生成式"
   ]
  },
  {
   "cell_type": "code",
   "execution_count": 40,
   "metadata": {},
   "outputs": [
    {
     "name": "stdout",
     "output_type": "stream",
     "text": [
      "<map object at 0x000002B720C5B610>\n",
      "1\n",
      "4 9 16 25 36 49 64 81 100\n",
      "[]\n"
     ]
    }
   ],
   "source": [
    "## 搭配 map的方法\n",
    "a=list(range(1,11))\n",
    "func=lambda x: x*x\n",
    "b=map(func,a) ## map物件是 iterable,\n",
    "\n",
    "# 回憶一下 3. 的產生器的取值方式\n",
    "print(b) \n",
    "print(next(b))\n",
    "print(*b)\n",
    "print(list(b)) # @@ 前面都 pop完了, 即使是 list()也轉出空值\n"
   ]
  },
  {
   "cell_type": "code",
   "execution_count": 41,
   "metadata": {},
   "outputs": [
    {
     "name": "stdout",
     "output_type": "stream",
     "text": [
      "<filter object at 0x000002B720BF9E40>\n",
      "6 7 8 9 10\n"
     ]
    }
   ],
   "source": [
    "## 搭配 filter的方法\n",
    "c=list(range(1,11))\n",
    "func2=lambda x: x>5\n",
    "d=filter(func2, c)\n",
    "print(d)\n",
    "print(*d)"
   ]
  },
  {
   "cell_type": "code",
   "execution_count": 47,
   "metadata": {},
   "outputs": [
    {
     "name": "stdout",
     "output_type": "stream",
     "text": [
      "[[2, 1], [7, 1], [4, 3], [6, 5], [3, 8], [-5, 9]]\n"
     ]
    }
   ],
   "source": [
    "## 搭配 sorted\n",
    "a=[[2,1],[4,3],[3,8],[6,5],[-5,9],[7,1]]\n",
    "b=sorted(a, key=lambda x:x[1])\n",
    "print(b)"
   ]
  },
  {
   "cell_type": "markdown",
   "metadata": {},
   "source": [
    "## 7. 函數引數 *args, **kwargs"
   ]
  },
  {
   "cell_type": "code",
   "execution_count": null,
   "metadata": {},
   "outputs": [],
   "source": []
  },
  {
   "cell_type": "markdown",
   "metadata": {},
   "source": [
    "## 8. 裝飾器\n",
    "### 裝飾器本質上是一個 Python 函式或類 ( class )，它可以讓其他函式或類，在不需要做任何代碼修改的前提下增加額外功能，裝飾器的返回值也是一個函式或類對象"
   ]
  },
  {
   "cell_type": "code",
   "execution_count": 51,
   "metadata": {},
   "outputs": [
    {
     "name": "stdout",
     "output_type": "stream",
     "text": [
      "makeup...\n",
      "go!!!!\n"
     ]
    }
   ],
   "source": [
    "def a(func):\n",
    "    print('makeup...')\n",
    "    return func\n",
    "\n",
    "def b():\n",
    "    print('go!!!!')\n",
    "\n",
    "b = a(b)\n",
    "b()\n"
   ]
  },
  {
   "cell_type": "code",
   "execution_count": 52,
   "metadata": {},
   "outputs": [
    {
     "name": "stdout",
     "output_type": "stream",
     "text": [
      "makeup...\n",
      "go!!!!\n"
     ]
    }
   ],
   "source": [
    "def a(func):\n",
    "    print('makeup...')\n",
    "    return func\n",
    "\n",
    "# 裝飾器寫在 b 的前面，表示裝飾 b\n",
    "@a \n",
    "def b(): ## 相當於先把 b() 塞給 a(...) => 再賦值給 b, \n",
    "    print('go!!!!')\n",
    "\n",
    "## 後續呼叫 b() 就連同 a的功能一起執行\n",
    "b() \n",
    "# makeup...\n",
    "# go!!!!"
   ]
  },
  {
   "cell_type": "code",
   "execution_count": 55,
   "metadata": {},
   "outputs": [
    {
     "name": "stdout",
     "output_type": "stream",
     "text": [
      "makeup....\n",
      "Go!\n",
      "None\n"
     ]
    }
   ],
   "source": [
    "def aa(func):\n",
    "    def c(m):\n",
    "        print('makeup....')\n",
    "        return func(m)\n",
    "    return c\n",
    "\n",
    "@aa\n",
    "def b(msg):\n",
    "    print(msg)\n",
    "\n",
    "print(b('Go!'))\n"
   ]
  },
  {
   "cell_type": "code",
   "execution_count": 58,
   "metadata": {},
   "outputs": [
    {
     "name": "stdout",
     "output_type": "stream",
     "text": [
      "([1, 2, 3, 4, 56],)\n",
      "ok...\n",
      "go!!!!\n"
     ]
    }
   ],
   "source": [
    "#帶參數的用法:\n",
    "def a(func):\n",
    "    def c(*args, **kwargs):\n",
    "        print(args)\n",
    "        print(kwargs)\n",
    "        print('ok...')\n",
    "        return func(*args, **kwargs)\n",
    "    def d(*args,**kwargs):\n",
    "        print(args)\n",
    "        print('ok...')\n",
    "        return func(*args)\n",
    "    return d\n",
    "\n",
    "@a\n",
    "def b(*args, **kwargs):\n",
    "    print('go!!!!')\n",
    "\n",
    "b([1,2,3,4,56], x=1, y=2, z=3)\n",
    "\n",
    "# ([123, 456],)\n",
    "# {'x': 1, 'y': 2, 'z': 3}\n",
    "# ok...\n",
    "# go!!!!"
   ]
  },
  {
   "cell_type": "markdown",
   "metadata": {},
   "source": [
    "## 9. 閉包 closure\n",
    "### 閉包可以保存在函式作用範圍內的狀態，不會受到其他函式的影響，\n",
    "### 且無法從其他函式取得閉包內的資料，也可避免建立許多全域變數互相干擾。"
   ]
  },
  {
   "cell_type": "code",
   "execution_count": 65,
   "metadata": {},
   "outputs": [
    {
     "data": {
      "text/plain": [
       "<function __main__.a.<locals>.b()>"
      ]
     },
     "execution_count": 65,
     "metadata": {},
     "output_type": "execute_result"
    }
   ],
   "source": [
    "def a(msg):\n",
    "    i=\"!@#$\"\n",
    "    def b():\n",
    "        print(msg+i)\n",
    "    return b\n",
    "a(\"hello\") ## 會印出 <function __main__.a.<locals>.b()> <= 傳回的是: main底下的 a函數裏頭的 b函數()."
   ]
  },
  {
   "cell_type": "code",
   "execution_count": 68,
   "metadata": {},
   "outputs": [
    {
     "name": "stdout",
     "output_type": "stream",
     "text": [
      "a= [10]\n",
      "a= [10, 11]\n",
      "a= [10, 11, 12]\n"
     ]
    },
    {
     "data": {
      "text/plain": [
       "11.0"
      ]
     },
     "execution_count": 68,
     "metadata": {},
     "output_type": "execute_result"
    }
   ],
   "source": [
    "def count():\n",
    "    a=[]\n",
    "    def avg(val):\n",
    "        a.append(val)\n",
    "        print(f\"a= {a}\")\n",
    "        return sum(a)/len(a)\n",
    "    return avg\n",
    "\n",
    "test=count()\n",
    "test(10)\n",
    "test(11)\n",
    "test(12)"
   ]
  },
  {
   "cell_type": "markdown",
   "metadata": {},
   "source": [
    "## 10. 迭代物件轉換\n"
   ]
  },
  {
   "cell_type": "code",
   "execution_count": 76,
   "metadata": {},
   "outputs": [
    {
     "name": "stdout",
     "output_type": "stream",
     "text": [
      "0\n",
      "跑第0次, aiter next取值 = 1\n",
      "跑第1次, aiter next取值 = 2\n",
      "跑第2次, aiter next取值 = 3\n",
      "用 *解開 aiter=  4 5 6 7 8 9\n"
     ]
    }
   ],
   "source": [
    "aiter=iter([i for i in range(10)])\n",
    "print(next(aiter))\n",
    "for i in range(3):\n",
    "    print(f\"跑第{i}次, aiter next取值 = {next(aiter)}\")\n",
    "print(\"用 *解開 aiter= \",*aiter)\n"
   ]
  },
  {
   "cell_type": "markdown",
   "metadata": {},
   "source": [
    "## 11. 迭代物件操作"
   ]
  },
  {
   "attachments": {
    "image.png": {
     "image/png": "[encoded data removed]"
    }
   },
   "cell_type": "markdown",
   "metadata": {},
   "source": [
    "![image.png](attachment:image.png)"
   ]
  },
  {
   "cell_type": "code",
   "execution_count": 80,
   "metadata": {},
   "outputs": [
    {
     "name": "stdout",
     "output_type": "stream",
     "text": [
      "[-4, -3, -2, -1, 1, 2, 3, 4, 5, 6, 7, 8, 9]\n"
     ]
    }
   ],
   "source": [
    "a=list(range(-4,10))\n",
    "b=filter(lambda x: x*x, a)\n",
    "print(list(b)) ## <= filter的話 非 0的就是 true, 所以 0會被過濾掉,"
   ]
  },
  {
   "cell_type": "code",
   "execution_count": 82,
   "metadata": {},
   "outputs": [
    {
     "name": "stdout",
     "output_type": "stream",
     "text": [
      "False\n",
      "True\n"
     ]
    }
   ],
   "source": [
    "a=[i for i in range(10)]\n",
    "print(all(a)) ## a=[0,1,2,3,...,9] 因為包含 0(False), 所以 all(a)回傳 False,\n",
    "\n",
    "b=[e for e in range(1,10)]\n",
    "print(all(b)) ## b=[1,2,3,...,9] 沒有包含 0(False), 所以 all(b)回傳 True, \n",
    "\n",
    "## 因此 all(x) 相當於 x做 AND運算,\n"
   ]
  },
  {
   "cell_type": "code",
   "execution_count": 84,
   "metadata": {},
   "outputs": [
    {
     "name": "stdout",
     "output_type": "stream",
     "text": [
      "True\n",
      "True\n"
     ]
    }
   ],
   "source": [
    "## 所以承上概念 any(x) 是 x中只要有不為0 (True), 相當於 OR運算,\n",
    "print(any(a))\n",
    "print(any(b))"
   ]
  },
  {
   "cell_type": "code",
   "execution_count": 90,
   "metadata": {},
   "outputs": [
    {
     "name": "stdout",
     "output_type": "stream",
     "text": [
      "(1, 5) (2, 6) (3, 7) (4, 8)\n",
      "(1, 9) (2, 10) (3, 11)\n",
      "(9, 5) (10, 6) (11, 7)\n"
     ]
    }
   ],
   "source": [
    "## zip() 打包, 一定要會用!\n",
    "## 以元素少的(短的)為主,打包成 tuple\n",
    "\n",
    "a=[1,2,3,4]\n",
    "b=[5,6,7,8]\n",
    "\n",
    "c=[9,10,11]\n",
    "\n",
    "test1 = zip(a,b)\n",
    "print(*test1)\n",
    "\n",
    "test2 = zip(a,c)\n",
    "print(*test2)\n",
    "\n",
    "test3 = zip(c,b)\n",
    "print(*test3)"
   ]
  },
  {
   "cell_type": "code",
   "execution_count": null,
   "metadata": {},
   "outputs": [],
   "source": []
  },
  {
   "cell_type": "code",
   "execution_count": null,
   "metadata": {},
   "outputs": [],
   "source": []
  },
  {
   "cell_type": "code",
   "execution_count": null,
   "metadata": {},
   "outputs": [],
   "source": []
  },
  {
   "cell_type": "code",
   "execution_count": null,
   "metadata": {},
   "outputs": [],
   "source": []
  }
 ],
 "metadata": {
  "kernelspec": {
   "display_name": "myflutter",
   "language": "python",
   "name": "python3"
  },
  "language_info": {
   "codemirror_mode": {
    "name": "ipython",
    "version": 3
   },
   "file_extension": ".py",
   "mimetype": "text/x-python",
   "name": "python",
   "nbconvert_exporter": "python",
   "pygments_lexer": "ipython3",
   "version": "3.10.16"
  }
 },
 "nbformat": 4,
 "nbformat_minor": 2
}
